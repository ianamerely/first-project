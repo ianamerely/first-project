{
  "nbformat": 4,
  "nbformat_minor": 0,
  "metadata": {
    "colab": {
      "provenance": []
    },
    "kernelspec": {
      "name": "python3",
      "display_name": "Python 3"
    },
    "language_info": {
      "name": "python"
    }
  },
  "cells": [
    {
      "cell_type": "code",
      "execution_count": 1,
      "metadata": {
        "colab": {
          "base_uri": "https://localhost:8080/"
        },
        "id": "tLpwlkrOi1SB",
        "outputId": "6ad94011-14ed-4426-95a3-88436ba02e81",
        "collapsed": true,
        "cellView": "form"
      },
      "outputs": [
        {
          "output_type": "stream",
          "name": "stdout",
          "text": [
            "Mounted at /content/drive\n"
          ]
        }
      ],
      "source": [
        "# @title Установка и импорты\n",
        "!pip install openai langchain langchain_openai langchain_community tiktoken faiss-cpu pytz openpyxl fuzzywuzzy transliterate python-Levenshtein\n",
        "!pip install nest_asyncio\n",
        "\n",
        "from IPython.core.display import clear_output\n",
        "from IPython.display import HTML, display\n",
        "clear_output()\n",
        "import openpyxl\n",
        "import os\n",
        "import getpass\n",
        "import openai\n",
        "import re\n",
        "import time\n",
        "import pytz\n",
        "from datetime import datetime\n",
        "from fuzzywuzzy import fuzz, process\n",
        "from transliterate import translit\n",
        "import asyncio\n",
        "from langchain.docstore.document import Document\n",
        "from langchain.text_splitter import RecursiveCharacterTextSplitter\n",
        "from langchain_openai import OpenAIEmbeddings\n",
        "from langchain_community.vectorstores import FAISS\n",
        "from openai import AsyncOpenAI\n",
        "from oauth2client.service_account import ServiceAccountCredentials\n",
        "\n",
        "from google.colab import drive, userdata\n",
        "drive.mount('/content/drive', force_remount=True)\n",
        "\n",
        "try:\n",
        "  openai_key = userdata.get('OPENAI_API_KEY')\n",
        "except Exception as e:\n",
        "  openai_key = getpass.getpass(\"OpenAI API Key:\")\n",
        "os.environ[\"OPENAI_API_KEY\"] = openai_key\n",
        "\n",
        "client = AsyncOpenAI()\n",
        "\n",
        "\n",
        "# Цветной print\n",
        "def print_color(text, color='black'):\n",
        "    color_codes = {\n",
        "        'black': '#000000',\n",
        "        'red': '#FF4136',\n",
        "        'green': '#2ECC40',\n",
        "        'blue': '#0074D9',\n",
        "        'yellow': '#FFDC00',\n",
        "        'purple': '#B10DC9',\n",
        "        'cyan': '#7FDBFF',\n",
        "        'white': '#FFFFFF',\n",
        "        'orange': '#FF851B',\n",
        "        'pink': '#FF69B4'\n",
        "    }\n",
        "\n",
        "    color_code = color_codes.get(color.lower(), color)\n",
        "    display(HTML(f'<text style=\"color:{color_code}\">{text}</text>'))\n",
        "\n",
        "# Функция переноса теста в ячейках\n",
        "def set_css():\n",
        "  display(HTML('''\n",
        "  <style>\n",
        "    pre {\n",
        "        white-space: pre-wrap;\n",
        "    }\n",
        "  </style>\n",
        "  '''))\n",
        "get_ipython().events.register('pre_run_cell', set_css)\n",
        "\n",
        "\n",
        "def current_datetime():\n",
        "    # Получаем текущую дату и время во временной зоне Москва\n",
        "    moscow_tz = pytz.timezone('Europe/Moscow')\n",
        "    current_time = datetime.now(moscow_tz)\n",
        "\n",
        "    # Форматируем текущую дату и время в требуемые форматы\n",
        "    formatted_time = current_time.strftime(\"%Y-%m-%d %H:%M:%S\")\n",
        "\n",
        "    return formatted_time\n",
        "\n",
        "\n",
        "import os.path\n",
        "import tempfile\n",
        "from typing import List, Set, Dict\n",
        "\n",
        "import requests\n",
        "import gspread\n",
        "from oauth2client.service_account import ServiceAccountCredentials\n",
        "\n",
        "\n",
        "\n",
        "class GoogleSheetHandler:\n",
        "    \"\"\"\n",
        "    A handler for interacting with Google Sheets.\n",
        "\n",
        "    This class provides methods for authenticating with Google Sheets API\n",
        "    and manipulating data in a specified worksheet.\n",
        "\n",
        "    Attributes:\n",
        "        credentials (ServiceAccountCredentials): The credentials for accessing Google Sheets API.\n",
        "        gc (gspread.client.Client): The gspread client instance for interacting with Google Sheets.\n",
        "        spreadsheet_url (str): The URL of the Google Sheets spreadsheet.\n",
        "    \"\"\"\n",
        "\n",
        "    def __init__(self, json_url: str, spreadsheet_url: str) -> None:\n",
        "        \"\"\"\n",
        "        Initializes the GoogleSheetHandler with the given credentials and spreadsheet URL.\n",
        "\n",
        "        Args:\n",
        "            json_url (str): The URL to the JSON file containing the service account credentials.\n",
        "            spreadsheet_url (str): The URL of the Google Sheets spreadsheet to interact with.\n",
        "        \"\"\"\n",
        "        self.json_url = json_url\n",
        "        self.spreadsheet_url = spreadsheet_url\n",
        "        self.credentials = self._load_credentials(self.json_url)\n",
        "        self.gc = gspread.authorize(self.credentials)\n",
        "\n",
        "\n",
        "    def _load_credentials(self, json_url: str) -> ServiceAccountCredentials:\n",
        "        \"\"\"\n",
        "        Loads service account credentials from a given URL.\n",
        "\n",
        "        Args:\n",
        "            json_url (str): The URL to the JSON file containing the service account credentials.\n",
        "\n",
        "        Returns:\n",
        "            ServiceAccountCredentials: The credentials for accessing Google Sheets API.\n",
        "\n",
        "        Raises:\n",
        "            ValueError: If the response content is not valid JSON.\n",
        "            requests.RequestException: If there's an error while making the HTTP request.\n",
        "        \"\"\"\n",
        "        try:\n",
        "            response = requests.get(json_url)\n",
        "            response.raise_for_status()  # Raise an exception for bad status codes (e.g., 404, 500)\n",
        "            response_json = response.json()\n",
        "\n",
        "            credentials = ServiceAccountCredentials.from_json_keyfile_dict(response_json, ['https://spreadsheets.google.com/feeds'])\n",
        "        except requests.RequestException as e:\n",
        "            raise e  # Re-raise the exception\n",
        "        except ValueError as e:\n",
        "            raise ValueError(\"Invalid JSON format in the response.\") from e\n",
        "        finally:\n",
        "            if os.path.exists('credentials.json'):\n",
        "                os.remove('credentials.json')\n",
        "\n",
        "        return credentials\n",
        "\n",
        "    def append_row(self, data_to_append: List[str], worksheet_name: str) -> None:\n",
        "        \"\"\"\n",
        "        Appends a row of data to the bottom of the specified worksheet.\n",
        "\n",
        "        Args:\n",
        "            data_to_append (List[str]): The data to append to the worksheet.\n",
        "            worksheet_name (str): The name of the worksheet to append the data to.\n",
        "        \"\"\"\n",
        "        worksheet = self.gc.open_by_url(self.spreadsheet_url).worksheet(worksheet_name)\n",
        "        worksheet.append_row(data_to_append)\n",
        "\n",
        "    def insert_row(self, data_to_insert: List[str], index: int, worksheet_name: str) -> None:\n",
        "        \"\"\"\n",
        "        Inserts a row of data at a specified index in the worksheet.\n",
        "\n",
        "        Args:\n",
        "            data_to_insert (List[str]): The data to insert into the worksheet.\n",
        "            index (int): The position at which to insert the new row.\n",
        "            worksheet_name (str): The name of the worksheet to insert the data into.\n",
        "        \"\"\"\n",
        "        worksheet = self.gc.open_by_url(self.spreadsheet_url).worksheet(worksheet_name)\n",
        "        worksheet.insert_row(data_to_insert, index)\n",
        "\n",
        "    def append_row_to_top(self, data_to_append: List[str], worksheet_name: str) -> None:\n",
        "        \"\"\"\n",
        "        Appends a row of data to the top of the specified worksheet.\n",
        "\n",
        "        Args:\n",
        "            data_to_append (List[str]): The data to append to the top of the worksheet.\n",
        "            worksheet_name (str): The name of the worksheet to append the data to.\n",
        "        \"\"\"\n",
        "        self.insert_row(data_to_append, 1, worksheet_name)\n",
        "\n",
        "    def update_cell(self, row: int, col: int, value: str, worksheet_name: str) -> None:\n",
        "        \"\"\"\n",
        "        Updates the value of a specific cell in the worksheet.\n",
        "\n",
        "        Args:\n",
        "            row (int): The row number of the cell to update.\n",
        "            col (int): The column number of the cell to update.\n",
        "            value (str): The new value for the cell.\n",
        "            worksheet_name (str): The name of the worksheet containing the cell.\n",
        "        \"\"\"\n",
        "        worksheet = self.gc.open_by_url(self.spreadsheet_url).worksheet(worksheet_name)\n",
        "        worksheet.update_cell(row, col, value)\n",
        "\n",
        "    def delete_row(self, index: int, worksheet_name: str) -> None:\n",
        "        \"\"\"\n",
        "        Deletes a specific row in the worksheet.\n",
        "\n",
        "        Args:\n",
        "            index (int): The position of the row to delete.\n",
        "            worksheet_name (str): The name of the worksheet to delete the row from.\n",
        "        \"\"\"\n",
        "        worksheet = self.gc.open_by_url(self.spreadsheet_url).worksheet(worksheet_name)\n",
        "        worksheet.delete_rows(index)\n",
        "\n",
        "    def read_data(self, cell_range: str, worksheet_name: str) -> List[List[str]]:\n",
        "        \"\"\"\n",
        "        Reads data from a specific range in the worksheet.\n",
        "\n",
        "        Args:\n",
        "            cell_range (str): The range of cells to read (e.g., 'A1:C10').\n",
        "            worksheet_name (str): The name of the worksheet to read the data from.\n",
        "\n",
        "        Returns:\n",
        "            List[List[str]]: The data read from the specified range.\n",
        "        \"\"\"\n",
        "        worksheet = self.gc.open_by_url(self.spreadsheet_url).worksheet(worksheet_name)\n",
        "        return worksheet.get(cell_range)\n",
        "\n",
        "    def clear_range(self, cell_range: str, worksheet_name: str) -> None:\n",
        "        \"\"\"\n",
        "        Clears data from a specific range in the worksheet.\n",
        "\n",
        "        Args:\n",
        "            cell_range (str): The range of cells to clear (e.g., 'A1:C10').\n",
        "            worksheet_name (str): The name of the worksheet to clear the data from.\n",
        "        \"\"\"\n",
        "        worksheet = self.gc.open_by_url(self.spreadsheet_url).worksheet(worksheet_name)\n",
        "        worksheet.batch_clear([cell_range])\n",
        "\n",
        "\n",
        "    def append_rows(self, data_to_append: List[List[str]], worksheet_name: str) -> None:\n",
        "        \"\"\"\n",
        "        Appends multiple rows of data to the bottom of the specified worksheet in a single API call.\n",
        "\n",
        "        Args:\n",
        "            data_to_append (List[List[str]]): The data to append to the worksheet.\n",
        "            worksheet_name (str): The name of the worksheet to append the data to.\n",
        "        \"\"\"\n",
        "        worksheet = self.gc.open_by_url(self.spreadsheet_url).worksheet(worksheet_name)\n",
        "        worksheet.append_rows(data_to_append)\n",
        "\n",
        "\n",
        "spreadsheet_url='https://docs.google.com/spreadsheets/d/1607FPIz2-SOwR31rPYlFkYrOo37q9rC9xixcoEo5G8E/edit?usp=sharing'\n",
        "gs_handler = GoogleSheetHandler(\n",
        "    json_url='https://drive.usercontent.google.com/u/0/uc?id=18sDUm52vPA6mCJgocqLZLiPc0PNTsAfS&export=download',\n",
        "    spreadsheet_url=spreadsheet_url,\n",
        ")\n",
        "\n",
        "questions_spredsheet_url = 'https://docs.google.com/spreadsheets/d/1rm9bvjDFkRuyU94Lp1A5L4GlzUNkNt7nAA-mmWYf4TY/edit?usp=sharing'\n",
        "gs_questions = GoogleSheetHandler(\n",
        "    json_url='https://drive.usercontent.google.com/u/0/uc?id=18sDUm52vPA6mCJgocqLZLiPc0PNTsAfS&export=download',\n",
        "    spreadsheet_url=questions_spredsheet_url,\n",
        ")\n",
        "\n",
        "\n",
        "from functools import cached_property\n",
        "\n",
        "\n",
        "class Scenario:\n",
        "    def __init__(self, name: str,  group: str):\n",
        "        self.name = name\n",
        "        self.group = group\n",
        "\n",
        "\n",
        "class KeyWordsCollector:\n",
        "    def __init__(self, xlsx_path: str):\n",
        "        self.xlsx_path = xlsx_path\n",
        "\n",
        "    @cached_property\n",
        "    def scenarios(self) -> List[Scenario]:\n",
        "        workbook = openpyxl.load_workbook(self.xlsx_path)\n",
        "        sheet = workbook.active\n",
        "        scenarios: List[Scenario] = []\n",
        "\n",
        "        for row in sheet.iter_rows(min_row=1, max_row=sheet.max_row, values_only=True):\n",
        "            scenario_name = row[1].lower()\n",
        "            scenario_group = row[5]\n",
        "            scenario = Scenario(scenario_name, scenario_group)\n",
        "            scenarios.append(scenario)\n",
        "\n",
        "        return scenarios\n",
        "\n",
        "    @staticmethod\n",
        "    def clean_non_unique_key_words(key_word_sets: Dict[str, Set[str]]) -> None:\n",
        "        # Step 1: Count the occurrences of each name\n",
        "        name_count = {}\n",
        "\n",
        "        for set_name, names in key_word_sets.items():\n",
        "            for name in names:\n",
        "                if name in name_count:\n",
        "                    name_count[name] += 1\n",
        "                else:\n",
        "                    name_count[name] = 1\n",
        "\n",
        "        # Step 2: Identify names that are not unique (appear in more than one set)\n",
        "        non_unique_names = {name for name, count in name_count.items() if count > 1}\n",
        "\n",
        "        # Step 3: Remove non-unique names from each set\n",
        "        for set_name, names in key_word_sets.items():\n",
        "            key_word_sets[set_name] = names - non_unique_names\n",
        "\n",
        "    @cached_property\n",
        "    def key_words_sets(self) -> Dict[str, Set[str]]:\n",
        "        result = {}\n",
        "        for scenario in self.scenarios:\n",
        "            if scenario.group not in result:\n",
        "                result[scenario.group] = set()\n",
        "\n",
        "            key_word: str = scenario.name.split(']')[0][1:]\n",
        "            result[scenario.group].add(key_word)\n",
        "\n",
        "        self.clean_non_unique_key_words(result)\n",
        "        return result\n",
        "\n",
        "    def find_relevant_group(self, user_question:str) -> str | None:\n",
        "        question = user_question.lower()\n",
        "        user_words = user_question.lower().replace(',', '').replace('.','').split(' ')\n",
        "\n",
        "        result = ''\n",
        "        total_count = 0\n",
        "\n",
        "        for group_name, key_words in self.key_words_sets.items():\n",
        "            for word in user_words:\n",
        "                if word in key_words:\n",
        "                    total_count += 1\n",
        "                    if total_count > 1:\n",
        "                        return None\n",
        "                    result = group_name\n",
        "\n",
        "        return result\n",
        "\n",
        "\n",
        "def get_tags_from_xlsx(xlsx_path: str, sheet_name='Теги') -> Dict[str, str]:\n",
        "    wb = openpyxl.load_workbook(xlsx_path)\n",
        "    sheet = wb[sheet_name]\n",
        "    tags = {}\n",
        "\n",
        "    for row in sheet.iter_rows(values_only=True, min_row=3, max_row=546):\n",
        "        if row[1] is not None:\n",
        "            translited_tag = translit(row[1].lower(), 'ru', reversed=True)\n",
        "            tags[translited_tag] = row[1]\n",
        "\n",
        "    return tags\n"
      ]
    },
    {
      "cell_type": "code",
      "execution_count": null,
      "metadata": {
        "id": "SRnKZlVe--6d",
        "colab": {
          "base_uri": "https://localhost:8080/",
          "height": 17
        },
        "outputId": "96606820-a089-4b6e-88da-328fde2890fc",
        "cellView": "form"
      },
      "outputs": [
        {
          "output_type": "display_data",
          "data": {
            "text/plain": [
              "<IPython.core.display.HTML object>"
            ],
            "text/html": [
              "\n",
              "  <style>\n",
              "    pre {\n",
              "        white-space: pre-wrap;\n",
              "    }\n",
              "  </style>\n",
              "  "
            ]
          },
          "metadata": {}
        }
      ],
      "source": [
        "# @title Загрузка эксель файла\n",
        "xlsx_path = \"/content/drive/MyDrive/AiUniveristy/PROJECTS/Taxcom/20240705_Сценарии для ИИ.xlsx\" # @param{type: 'string'}\n",
        "key_word_collector = KeyWordsCollector(xlsx_path)"
      ]
    },
    {
      "cell_type": "code",
      "source": [
        "# @title Загрузка векторных баз (путь папке в которой множество баз данных - `multi_dbs`)\n",
        "db_dir = '/content/drive/MyDrive/multi_dbs' # @param  ['/content/drive/MyDrive/multi_dbs','/content/drive/MyDrive/AiUniveristy/PROJECTS/Taxcom/multi_dbs']\n",
        "\n",
        "# db_coordinator_path = \"\" # @param{type: 'string'}\n",
        "embeddings = OpenAIEmbeddings(model='text-embedding-3-large')\n",
        "\n",
        "\n",
        "doklines_db = FAISS.load_local(os.path.join(db_dir, '@Доклайнз'), embeddings, allow_dangerous_deserialization=True)\n",
        "kkt_ofd_db = FAISS.load_local(os.path.join(db_dir, '@ККТ', 'ОФД'), embeddings, allow_dangerous_deserialization=True)\n",
        "kkt_ofd_db_copywriten = FAISS.load_local(os.path.join(db_dir, '@ККТ_copywriten', 'ОФД'), embeddings, allow_dangerous_deserialization=True)\n",
        "kripto_pro_db = FAISS.load_local(os.path.join(db_dir, '@КриптоПро ', ' КриптоАРМ'), embeddings, allow_dangerous_deserialization=True)\n",
        "obshie_db = FAISS.load_local(os.path.join(db_dir, '@Общие'), embeddings, allow_dangerous_deserialization=True)\n",
        "otchetnost_db = FAISS.load_local(os.path.join(db_dir, '@Отчётность'), embeddings, allow_dangerous_deserialization=True)\n",
        "prochie_proekty_db = FAISS.load_local(os.path.join(db_dir, '@Прочие проекты'), embeddings, allow_dangerous_deserialization=True)\n",
        "tokeny_db = FAISS.load_local(os.path.join(db_dir, '@Токены'), embeddings, allow_dangerous_deserialization=True)\n",
        "uslugi_uc_db = FAISS.load_local(os.path.join(db_dir, '@Услуги УЦ'), embeddings, allow_dangerous_deserialization=True)\n",
        "cto_db = FAISS.load_local(os.path.join(db_dir, '@ЦТО'), embeddings, allow_dangerous_deserialization=True)\n",
        "odin_c_db = FAISS.load_local(os.path.join(db_dir, '@1С'), embeddings, allow_dangerous_deserialization=True)\n",
        "def get_db(base_selector_answer:str, use_original_base_name=False):\n",
        "    db=None\n",
        "    if not use_original_base_name:\n",
        "        base_selector_answer_clear = '@' + base_selector_answer.replace(\"['\", \"\").replace(\"']\",\"\")\n",
        "    else:\n",
        "        base_selector_answer_clear = base_selector_answer\n",
        "\n",
        "    if 'ЦТО' in base_selector_answer:\n",
        "        return cto_db\n",
        "    match base_selector_answer_clear:\n",
        "        case '@Доклайнз':\n",
        "            db = doklines_db\n",
        "        case '@Отчётность':\n",
        "            db = otchetnost_db\n",
        "        case '@Общие':\n",
        "            db = obshie_db\n",
        "        case '@Прочие проекты':\n",
        "            db = prochie_proekty_db\n",
        "        case '@Услуги УЦ':\n",
        "            db = uslugi_uc_db\n",
        "        case '@ККТ/ОФД':\n",
        "            db = kkt_ofd_db\n",
        "        case '@ККТ/ОФД_copywriten':\n",
        "            db = kkt_ofd_db_copywriten\n",
        "        case '@КриптоПро / КриптоАРМ':\n",
        "            db = kripto_pro_db\n",
        "        case '@Токены':\n",
        "            db = tokeny_db\n",
        "        case '@ЦТО':\n",
        "            db = cto_db\n",
        "        case '@1С':\n",
        "            db = odin_c_db\n",
        "        case _:\n",
        "            print(f'Неизвестная база данных, {base_selector_answer_clear}')\n",
        "            raise ValueError(f'Неизвестная база данных, {base_selector_answer_clear}')\n",
        "    return db\n",
        "\n",
        "def find_most_relevant_chunks(question:str, base_selector_answer:str, chunks_n:int=5):\n",
        "    db = get_db(base_selector_answer=base_selector_answer)\n",
        "    chunks = db.similarity_search(query=question, k=chunks_n)\n",
        "    return chunks\n"
      ],
      "metadata": {
        "colab": {
          "base_uri": "https://localhost:8080/",
          "height": 17
        },
        "id": "Z_2RFzQ4qFCo",
        "outputId": "85926b12-4133-425e-bd25-9d94e2c459b3",
        "cellView": "form"
      },
      "execution_count": 3,
      "outputs": [
        {
          "output_type": "display_data",
          "data": {
            "text/plain": [
              "<IPython.core.display.HTML object>"
            ],
            "text/html": [
              "\n",
              "  <style>\n",
              "    pre {\n",
              "        white-space: pre-wrap;\n",
              "    }\n",
              "  </style>\n",
              "  "
            ]
          },
          "metadata": {}
        }
      ]
    },
    {
      "cell_type": "code",
      "execution_count": 14,
      "metadata": {
        "id": "HgCCDJYN7xTD",
        "cellView": "form",
        "outputId": "c084d250-d376-47aa-d4a5-9b81d3836ea7",
        "colab": {
          "base_uri": "https://localhost:8080/",
          "height": 17
        }
      },
      "outputs": [
        {
          "output_type": "display_data",
          "data": {
            "text/plain": [
              "<IPython.core.display.HTML object>"
            ],
            "text/html": [
              "\n",
              "  <style>\n",
              "    pre {\n",
              "        white-space: pre-wrap;\n",
              "    }\n",
              "  </style>\n",
              "  "
            ]
          },
          "metadata": {}
        }
      ],
      "source": [
        "# @title Запрос пользователя\n",
        "query = \"Как экспортировать открытую часть сертификата?\" # @param{type: 'string'}"
      ]
    },
    {
      "cell_type": "markdown",
      "source": [],
      "metadata": {
        "id": "cVYKyC5nZJTy"
      }
    },
    {
      "cell_type": "code",
      "source": [
        "# @title Дораспределятор базы (pre_base_selector)\n",
        "system_pre_base_selector = \"Ты специалист тех. поддержки в компании которая занимается онлайн документооборотом. Клиент обращается к тебе с Запросом.Ты знаешь, что три категории Запросов клиентов: Прочие проекты, ЦТО и Иное. Ты знаешь, что все запросы относятся к категории Иное, кроме этих двух случаев: Ты строго следуешь правилам:  Правило 1 - Чтобы запрос относился к категории Прочие проекты в Запросе ОБЯЗАТЕЛЬНО должно быть дословно КАК МИНИМУМ ОДНО из этих словосочетаний дословно: 1) ВетИС; 2) ЕСИА; 3) Картотека документов, 4)Мобильное приложение Такском-Ветис; 5)Такском-Ветис; 6)Портал госуслуг; 7)Порядок обработки обращений; 8) Такском Управление доверенностями; 9) Такском-Ветис; 10) Такском-Визор; 11)Такском-Досье; 12) taxcom.ru; 13)Такском-Конвертер; 14)Такском-Ручка; 15)Такском-Управление Доверенностями; 16)ФГИС Меркурий; 17)Ветис.API; 18)Электронная доверенность (МЧД). Если ни одного из этих словосочетаний нет в тексте запроса ты знаешь что он  НЕ относится к категории Прочие проекты;Правило 2 - К категории ЦТО относятся ТОЛЬКО ИМЕННО эти десять Запросов(предложений) дословно СЛОВО В СЛОВО: 1)Какое назначение АИСТ?; 2) Что делать если в ПДО(Подтверждение даты отправки отчета) некорректное время формирования?; 3) Как внести товар или услугу в ККТ?: 4) Как передать ККТ на обслуживание?; 5)Как настроить/ использовать ККТ?; 6)Как модернизировать/обновить ККТ?; 7)Что делать если в распечатанном документе, драйвере или интерфейсе ККТ сообщение об ошибке?; 8)Что делать если в распечатанном чеке некорректные данные?; 9)Что делать если в распечатанном чеке нет данных?; 10)Как открыть/закрыть смену в ККТ?. Ты очень строго проверяешь Запрос на полное совпадение по тексту и если оно отличается, ты НЕ выбираешь ЦТО. Ты очень внимательно проверяешь, чтобы запрос был именно одним из этих десяти запросов, а не просто похожим на них.\" # @param{type: 'string'}\n",
        "user_pre_base_selector = \"Пожалуйста, сделай глубокий вдох и подумай шаг за шагом: 1)ВНИМАТЕЛЬНО проанализируй Запрос клиента; 2) Определи, к какой категории относится Запрос и напиши эту категорию в Ответ. Порядок отчета: python list, например:  ['ЦТО'] или ['Прочие проекты'] или ['Иное’']  и больше ничего. Запрос: {topic}.\" # @param{type: 'string'}\n",
        "temp_pre_base_selector = 0 # @param {type: 'slider', min: 0, max: 2, step: 0.1}\n",
        "model_pre_base_selector = 'gpt-4o' # @param  ['gpt-4o-mini','gpt-4o', 'gpt-4', 'gpt-3.5-turbo-16k-0613', 'gpt-3.5-turbo-1106']\n",
        "save_to_google_table = True #@param{type: 'boolean'}\n",
        "\n",
        "\n",
        "\n",
        "# Распределятор базы\n",
        "async def pre_base_selector(system, user, topic, model, temperature):\n",
        "    user = user.format(\n",
        "        topic=topic,\n",
        "    )\n",
        "    messages = [\n",
        "        {'role': 'system', 'content': system},\n",
        "        {'role': 'user', 'content': user}\n",
        "    ]\n",
        "    completion = await client.chat.completions.create(\n",
        "        model=model,\n",
        "        messages=messages,\n",
        "        temperature=temperature\n",
        "    )\n",
        "    answer = completion.choices[0].message.content\n",
        "    return answer\n",
        "\n",
        "if '1с' in query.lower() or '1c' in query.lower():\n",
        "     pre_base_selector_answer = \"['1С']\"\n",
        "else:\n",
        "    pre_base_selector_answer = await pre_base_selector(system_pre_base_selector, user_pre_base_selector, query, model_pre_base_selector, temp_pre_base_selector)\n",
        "\n",
        "\n",
        "print_color('Запрос пользователя:', 'blue')\n",
        "print(query)\n",
        "print('-' * 50)\n",
        "print_color(f'Ответ Дораспределятора базы:', 'pink')\n",
        "print(pre_base_selector_answer)\n",
        "\n",
        "\n",
        "\n",
        "if save_to_google_table:\n",
        "    row_data = [\n",
        "        current_datetime(),\n",
        "        query,\n",
        "        'Дораспределятор базы (pre_base_selector)',\n",
        "        '',\n",
        "        pre_base_selector_answer,\n",
        "        system_pre_base_selector,\n",
        "        user_pre_base_selector,\n",
        "    ]\n",
        "    gs_handler.append_row(row_data, 'Дораспределятор базы (pre_base_selector)')"
      ],
      "metadata": {
        "id": "vA-eQl2eWmCP",
        "cellView": "form",
        "outputId": "ec582c8a-ad93-4e60-93a2-753383c7ea32",
        "colab": {
          "base_uri": "https://localhost:8080/",
          "height": 104
        }
      },
      "execution_count": null,
      "outputs": [
        {
          "output_type": "display_data",
          "data": {
            "text/plain": [
              "<IPython.core.display.HTML object>"
            ],
            "text/html": [
              "\n",
              "  <style>\n",
              "    pre {\n",
              "        white-space: pre-wrap;\n",
              "    }\n",
              "  </style>\n",
              "  "
            ]
          },
          "metadata": {}
        },
        {
          "output_type": "display_data",
          "data": {
            "text/plain": [
              "<IPython.core.display.HTML object>"
            ],
            "text/html": [
              "<text style=\"color:#0074D9\">Запрос пользователя:</text>"
            ]
          },
          "metadata": {}
        },
        {
          "output_type": "stream",
          "name": "stdout",
          "text": [
            "Почему в отчете Кассы  в детализация отправленных чеков некорректные данные? Данные об отправке некорректные\n",
            "--------------------------------------------------\n"
          ]
        },
        {
          "output_type": "display_data",
          "data": {
            "text/plain": [
              "<IPython.core.display.HTML object>"
            ],
            "text/html": [
              "<text style=\"color:#FF69B4\">Ответ Дораспределятора базы:</text>"
            ]
          },
          "metadata": {}
        },
        {
          "output_type": "stream",
          "name": "stdout",
          "text": [
            "['Иное']\n"
          ]
        }
      ]
    },
    {
      "cell_type": "code",
      "source": [
        "import nest_asyncio\n",
        "import asyncio\n",
        "\n",
        "nest_asyncio.apply()\n",
        "\n",
        "# @title AUTO TEST - Дораспределятор базы (pre_base_selector)\n",
        "async def get_similarity_score(base_selector_answer:str, question:str) -> float:\n",
        "    db = get_db(base_selector_answer)\n",
        "    chunk = await db.asimilarity_search_with_score(query=question, k=1)\n",
        "    return chunk[0][1]\n",
        "\n",
        "row_count = 109 # @param {\"type\":\"integer\"}\n",
        "\n",
        "async def process_question(i, question, system_base_selector, user_base_selector, model_base_selector, temp_base_selector, rows_data, res):\n",
        "    base_selector_answer = await pre_base_selector(system_base_selector, user_base_selector, question[0], model_base_selector, temp_base_selector)\n",
        "    if 'Иное' in base_selector_answer:\n",
        "        similarity_score = '/'\n",
        "    else:\n",
        "        similarity_score = await get_similarity_score(base_selector_answer, question[0])\n",
        "\n",
        "    base_name = question[2]\n",
        "\n",
        "    if base_name not in res:\n",
        "        res[base_name] = {'scenario_count': 0, 'success_count': 0}\n",
        "\n",
        "    res[base_name]['scenario_count'] += 1\n",
        "    res[base_name]['success_count'] += 1\n",
        "\n",
        "    is_correct = 'ДА'\n",
        "    if (\"['ЦТО']\" in base_selector_answer and 'ЦТО' not in question[2]) or (\"прочие проекты\" in base_selector_answer.lower() and 'Прочие проекты' not in question[2]):\n",
        "        is_correct = 'НЕТ'\n",
        "        res[base_name]['success_count'] -= 1\n",
        "\n",
        "    row_data = [\n",
        "        i,\n",
        "        question[0],\n",
        "        'Дораспределятор базы (pre_base_selector)',\n",
        "        '',\n",
        "        base_selector_answer,\n",
        "        system_base_selector,\n",
        "        user_base_selector,\n",
        "        question[2],\n",
        "        question[1],\n",
        "        is_correct,\n",
        "        str(round(similarity_score, 2)) if similarity_score != '/' else similarity_score,\n",
        "    ]\n",
        "\n",
        "    rows_data.append(row_data)\n",
        "\n",
        "\n",
        "async def main(auto_test_questions, system_base_selector, user_base_selector, model_base_selector, temp_base_selector):\n",
        "    rows_data = [['Номер запроса', 'Запрос пользователя', 'Эксперт', 'Выбранный чанк', 'Ответ эксперта', 'system_promt', 'user_promt', 'Правильный ответ', 'id сценария', 'Ответ является правильным', 'Оценка\\nсхожести']]\n",
        "    res = {}\n",
        "    success_count = 0\n",
        "\n",
        "    tasks = [\n",
        "        process_question(i, question, system_base_selector, user_base_selector, model_base_selector, temp_base_selector, rows_data, res)\n",
        "        for i, question in enumerate(auto_test_questions, start=1)\n",
        "    ]\n",
        "\n",
        "    await asyncio.gather(*tasks)\n",
        "\n",
        "    for base_name, stats in res.items():\n",
        "        success_count += stats['success_count']\n",
        "\n",
        "    return rows_data, res, success_count\n",
        "\n",
        "# Usage example\n",
        "auto_test_questions = gs_questions.read_data(f'A2:C{row_count}', 'Лист1')\n",
        "rows_data, res, success_count = await main(auto_test_questions, system_pre_base_selector, user_pre_base_selector, model_pre_base_selector, temp_pre_base_selector)\n",
        "\n",
        "\n",
        "rows_data = [rows_data[0]] + sorted(rows_data[1:], key=lambda x: x[0])\n",
        "\n",
        "db_names = list(res.keys())\n",
        "db_result = [f'{res[db_name][\"success_count\"]}/{res[db_name][\"scenario_count\"]:.2f} - ({res[db_name][\"success_count\"]/res[db_name][\"scenario_count\"]*100:.2f}%)' for db_name in db_names]\n",
        "first_row = ['Дата и время', 'Количество запросов', 'процент успешно распределеных запросов', *db_names]\n",
        "second_row = [current_datetime(), len(auto_test_questions), round(success_count/len(auto_test_questions), 2), *db_result]\n",
        "\n",
        "rows_data.insert(0, second_row)\n",
        "rows_data.insert(0, first_row)\n",
        "rows_data.append([])\n",
        "\n",
        "\n",
        "gs_questions.append_rows(rows_data, 'дораспределятор_auto_test')\n",
        "print(f'Результаты выгружены в таблицу: {questions_spredsheet_url}')\n",
        "\n"
      ],
      "metadata": {
        "cellView": "form",
        "collapsed": true,
        "id": "2X1l2PrEgBXs"
      },
      "execution_count": null,
      "outputs": []
    },
    {
      "cell_type": "code",
      "source": [
        "# @title Распределятор базы (base_selector)\n",
        "system_base_selector = \"Ты специалист тех. поддержки в компании которая занимается онлайн документооборотом. Клиент обращается к тебе с Запросом. Ты знаешь что Запрос - это вопрос по какому-то продукту или услуге компании, ошибки при подключении и использовании сервисами, формировании отчетов и заявок, взаимодействие с государственными органами и другие подобные вещи. Твой главный навык верно определить к какой из семи Категорий относится Запрос пользователя. Ты знаешь, что каждая Категория характеризуется набором признаков:  1) Доклайнз - включает запросы на тему: a) Подключение к сервисам; b)Регистрация в системах; c)Ошибки в работе продуктов; d)Вопросы по работе с мобильными приложениями; e) Отправка, сканирование и проверка документов; e)Вопросы по маркировке; f)Получение кодов; g)Консультации по продуктам; 2) ККТ/ОФД - ключает запросы на темы: a)Вопросы по работе с ОФД; b)Настройка и регистрация ККТ; c)Проблемы с фискальными данными; d)Вопросы по личному кабинету партнера ОФД; e)Ошибки в работе кассовой техники; f)Вопросы по визуализации данных; g)Регистрация и проверка чеков; h)Консультации по продуктам ОФД; i)Обновление и поддержка ПО для ККТ; 3) КриптоПро / КриптоАРМ -  включает запросы, связанные с криптографическими продуктами и услугами, такими как КриптоПро CSP и КриптоАРМ. Частые обращения касаются установки, настройки и использования криптографических сертификатов, а также устранения ошибок и проблем с лицензиями и контейнерами; 4) Общие -  включает запросы, связанные с управлением договорами и услугами, доступом к личным кабинетам, общими техническими вопросами и ошибками, а также консультациями по продуктам и услугам, которые не попадают в другие категории; 5)  Отчётность - включает запросы на темы: a) Подготовка и отправка отчетов; b)Настройка программного обеспечения для отчетности; c)Проблемы с отправкой документов; d) Ошибки при формировании отчетов; e)Взаимодействие с государственными органами; f) Вопросы по налоговой отчетности; g)Консультации по продуктам для отчетности; h)Проверка и исправление документов; i)Поддержка пользователей программ для отчетности; g) Интеграция с другими системами для отчетности; h)запросы со словом Доклайнер; 6)Токены - включает запросы, связанные с использованием и настройкой токенов, таких как Рутокен и ESMART. Частые обращения касаются проблем с установкой драйверов, ошибками при использовании токенов, настройкой и поддержкой криптографических сертификатов; 7) Услуги УЦ - включает запросы, связанные с использованием услуг удостоверяющих центров (УЦ). Частые обращения касаются проблем с входом на порталы, сертификатами, настройкой и поддержкой работы с государственными порталами. Пожалуйста, ВСЕГДА НА 100% следуй порядку отчета.\" # @param{type: 'string'}\n",
        "user_base_selector = \"Пожалуйста, сделай глубокий вдох и подумай шаг за шагом: ВНИМАТЕЛЬНО проанализируй Запрос клиента, на основании анализа напиши ОДНУ категорию, которая подходит под Запрос. Порядок отчета: python list, например: [‘Доклайнз’] или [‘ККТ/ОФД’] или [‘КриптоПро / КриптоАРМ’] или ['Общие'] или ['Отчётность'] или ['Токены']или ['Услуги УЦ'] и больше ничего. Запрос: {topic}.\" # @param{type: 'string'}\n",
        "temp_base_selector = 0 # @param {type: 'slider', min: 0, max: 2, step: 0.1}\n",
        "model_base_selector = 'gpt-4o' # @param  ['gpt-4o-mini','gpt-4o', 'gpt-4','gpt-3.5-turbo-16k-0613', 'gpt-3.5-turbo-1106']\n",
        "save_to_google_table = True #@param{type: 'boolean'}\n",
        "\n",
        "\n",
        "\n",
        "# Распределятор базы\n",
        "async def base_selector(system, user, topic, model, temperature):\n",
        "    if '1с' in topic.lower() or '1c' in topic.lower():\n",
        "        return \"['1С']\"\n",
        "\n",
        "\n",
        "\n",
        "    user = user.format(\n",
        "        topic=topic,\n",
        "    )\n",
        "    messages = [\n",
        "        {'role': 'system', 'content': system},\n",
        "        {'role': 'user', 'content': user}\n",
        "    ]\n",
        "    completion = await client.chat.completions.create(\n",
        "        model=model,\n",
        "        messages=messages,\n",
        "        temperature=temperature\n",
        "    )\n",
        "    answer = completion.choices[0].message.content\n",
        "    return answer\n",
        "\n",
        "\n",
        "base_selector_answer = await base_selector(system_base_selector, user_base_selector, query, model_base_selector, temp_base_selector)\n",
        "\n",
        "\n",
        "print_color('Запрос пользователя:', 'blue')\n",
        "print(query)\n",
        "print('-' * 50)\n",
        "print_color(f'Ответ Распределятора базы:', 'pink')\n",
        "print(base_selector_answer)\n",
        "\n",
        "\n",
        "\n",
        "if save_to_google_table:\n",
        "    row_data = [\n",
        "        current_datetime(),\n",
        "        query,\n",
        "        'Распределятор базы (base_selector)',\n",
        "        '',\n",
        "        base_selector_answer,\n",
        "        system_base_selector,\n",
        "        user_base_selector,\n",
        "    ]\n",
        "    gs_handler.append_row(row_data, 'Распределятор базы (base_selector)')"
      ],
      "metadata": {
        "cellView": "form",
        "id": "s91cBXv-CiUy",
        "outputId": "1d74ee87-7677-4446-edfe-2ce2976dd77c",
        "colab": {
          "base_uri": "https://localhost:8080/",
          "height": 104
        }
      },
      "execution_count": null,
      "outputs": [
        {
          "output_type": "display_data",
          "data": {
            "text/plain": [
              "<IPython.core.display.HTML object>"
            ],
            "text/html": [
              "\n",
              "  <style>\n",
              "    pre {\n",
              "        white-space: pre-wrap;\n",
              "    }\n",
              "  </style>\n",
              "  "
            ]
          },
          "metadata": {}
        },
        {
          "output_type": "display_data",
          "data": {
            "text/plain": [
              "<IPython.core.display.HTML object>"
            ],
            "text/html": [
              "<text style=\"color:#0074D9\">Запрос пользователя:</text>"
            ]
          },
          "metadata": {}
        },
        {
          "output_type": "stream",
          "name": "stdout",
          "text": [
            "Почему в отчете Кассы  в детализация отправленных чеков некорректные данные? Данные об отправке некорректные\n",
            "--------------------------------------------------\n"
          ]
        },
        {
          "output_type": "display_data",
          "data": {
            "text/plain": [
              "<IPython.core.display.HTML object>"
            ],
            "text/html": [
              "<text style=\"color:#FF69B4\">Ответ Распределятора базы:</text>"
            ]
          },
          "metadata": {}
        },
        {
          "output_type": "stream",
          "name": "stdout",
          "text": [
            "['ККТ/ОФД']\n"
          ]
        }
      ]
    },
    {
      "cell_type": "code",
      "source": [
        "import nest_asyncio\n",
        "import asyncio\n",
        "\n",
        "nest_asyncio.apply()\n",
        "\n",
        "# @title AUTO TEST - Распределятор базы (base_selector)\n",
        "async def get_similarity_score(base_selector_answer:str, question:str) -> float:\n",
        "    db = get_db(base_selector_answer)\n",
        "    chunk = await db.asimilarity_search_with_score(query=question, k=1)\n",
        "    return chunk[0][1]\n",
        "\n",
        "async def get_score_with_chunk(base_selector_answer:str, question:str, use_original_base_name=False) -> float:\n",
        "    db = get_db(base_selector_answer, use_original_base_name)\n",
        "    chunk = await db.asimilarity_search_with_score(query=question, k=1)\n",
        "    score = round(float(chunk[0][1]), 2)\n",
        "    chunk_txt = chunk[0][0].page_content\n",
        "    scenario_id = chunk[0][0].metadata['scenario_id']\n",
        "    scenario_name = chunk[0][0].metadata['scenario_name']\n",
        "    res = f\"Результат\\nсхожести: {score}\\n Сценарий: {scenario_name}\\nId сценаярия: {scenario_id}\\nТекст выбранного чанка:\\n{chunk_txt}\"\n",
        "    return res\n",
        "\n",
        "row_count = 87 # @param {\"type\":\"integer\"}\n",
        "\n",
        "async def process_question(i, question, system_base_selector, user_base_selector, model_base_selector, temp_base_selector, rows_data, res):\n",
        "    base_selector_answer = await base_selector(system_base_selector, user_base_selector, question[0], model_base_selector, temp_base_selector)\n",
        "    similarity_score_base_selector = await get_score_with_chunk(base_selector_answer, question[0])\n",
        "    similarity_score_original = await get_score_with_chunk(question[2], question[0], True)\n",
        "\n",
        "    row_data = [\n",
        "        i,\n",
        "        question[0],\n",
        "        'Распределятор базы (base_selector)',\n",
        "        base_selector_answer,\n",
        "        system_base_selector,\n",
        "        user_base_selector,\n",
        "        question[2],\n",
        "        question[1],\n",
        "        'ДА' if base_selector_answer[2:-2] in question[2] else 'НЕТ',\n",
        "        similarity_score_base_selector,\n",
        "        similarity_score_original,\n",
        "    ]\n",
        "\n",
        "    rows_data.append(row_data)\n",
        "\n",
        "    base_name = question[2]\n",
        "    if base_name not in res:\n",
        "        res[base_name] = {'scenario_count': 0, 'success_count': 0}\n",
        "\n",
        "    res[base_name]['scenario_count'] += 1\n",
        "    if base_selector_answer[2:-2] in base_name:\n",
        "        res[base_name]['success_count'] += 1\n",
        "\n",
        "async def main(auto_test_questions, system_base_selector, user_base_selector, model_base_selector, temp_base_selector):\n",
        "    rows_data = [['Номер запроса', 'Запрос пользователя', 'Эксперт', 'Ответ эксперта', 'system_promt', 'user_promt', 'Правильный ответ', 'id сценария', 'Ответ является правильным', 'Оценка схожести чанка из\\nбазы которую выбрал распределятор', 'Оценка схожести чанка из\\n правильной базы']]\n",
        "    res = {}\n",
        "    success_count = 0\n",
        "\n",
        "    tasks = [\n",
        "        process_question(i, question, system_base_selector, user_base_selector, model_base_selector, temp_base_selector, rows_data, res)\n",
        "        for i, question in enumerate(auto_test_questions, start=1)\n",
        "    ]\n",
        "\n",
        "    await asyncio.gather(*tasks)\n",
        "\n",
        "    for base_name, stats in res.items():\n",
        "        success_count += stats['success_count']\n",
        "\n",
        "    return rows_data, res, success_count\n",
        "\n",
        "# Usage example\n",
        "auto_test_questions = gs_questions.read_data(f'A2:C{row_count}', 'Лист1')\n",
        "rows_data, res, success_count = await main(auto_test_questions, system_base_selector, user_base_selector, model_base_selector, temp_base_selector)\n",
        "rows_data = [rows_data[0]] + sorted(rows_data[1:], key=lambda x: x[0])\n",
        "\n",
        "db_names = list(res.keys())\n",
        "db_result = [f'{res[db_name][\"success_count\"]}/{res[db_name][\"scenario_count\"]:.2f} - ({res[db_name][\"success_count\"]/res[db_name][\"scenario_count\"]*100:.2f}%)' for db_name in db_names]\n",
        "first_row = ['Дата и время', 'Количество запросов', 'процент успешно распределеных запросов', *db_names]\n",
        "second_row = [current_datetime(), len(auto_test_questions), round(success_count/len(auto_test_questions), 2), *db_result]\n",
        "\n",
        "rows_data.insert(0, second_row)\n",
        "rows_data.insert(0, first_row)\n",
        "rows_data.append([])\n",
        "\n",
        "gs_questions.append_rows(rows_data, 'распределятор_auto_test')\n",
        "print(f'Результаты выгружены в таблицу: {questions_spredsheet_url}')\n",
        "\n"
      ],
      "metadata": {
        "colab": {
          "base_uri": "https://localhost:8080/",
          "height": 34
        },
        "cellView": "form",
        "outputId": "200a08f5-9099-4b59-fc42-659a2ccaccec",
        "collapsed": true,
        "id": "r-WHzhbnxOCX"
      },
      "execution_count": null,
      "outputs": [
        {
          "output_type": "display_data",
          "data": {
            "text/plain": [
              "<IPython.core.display.HTML object>"
            ],
            "text/html": [
              "\n",
              "  <style>\n",
              "    pre {\n",
              "        white-space: pre-wrap;\n",
              "    }\n",
              "  </style>\n",
              "  "
            ]
          },
          "metadata": {}
        },
        {
          "output_type": "display_data",
          "data": {
            "text/plain": [
              "<IPython.core.display.HTML object>"
            ],
            "text/html": [
              "\n",
              "  <style>\n",
              "    pre {\n",
              "        white-space: pre-wrap;\n",
              "    }\n",
              "  </style>\n",
              "  "
            ]
          },
          "metadata": {}
        },
        {
          "output_type": "stream",
          "name": "stdout",
          "text": [
            "Результаты выгружены в таблицу: https://docs.google.com/spreadsheets/d/1rm9bvjDFkRuyU94Lp1A5L4GlzUNkNt7nAA-mmWYf4TY/edit?usp=sharing\n"
          ]
        }
      ]
    },
    {
      "cell_type": "code",
      "source": [
        "# @title Дораспределятор + Распределятор (вместе) (total_base_selector)\n",
        "async def total_base_selector(query:str):\n",
        "    group = key_word_collector.find_relevant_group(query)\n",
        "    if group:\n",
        "        print(f\"key_word_collector: {group}, formatted:['{group[1:]}']\")\n",
        "        formatted_group = f\"['{group[1:]}']\"\n",
        "        return formatted_group\n",
        "\n",
        "    if '1с' in query.lower() or '1c' in query.lower():\n",
        "        pre_base_selector_answer = \"['1С']\"\n",
        "    else:\n",
        "        pre_base_selector_answer = await pre_base_selector(system_pre_base_selector, user_pre_base_selector, query, model_pre_base_selector, temp_pre_base_selector)\n",
        "\n",
        "    if pre_base_selector_answer != \"['Иное']\":\n",
        "        return pre_base_selector_answer\n",
        "\n",
        "    base_selector_answer = await base_selector(system_base_selector, user_base_selector, query, model_base_selector, temp_base_selector)\n",
        "    return base_selector_answer\n",
        "\n",
        "total_base_selector_answer = await total_base_selector(query)\n",
        "\n",
        "\n",
        "print_color('Запрос пользователя:', 'blue')\n",
        "print(query)\n",
        "print('-' * 50)\n",
        "print_color(f'Ответ Распределятора базы (Дораспределятор + Распределятор):', 'pink')\n",
        "print(total_base_selector_answer)\n",
        "\n"
      ],
      "metadata": {
        "cellView": "form",
        "id": "TWIB-DGS-TJ5",
        "outputId": "21c3993e-7832-458b-bb61-c35a47ffac50",
        "colab": {
          "base_uri": "https://localhost:8080/",
          "height": 104
        },
        "collapsed": true
      },
      "execution_count": null,
      "outputs": [
        {
          "output_type": "display_data",
          "data": {
            "text/plain": [
              "<IPython.core.display.HTML object>"
            ],
            "text/html": [
              "\n",
              "  <style>\n",
              "    pre {\n",
              "        white-space: pre-wrap;\n",
              "    }\n",
              "  </style>\n",
              "  "
            ]
          },
          "metadata": {}
        },
        {
          "output_type": "display_data",
          "data": {
            "text/plain": [
              "<IPython.core.display.HTML object>"
            ],
            "text/html": [
              "<text style=\"color:#0074D9\">Запрос пользователя:</text>"
            ]
          },
          "metadata": {}
        },
        {
          "output_type": "stream",
          "name": "stdout",
          "text": [
            "Почему в отчете Кассы  в детализация отправленных чеков некорректные данные? Данные об отправке некорректные\n",
            "--------------------------------------------------\n"
          ]
        },
        {
          "output_type": "display_data",
          "data": {
            "text/plain": [
              "<IPython.core.display.HTML object>"
            ],
            "text/html": [
              "<text style=\"color:#FF69B4\">Ответ Распределятора базы (Дораспределятор + Распределятор):</text>"
            ]
          },
          "metadata": {}
        },
        {
          "output_type": "stream",
          "name": "stdout",
          "text": [
            "['ККТ/ОФД']\n"
          ]
        }
      ]
    },
    {
      "cell_type": "code",
      "source": [
        "import nest_asyncio\n",
        "import asyncio\n",
        "\n",
        "nest_asyncio.apply()\n",
        "\n",
        "# @title AUTO TEST - Дораспределятор + Распределятор (вместе) (total_base_selector)\n",
        "async def get_similarity_score(base_selector_answer:str, question:str) -> float:\n",
        "    db = get_db(base_selector_answer)\n",
        "    chunk = await db.asimilarity_search_with_score(query=question, k=1)\n",
        "    return chunk[0][1]\n",
        "\n",
        "async def get_score_with_chunk(base_selector_answer:str, question:str, use_original_base_name=False) -> float:\n",
        "    db = get_db(base_selector_answer, use_original_base_name)\n",
        "    chunk = await db.asimilarity_search_with_score(query=question, k=1)\n",
        "    score = round(float(chunk[0][1]), 2)\n",
        "    chunk_txt = chunk[0][0].page_content\n",
        "    scenario_id = chunk[0][0].metadata['scenario_id']\n",
        "    scenario_name = chunk[0][0].metadata['scenario_name']\n",
        "    res = f\"Результат\\nсхожести: {score}\\n Сценарий: {scenario_name}\\nId сценаярия: {scenario_id}\\nТекст выбранного чанка:\\n{chunk_txt}\"\n",
        "    return res\n",
        "\n",
        "row_count = 123 # @param {\"type\":\"integer\"}\n",
        "\n",
        "async def process_question(i, question, system_base_selector, user_base_selector, model_base_selector, temp_base_selector, rows_data, res):\n",
        "    base_selector_answer = await total_base_selector(question[0])\n",
        "    similarity_score_base_selector = await get_score_with_chunk(base_selector_answer, question[0])\n",
        "    similarity_score_original = await get_score_with_chunk(question[2], question[0], True)\n",
        "\n",
        "    row_data = [\n",
        "        i,\n",
        "        question[0],\n",
        "        'Дораспределятор + Распределятор базы (base_selector)',\n",
        "        base_selector_answer,\n",
        "        system_base_selector,\n",
        "        user_base_selector,\n",
        "        question[2],\n",
        "        question[1],\n",
        "        'ДА' if base_selector_answer[2:-2] in question[2] else 'НЕТ',\n",
        "        similarity_score_base_selector,\n",
        "        similarity_score_original,\n",
        "    ]\n",
        "\n",
        "    rows_data.append(row_data)\n",
        "\n",
        "    base_name = question[2]\n",
        "    if base_name not in res:\n",
        "        res[base_name] = {'scenario_count': 0, 'success_count': 0}\n",
        "\n",
        "    res[base_name]['scenario_count'] += 1\n",
        "    if base_selector_answer[2:-2] in base_name:\n",
        "        res[base_name]['success_count'] += 1\n",
        "\n",
        "async def main(auto_test_questions, system_base_selector, user_base_selector, model_base_selector, temp_base_selector):\n",
        "    rows_data = [['Номер запроса', 'Запрос пользователя', 'Эксперт', 'Ответ эксперта', 'system_promt', 'user_promt', 'Правильный ответ', 'id сценария', 'Ответ является правильным', 'Оценка схожести чанка из\\nбазы которую выбрал распределятор', 'Оценка схожести чанка из\\n правильной базы']]\n",
        "    res = {}\n",
        "    success_count = 0\n",
        "\n",
        "    tasks = [\n",
        "        process_question(i, question, system_base_selector, user_base_selector, model_base_selector, temp_base_selector, rows_data, res)\n",
        "        for i, question in enumerate(auto_test_questions, start=1)\n",
        "    ]\n",
        "\n",
        "    await asyncio.gather(*tasks)\n",
        "\n",
        "    for base_name, stats in res.items():\n",
        "        success_count += stats['success_count']\n",
        "\n",
        "    return rows_data, res, success_count\n",
        "\n",
        "# Usage example\n",
        "auto_test_questions = gs_questions.read_data(f'A2:C{row_count}', 'Лист1')\n",
        "rows_data, res, success_count = await main(auto_test_questions, system_base_selector, user_base_selector, model_base_selector, temp_base_selector)\n",
        "rows_data = [rows_data[0]] + sorted(rows_data[1:], key=lambda x: x[0])\n",
        "\n",
        "db_names = list(res.keys())\n",
        "db_result = [f'{res[db_name][\"success_count\"]}/{res[db_name][\"scenario_count\"]:.2f} - ({res[db_name][\"success_count\"]/res[db_name][\"scenario_count\"]*100:.2f}%)' for db_name in db_names]\n",
        "first_row = ['Дата и время', 'Количество запросов', 'процент успешно распределеных запросов', *db_names]\n",
        "second_row = [current_datetime(), len(auto_test_questions), round(success_count/len(auto_test_questions), 2), *db_result]\n",
        "\n",
        "rows_data.insert(0, second_row)\n",
        "rows_data.insert(0, first_row)\n",
        "rows_data.append([])\n",
        "\n",
        "gs_questions.append_rows(rows_data, 'распределятор_auto_test')\n",
        "print(f'Результаты выгружены в таблицу: {questions_spredsheet_url}')\n",
        "\n"
      ],
      "metadata": {
        "colab": {
          "base_uri": "https://localhost:8080/",
          "height": 468
        },
        "cellView": "form",
        "outputId": "43589a79-c847-4c6e-ed57-48b31a658db7",
        "collapsed": true,
        "id": "mK2JQDbsC1Gp"
      },
      "execution_count": null,
      "outputs": [
        {
          "output_type": "display_data",
          "data": {
            "text/plain": [
              "<IPython.core.display.HTML object>"
            ],
            "text/html": [
              "\n",
              "  <style>\n",
              "    pre {\n",
              "        white-space: pre-wrap;\n",
              "    }\n",
              "  </style>\n",
              "  "
            ]
          },
          "metadata": {}
        },
        {
          "output_type": "display_data",
          "data": {
            "text/plain": [
              "<IPython.core.display.HTML object>"
            ],
            "text/html": [
              "\n",
              "  <style>\n",
              "    pre {\n",
              "        white-space: pre-wrap;\n",
              "    }\n",
              "  </style>\n",
              "  "
            ]
          },
          "metadata": {}
        },
        {
          "output_type": "display_data",
          "data": {
            "text/plain": [
              "<IPython.core.display.HTML object>"
            ],
            "text/html": [
              "\n",
              "  <style>\n",
              "    pre {\n",
              "        white-space: pre-wrap;\n",
              "    }\n",
              "  </style>\n",
              "  "
            ]
          },
          "metadata": {}
        },
        {
          "output_type": "display_data",
          "data": {
            "text/plain": [
              "<IPython.core.display.HTML object>"
            ],
            "text/html": [
              "\n",
              "  <style>\n",
              "    pre {\n",
              "        white-space: pre-wrap;\n",
              "    }\n",
              "  </style>\n",
              "  "
            ]
          },
          "metadata": {}
        },
        {
          "output_type": "stream",
          "name": "stdout",
          "text": [
            "key_word_collector: @Доклайнз, formatted:['Доклайнз']\n",
            "key_word_collector: @Отчётность, formatted:['Отчётность']\n",
            "key_word_collector: @Прочие проекты, formatted:['Прочие проекты']\n",
            "key_word_collector: @Общие, formatted:['Общие']\n",
            "key_word_collector: @Общие, formatted:['Общие']\n",
            "key_word_collector: @Отчётность, formatted:['Отчётность']\n",
            "key_word_collector: @Отчётность, formatted:['Отчётность']\n",
            "key_word_collector: @Токены, formatted:['Токены']\n",
            "key_word_collector: @Токены, formatted:['Токены']\n",
            "key_word_collector: @Услуги УЦ, formatted:['Услуги УЦ']\n",
            "key_word_collector: @Услуги УЦ, formatted:['Услуги УЦ']\n",
            "key_word_collector: @Прочие проекты, formatted:['Прочие проекты']\n",
            "key_word_collector: @Услуги УЦ, formatted:['Услуги УЦ']\n",
            "key_word_collector: @Прочие проекты, formatted:['Прочие проекты']\n",
            "key_word_collector: @Прочие проекты, formatted:['Прочие проекты']\n",
            "key_word_collector: @1С, formatted:['1С']\n",
            "key_word_collector: @1С, formatted:['1С']\n",
            "key_word_collector: @1С, formatted:['1С']\n",
            "key_word_collector: @1С, formatted:['1С']\n",
            "key_word_collector: @1С, formatted:['1С']\n",
            "key_word_collector: @1С, formatted:['1С']\n",
            "key_word_collector: @1С, formatted:['1С']\n",
            "key_word_collector: @1С, formatted:['1С']\n",
            "key_word_collector: @1С, formatted:['1С']\n",
            "key_word_collector: @1С, formatted:['1С']\n",
            "Результаты выгружены в таблицу: https://docs.google.com/spreadsheets/d/1rm9bvjDFkRuyU94Lp1A5L4GlzUNkNt7nAA-mmWYf4TY/edit?usp=sharing\n"
          ]
        }
      ]
    },
    {
      "cell_type": "code",
      "source": [
        "#@title Ответ распределятора вручную\n",
        "\n",
        "base_selector_answer = 'КриптоПро / КриптоАРМ' # @param  ['Доклайнз','Отчётность','Общие', 'Прочие проекты', 'Услуги УЦ', 'ККТ/ОФД', 'КриптоПро / КриптоАРМ', 'Токены', 'ЦТО', '1С']"
      ],
      "metadata": {
        "colab": {
          "base_uri": "https://localhost:8080/",
          "height": 17
        },
        "cellView": "form",
        "id": "2pGZoJ0YvRUs",
        "outputId": "86e49b64-6bab-4b60-cf47-5f8e19b51e2e"
      },
      "execution_count": 15,
      "outputs": [
        {
          "output_type": "display_data",
          "data": {
            "text/plain": [
              "<IPython.core.display.HTML object>"
            ],
            "text/html": [
              "\n",
              "  <style>\n",
              "    pre {\n",
              "        white-space: pre-wrap;\n",
              "    }\n",
              "  </style>\n",
              "  "
            ]
          },
          "metadata": {}
        }
      ]
    },
    {
      "cell_type": "code",
      "source": [
        "# @title Поиск самых релевантных чанков по запросу (на основании ответа распределятора)\n",
        "db = None\n",
        "question = query\n",
        "chunks_n = 5 # @param{type: 'integer'}\n",
        "save_to_google_table = True #@param{type: 'boolean'}\n",
        "\n",
        "\n",
        "chunks = find_most_relevant_chunks(\n",
        "    question=question,\n",
        "    base_selector_answer=base_selector_answer,\n",
        "    chunks_n=chunks_n\n",
        ")\n",
        "\n",
        "print_color(\"Запрос пользователя:\", color='green')\n",
        "print(question, end='\\n\\n')\n",
        "\n",
        "\n",
        "print_color(\"Самые релевантные чанки: \", color='green')\n",
        "chunk_cols_data = []\n",
        "\n",
        "for i, chunk in enumerate(chunks, start=1):\n",
        "    part_1 = f'Чанк: #{i}'\n",
        "    part_2 = f'Имя сценария: #{chunk.metadata.get(\"scenario_name\")}'\n",
        "    part_3 = f'Тэги сценария: #{chunk.metadata.get(\"scenario_tags\")}'\n",
        "    part_4 = f'Темплейт сценария: #{chunk.metadata.get(\"scenario_template\")}'\n",
        "    part_5 = f'Содержимое сценария \\n {chunk.page_content}'\n",
        "\n",
        "    print_color(part_1, color='blue')\n",
        "    print_color(part_2, color='blue')\n",
        "    print_color(part_3, color='green')\n",
        "    print_color(part_4, color='orange')\n",
        "    print(part_5)\n",
        "    print('\\n\\n')\n",
        "    chunk_col_data = part_1 + '\\n' + part_2 + '\\n' + part_3 + '\\n' + part_4 + '\\n' + part_5\n",
        "    chunk_cols_data.append(chunk_col_data)\n",
        "\n",
        "\n",
        "if save_to_google_table:\n",
        "    row_data = [\n",
        "        current_datetime(),\n",
        "        base_selector_answer,\n",
        "        question,\n",
        "        *chunk_cols_data,\n",
        "    ]\n",
        "    gs_handler.append_row(row_data, 'Гипотез3 (самые релевантные чанки)')\n",
        "    print_color(\"Данные успешно сохранены в Google Drive.\", color='green')\n",
        "    print(f'url: https://docs.google.com/spreadsheets/d/1607FPIz2-SOwR31rPYlFkYrOo37q9rC9xixcoEo5G8E/edit?usp=sharing')"
      ],
      "metadata": {
        "cellView": "form",
        "id": "S1jliHVgwyJ3",
        "collapsed": true,
        "outputId": "46cab1da-0402-4488-fb6f-265dbe09a587",
        "colab": {
          "base_uri": "https://localhost:8080/",
          "height": 1000
        }
      },
      "execution_count": 16,
      "outputs": [
        {
          "output_type": "display_data",
          "data": {
            "text/plain": [
              "<IPython.core.display.HTML object>"
            ],
            "text/html": [
              "\n",
              "  <style>\n",
              "    pre {\n",
              "        white-space: pre-wrap;\n",
              "    }\n",
              "  </style>\n",
              "  "
            ]
          },
          "metadata": {}
        },
        {
          "output_type": "display_data",
          "data": {
            "text/plain": [
              "<IPython.core.display.HTML object>"
            ],
            "text/html": [
              "<text style=\"color:#2ECC40\">Запрос пользователя:</text>"
            ]
          },
          "metadata": {}
        },
        {
          "output_type": "stream",
          "name": "stdout",
          "text": [
            "Как экспортировать открытую часть сертификата?\n",
            "\n"
          ]
        },
        {
          "output_type": "display_data",
          "data": {
            "text/plain": [
              "<IPython.core.display.HTML object>"
            ],
            "text/html": [
              "<text style=\"color:#2ECC40\">Самые релевантные чанки: </text>"
            ]
          },
          "metadata": {}
        },
        {
          "output_type": "display_data",
          "data": {
            "text/plain": [
              "<IPython.core.display.HTML object>"
            ],
            "text/html": [
              "<text style=\"color:#0074D9\">Чанк: #1</text>"
            ]
          },
          "metadata": {}
        },
        {
          "output_type": "display_data",
          "data": {
            "text/plain": [
              "<IPython.core.display.HTML object>"
            ],
            "text/html": [
              "<text style=\"color:#0074D9\">Имя сценария: #[Сертификат] Как экспортировать открытую часть</text>"
            ]
          },
          "metadata": {}
        },
        {
          "output_type": "display_data",
          "data": {
            "text/plain": [
              "<IPython.core.display.HTML object>"
            ],
            "text/html": [
              "<text style=\"color:#2ECC40\">Тэги сценария: #@КриптоПро,Сертификат,Выгрузка,Перенос</text>"
            ]
          },
          "metadata": {}
        },
        {
          "output_type": "display_data",
          "data": {
            "text/plain": [
              "<IPython.core.display.HTML object>"
            ],
            "text/html": [
              "<text style=\"color:#FF851B\">Темплейт сценария: #ПРОДУКТ, УСЛУГА ИЛИ ГКО | КАК ЧТО-ТО СДЕЛАТЬ</text>"
            ]
          },
          "metadata": {}
        },
        {
          "output_type": "stream",
          "name": "stdout",
          "text": [
            "Содержимое сценария \n",
            " Подробная информация есть в статье БЗ «Статья: Как экспортировать открытую часть сертификата». Статья: \"Как экспортировать открытую часть сертификата\":\n",
            " \n",
            "Как экспортировать открытую часть сертификата — База знаний\n",
            "Как экспортировать открытую часть сертификата\n",
            "Материал из База знаний\n",
            "\t\tПерейти к:\t\tнавигация, \t\tпоиск\n",
            "Развернуть/свернуть всё\n",
            "Что такое открытая часть сертификата\n",
            "Открытая часть сертификата представляется в виде электронного сертификата или бумажного документа. Такой сертификат отображается в виде файла с разрешением .cer.Открытый ключ используется для:\n",
            "Проверки подписи под документом. Подписание возможно только при наличии ключевой пары.\n",
            "Работы с партнерами, контрагенты могут использовать его для шифрования данных, которые отправляют владельцу. Расшифровать эти данные после отправки получится только при наличии закрытой части сертификата.\n",
            "Доступ к закрытому ключу имеет только владелец сертификата, открытая часть доступна всем участникам электронного взаимодействия.\n",
            "Как экспортировать открытую часть\n",
            "Экспортировать открытую часть сертификата возможно одним из способов:\n",
            " \n",
            "Через «Панель управления» для ОС Windows \n",
            "В ОС:\n",
            "Windows 7: Открыть «Пуск» - «Панель управления» - «Свойства браузера»;\n",
            "Windows 8: Навести курсор мыши в правый верхний угол рабочего стола - в появившейся боковой панели нажать на «Поиск» и ввести «свойства» - выбрать «Свойства браузера»;\n",
            "Windows 10, 11: Открыть поисковое окно («Поиск» или значок лупы справа от кнопки «Пуск»), ввести «свойства» - выбрать «Свойства браузера». \n",
            "Перейти на вкладку «Содержимое» или «Содержание»;\n",
            "Нажать «Сертификаты»;\n",
            "Перейти на вкладку «Личные»;\n",
            "Выбрать из списка необходимый для экспорта сертификат;\n",
            "Нажать «Экспорт»;\n",
            "В открывшемся «Мастере экспорта сертификатов» нажать «Далее»;\n",
            "По умолчанию будет выбран экспорт только открытой части сертификата, нажать «Далее» без изменения параметров;\n",
            "Выбрать формат экспортируемого файла «Файлы X.509 (.CER) в кодировке DER»;\n",
            "Нажать «Далее»;\n",
            "Нажать «Обзор»;\n",
            "Указать имя копируемого файла;\n",
            "В строке «Имя файла» отобразится путь, куда будет сохранён сертификат;\n",
            "Нажать «Далее»;\n",
            "Нажать «Готово»;\n",
            "Дождаться сообщения об успешном экспорте сертификата;\n",
            "Нажать «ОК».\n",
            " \n",
            "Через браузер для MacOS \n",
            "Если сертификат записан на съемный носитель, перед началом экспорта необходимо:\n",
            "1. Подключить носитель к компьютеру;\n",
            "2. Убедиться, что компьютер его распознает;\n",
            "3. Открыть сертификат в браузере:\n",
            " \n",
            "Microsoft Edge \n",
            "В правом верхнем углу браузера нажать ;\n",
            "Открыть «Параметры»;\n",
            "Выбрать «Конфиденциальность, поиск и службы»;\n",
            "В разделе «Безопасность» выбрать «Управление сертификатами».\n",
            " \n",
            "Google Chrome \n",
            "В правом верхнем углу браузера нажать ;\n",
            "Открыть «Настройки»;\n",
            "Выбрать «Конфиденциальность и безопасность»;\n",
            "Открыть «Безопасность»;\n",
            "В разделе «Дополнительные» выбрать «Настроить сертификаты».\n",
            " \n",
            "Opera \n",
            "В правом верхнем углу браузера нажать ;\n",
            "Выбрать «Открыть все настройки браузера»;\n",
            "Выбрать «Безопасность» - «Безопасность»;\n",
            "Нажать «Настроить сертификаты».\n",
            " \n",
            "Яндекс Браузер» \n",
            "В правом верхнем углу браузера нажать ;\n",
            "Открыть «Настройки»;\n",
            "Выбрать «Системные»;\n",
            "В разделе «Сеть» нажать «Управление сертификатами».\n",
            "4. Перейти на вкладку «Личные»;\n",
            "5. Выбрать из списка необходимый для экспорта сертификат;\n",
            "6. Нажать «Экспорт»;\n",
            "7. В открывшемся «Мастере экспорта сертификатов» нажать «Далее»;\n",
            "8. По умолчанию будет выбран экспорт только открытой части сертификата, нажать «Далее» без изменения параметров;\n",
            "9. Выбрать формат экспортируемого файла «Файлы X.509 (.CER) в кодировке DER»;\n",
            "10. Нажать «Далее»;\n",
            "11. Нажать «Обзор»;\n",
            "12. Указать имя копируемого файла;\n",
            "13. В строке «Имя файла» отобразится путь, куда будет сохранён сертификат;\n",
            "14. Нажать «Далее»;\n",
            "15. Нажать «Готово»;\n",
            "16. Дождаться сообщения об успешном экспорте сертификата;\n",
            "17. Нажать «ОК».\n",
            " \n",
            "Через «КриптоПро» для ОС Linux \n",
            "Открыть «Инструменты КриптоПро» - «Показать расширенные» - «Сертификаты»;\n",
            "Из списка сертификатов выбрать нужный сертификат;\n",
            "Нажать «Экспортировать сертификаты»;\n",
            "Дождаться сообщения об успешном завершении экспорта сертификата.Посмотреть сохраненные копии сертификатов можно с помощью команды:csptest -keyset -enum_cont -verifycоntext -fqcn\n",
            " \n",
            "\n",
            "\n",
            "\n",
            "\n",
            "\n",
            "\n"
          ]
        },
        {
          "output_type": "display_data",
          "data": {
            "text/plain": [
              "<IPython.core.display.HTML object>"
            ],
            "text/html": [
              "<text style=\"color:#0074D9\">Чанк: #2</text>"
            ]
          },
          "metadata": {}
        },
        {
          "output_type": "display_data",
          "data": {
            "text/plain": [
              "<IPython.core.display.HTML object>"
            ],
            "text/html": [
              "<text style=\"color:#0074D9\">Имя сценария: #[КриптоПро CSP] Сообщение Не найден контейнер соответствующий открытому ключу</text>"
            ]
          },
          "metadata": {}
        },
        {
          "output_type": "display_data",
          "data": {
            "text/plain": [
              "<IPython.core.display.HTML object>"
            ],
            "text/html": [
              "<text style=\"color:#2ECC40\">Тэги сценария: #Отсутствие,@КриптоПро,Сертификат,Ошибка,Контейнер,КриптоПро</text>"
            ]
          },
          "metadata": {}
        },
        {
          "output_type": "display_data",
          "data": {
            "text/plain": [
              "<IPython.core.display.HTML object>"
            ],
            "text/html": [
              "<text style=\"color:#FF851B\">Темплейт сценария: #ПРОДУКТ, УСЛУГА ИЛИ ГКО | ДЕЙСТВИЕ | ЧТО ПРОИСХОДИТ | ТЕКСТ СООБЩЕНИЯ</text>"
            ]
          },
          "metadata": {}
        },
        {
          "output_type": "stream",
          "name": "stdout",
          "text": [
            "Содержимое сценария \n",
            " Необходимо:  Загрузить открытую часть сертификата из «Статья: Реестра сертификатов[https://cert.taxcom.ru/Private.aspx]» и установить ее через «КриптоПро». Вход по логину: TaxcomUser и паролю: Taxcomcertificate (доступ только для сотрудников).    Зайти на Статья: сайт[http://cert.taxcom.ru/Private.aspx], вход по логину: TaxcomUser и паролю: Taxcomcertificate (доступ только для сотрудников).  Найти сертификат по его серийному номеру или отпечатку.  Нажать «Показать сертификат…».  Перейти в «КриптоПро»:     Windows 7: «Пуск» - «Все программы» - «КРИПТО-ПРО» - «КриптоПро CSP»;   Windows 8: нажать ПКМ на рабочем столе - выбрать внизу экрана «Все приложения» - «КРИПТО-ПРО» - «КриптоПро CSP»;   Windows 10: «Пуск» - «КРИПТО-ПРО» - «КриптоПро CSP».      На вкладке «Сервис» нажать «Установить личный сертификат…».  В открывшемся окне нажать «Обзор», указать путь до файла с открытой частью сертификата и нажать «Открыть».  Нажать «Далее», проверить данные в сертификате и еще раз нажать «Далее».  Найти контейнер сертификата, поставив галку «Найти контейнер автоматически». Если поле неактивно или при автоматическом поиске контейнера возникает сообщение об ошибке, необходимо найти контейнер с помощью кнопки «Обзор» по дате получения сертификата.  Нажать «Далее», поставить галку «Установить сертификат в контейнер» и еще раз нажать «Далее».  Нажать «Готово».  \n",
            "\n",
            "\n",
            "\n"
          ]
        },
        {
          "output_type": "display_data",
          "data": {
            "text/plain": [
              "<IPython.core.display.HTML object>"
            ],
            "text/html": [
              "<text style=\"color:#0074D9\">Чанк: #3</text>"
            ]
          },
          "metadata": {}
        },
        {
          "output_type": "display_data",
          "data": {
            "text/plain": [
              "<IPython.core.display.HTML object>"
            ],
            "text/html": [
              "<text style=\"color:#0074D9\">Имя сценария: #[КриптоПро CSP] Сертификат отображается в поле Неэкспортируемые контейнеры</text>"
            ]
          },
          "metadata": {}
        },
        {
          "output_type": "display_data",
          "data": {
            "text/plain": [
              "<IPython.core.display.HTML object>"
            ],
            "text/html": [
              "<text style=\"color:#2ECC40\">Тэги сценария: #@КриптоПро,Сертификат УЦ ФНС,Сертификат,Выгрузка,Копирование,@Токен,Носитель,Контейнер,Просмотр,КриптоПро,Визуализация</text>"
            ]
          },
          "metadata": {}
        },
        {
          "output_type": "display_data",
          "data": {
            "text/plain": [
              "<IPython.core.display.HTML object>"
            ],
            "text/html": [
              "<text style=\"color:#FF851B\">Темплейт сценария: #ПРОДУКТ, УСЛУГА ИЛИ ГКО | ДЕЙСТВИЕ | ЧТО ПРОИСХОДИТ | ТЕКСТ СООБЩЕНИЯ</text>"
            ]
          },
          "metadata": {}
        },
        {
          "output_type": "stream",
          "name": "stdout",
          "text": [
            "Содержимое сценария \n",
            " В «КриптоПро CSP» версии 5.0 сертификат отображается в поле «Неэкспортируемые контейнеры», если он является некопируемым. Данный параметр определяется при получении сертификата.  Если Клиент хочет скопировать сертификат, указанный в этом поле, необходимо сообщить, что возможность скопировать его на другой носитель или в реестр отсутствует. Использовать данный сертификат (в том числе сертификат УЦ ФНС) можно только на токене, на который он был выпущен.  Отсутствует возможность копировать сертификаты, выпущенные на:    «Рутокен ЭЦП 2.0»;  «Рутокен ЭЦП 2.0 Flash»;  «Рутокен ЭЦП 3.0»;  «Рутокен ЭЦП PKI»;  «Рутокен 2151»;  JaCarta 2SE;  JaCarta 2ГОСТ;  JaCarta SF/ГОСТ;  JaCarta PKI;  Etoken Gost.  \n",
            "\n",
            "\n",
            "\n"
          ]
        },
        {
          "output_type": "display_data",
          "data": {
            "text/plain": [
              "<IPython.core.display.HTML object>"
            ],
            "text/html": [
              "<text style=\"color:#0074D9\">Чанк: #4</text>"
            ]
          },
          "metadata": {}
        },
        {
          "output_type": "display_data",
          "data": {
            "text/plain": [
              "<IPython.core.display.HTML object>"
            ],
            "text/html": [
              "<text style=\"color:#0074D9\">Имя сценария: #[КриптоПро TSP и OCSP] Как ввести серийный номер</text>"
            ]
          },
          "metadata": {}
        },
        {
          "output_type": "display_data",
          "data": {
            "text/plain": [
              "<IPython.core.display.HTML object>"
            ],
            "text/html": [
              "<text style=\"color:#2ECC40\">Тэги сценария: #@КриптоПро,Ввод,Серийный номер,Лицензия,Другая программа,КриптоПро</text>"
            ]
          },
          "metadata": {}
        },
        {
          "output_type": "display_data",
          "data": {
            "text/plain": [
              "<IPython.core.display.HTML object>"
            ],
            "text/html": [
              "<text style=\"color:#FF851B\">Темплейт сценария: #ПРОДУКТ, УСЛУГА ИЛИ ГКО | КАК ЧТО-ТО СДЕЛАТЬ</text>"
            ]
          },
          "metadata": {}
        },
        {
          "output_type": "stream",
          "name": "stdout",
          "text": [
            "Содержимое сценария \n",
            " Необходимо:    Открыть «Пуск» - «Все программы» - «КриптоПро» - «КриптоПро PKI»;  В разделе «Управление лицензиями» правой кнопкой мыши нажать на «TSP (OCSP) Client»;  Выбрать «Все задачи» ­- «Ввести серийный номер»;  Ввести серийный номер и нажать «ОК».  \n",
            "\n",
            "\n",
            "\n"
          ]
        },
        {
          "output_type": "display_data",
          "data": {
            "text/plain": [
              "<IPython.core.display.HTML object>"
            ],
            "text/html": [
              "<text style=\"color:#0074D9\">Чанк: #5</text>"
            ]
          },
          "metadata": {}
        },
        {
          "output_type": "display_data",
          "data": {
            "text/plain": [
              "<IPython.core.display.HTML object>"
            ],
            "text/html": [
              "<text style=\"color:#0074D9\">Имя сценария: #[КриптоПро CSP] В списке доступных контейнеров пусто или не отображаются контейнеры на носителе</text>"
            ]
          },
          "metadata": {}
        },
        {
          "output_type": "display_data",
          "data": {
            "text/plain": [
              "<IPython.core.display.HTML object>"
            ],
            "text/html": [
              "<text style=\"color:#2ECC40\">Тэги сценария: #Отсутствие,@КриптоПро,Сертификат,Установка,Токен,Носитель,Контейнер,КриптоПро,Визуализация</text>"
            ]
          },
          "metadata": {}
        },
        {
          "output_type": "display_data",
          "data": {
            "text/plain": [
              "<IPython.core.display.HTML object>"
            ],
            "text/html": [
              "<text style=\"color:#FF851B\">Темплейт сценария: #ПРОДУКТ, УСЛУГА ИЛИ ГКО | ДЕЙСТВИЕ | ЧТО ПРОИСХОДИТ | ТЕКСТ СООБЩЕНИЯ</text>"
            ]
          },
          "metadata": {}
        },
        {
          "output_type": "stream",
          "name": "stdout",
          "text": [
            "Содержимое сценария \n",
            " Необходимо проконсультировать Клиента по статье Базы знаний «Статья: В списке доступных контейнеров пусто или не отображаются контейнеры на носителе». Статья: \"В списке доступных контейнеров пусто или не отображаются контейнеры на носителе\":\n",
            " \n",
            "В списке доступных контейнеров пусто или не отображаются контейнеры на носителе — База знаний\n",
            "В списке доступных контейнеров пусто или не отображаются контейнеры на носителе\n",
            "Материал из База знаний\n",
            "\t\tПерейти к:\t\tнавигация, \t\tпоиск\n",
            "Развернуть/свернуть всё\n",
            "1. Необходимо уточнить у Клиента, где находится сертификат;\n",
            "2. Если сертификат находится:\n",
            " В реестре \n",
            "Необходимо:\n",
            "1. Убедиться, что установлена «КриптоПро CSP» сертифицированной версии и ее лицензия действительна.\n",
            "Если установлена «КриптоПро CSP» несертифицированной версии, необходимо переустановить на сертифицированную совместимую версию:\n",
            "ОС Windows, для Windows 11 требуется версия 5.0 R2 (12000) или выше;\n",
            "ОС Linux, требуется версия 5.0 или выше.\n",
            "2. Если сертификат выпущен с помощью VipNet, он будет отображаться только в VipNet CSP.\n",
            " Если клиент не знает, с помощью чего был выпущен сертификат \n",
            "1. Зайти в открытую часть сертификата, подробная информация есть в сценарии «[Сертификат] Как посмотреть информацию по сертификату»\n",
            "2. Перейти на вкладку «Состав» открыть поле «Средство электронной подписи» или «Subject sign tool»;\n",
            "3. Посмотреть СКЗИ, при помощи которого был сформирован контейнер.\n",
            " 3. Проверить наличие закрытого ключа \n",
            "1. Запустить редактор реестра:\n",
            "Нажать сочетание клавиш Win+R;\n",
            "Ввести команду regedit, нажать «ОК».\n",
            "2. Проверить наличие папки с файлами .key в каталоге:\n",
            "HKEY_LOCAL_MACHINE\\SOFTWARE\\Crypto Pro\\Settings\\USERS\\SID_текущего_пользователя\\Keys (для x32 систем);\n",
            "HKEY_LOCAL_MACHINE\\SOFTWARE\\Wow6432Node\\Crypto Pro\\Settings\\USERS\\SID_текущего_пользователя\\Keys (для x64 систем).\n",
            " Если папки нет, необходимо убедиться, что Клиент использует ту учетную запись на компьютере, под которой были получены сертификаты.\n",
            " 4. Проверить настройки считывателей в «КриптоПро CSP»: \n",
            "1. Открыть «КриптоПро CSP» - «Оборудование» - «Настроить считыватели»;\n",
            "2. Найти в списке строку «Реестр». Если строка:\n",
            " Есть - действовать дальше согласно БЗ;\n",
            " Отсутствует:\n",
            "1. Нажать «Добавить»;\n",
            "2. В открывшемся окне нажать «Далее»;\n",
            "3. Выбрать в списке нужный носитель и нажать «Далее» - «Готово».\n",
            " 5. Если ситуация сохраняется, необходимо: \n",
            "1. Запустить редактор реестра:\n",
            "Нажать сочетание клавиш Win+R;\n",
            "Ввести команду regedit, нажать «ОК».\n",
            "2. Проверить, сформирована ли папка Settings у пользователя в каталоге:\n",
            " HKEY_CURRENT_USER\\ Software\\Classes\\VirtualStore\\MACHINE\\SOFTWARE\\Wow6432Node\\Crypto Pro\\(для x64 систем);\n",
            " HKEY_CURRENT_USER\\ Software\\Classes\\VirtualStore\\MACHINE\\SOFTWARE\\Crypto Pro\\ (для 32-битных систем);\n",
            " Если папка Settings не сформирована, перейти к шагу 5 «Если найти ключ в реестре не удалось...».\n",
            "3. Создать резервную копию реестра. Для этого необходимо выделить ветку, нажать «Файл» – «Экспорт» и выбрать, куда сохранить файл в формате .reg.\n",
            "4. Экспортировать ветки реестра в произвольный каталог;\n",
            "5. Открыть выгруженный файл реестра с помощью «Блокнота»;\n",
            "6. Изменить пути к ветке реестра на следующие:\n",
            " HKEY_LOCAL_MACHINE\\SOFTWARE\\Wow6432Node\\Crypto Pro\\Settings\\USERS \\ S-1-5…( сид пользователя)\\Keys (для x64 систем);\n",
            " HKEY_LOCAL_MACHINE\\SOFTWARE\\Crypto Pro\\Settings\\USERS \\S-1-5…(сид пользователя)\\Keys (для 32-битных систем);\n",
            "7. Сохранить изменения;\n",
            "8. Запустить файл реестра;\n",
            "9. Согласиться с внесением изменений в реестр.\n",
            "Если у Клиента нет доступа к изменениям, необходимо рекомендовать ему обратиться к системному администратору для предоставления прав.\n",
            "6. Если найти ключ в реестре не удалось, проверить была ли создана резервная копия и уточнить у клиента, копировал ли он сертификат.\n",
            "Если резервной копии нет, перейти к следующему пункту.\n",
            " В накопителе (жесткий диск, SSD, USB-флешка) \n",
            "Необходимо убедиться, что:\n",
            "1. имя контейнера соответствует виду «Имя контейнера.XXX», где:\n",
            "Имя контейнера - набор символов за исключением кириллицы;\n",
            "XXX – произвольный номер из трех цифр;\n",
            "2. контейнер присутствует на носителе (был сформирован или скопирован на проверяемый носитель);\n",
            "3. папка с контейнером находится в корневой папке USB-накопителя (флешки) или любого диска, кроме C;\n",
            "4. установлена «КриптоПро» сертифицированной версии и ее лицензия действительна.\n",
            "Если установлена «КриптоПро CSP» несертифицированной версии, необходимо переустановить на сертифицированную совместимую версию:\n",
            "ОС Windows, для Windows 11 требуется версия 5.0 R2 (12000) или выше;\n",
            "ОС Linux, требуется версия 5.0 или выше.\n",
            "5. Если сертификат выпущен с помощью VipNet, он будет отображаться только в VipNet CSP.\n",
            " Если клиент не знает, с помощью чего был выпущен сертификат \n",
            "1. Зайти в открытую часть сертификата, подробная информация есть в сценарии «[Сертификат] Как посмотреть информацию по сертификату»\n",
            "2. Перейти на вкладку «Состав» открыть поле «Средство электронной подписи» или «Subject sign tool»;\n",
            "3. Посмотреть СКЗИ, при помощи которого был сформирован контейнер.\n",
            " На токене \n",
            "Если у Клиента:\n",
            "1. Cертификат на «Рутокене TLS» от Сбербанка, носитель не будет отображаться в «Панели управления Рутокен». \n",
            " Его можно увидеть в программе \n",
            " «КриптоПро CSP» версии не ниже 5.0 R2 с PKCS#11;\n",
            "«Инструменты КриптоПро» (входит в состав версии «КриптоПро CSP» 5.0 R2 (12000) и выше);\n",
            "от Сбербанка.\n",
            "2. Если Клиент использует токен через удаленный рабочий стол (RDP), сообщить, что для корректной работы токена необходимо, чтобы токен был установлен на локальном компьютере, с которого происходит подключение к удаленному рабочему столу;\n",
            "3. Windows 11, необходима «КриптоПро CSP» версии 5.0 R2 (12000) и выше.\n",
            "Необходимо, если Клиент использует:\n",
            " Наш токен и: \n",
            " сертификаты УЦ ФНС, ЕГАИС или «Ключ для маркировки 2.0» \n",
            "1. Если сертификат выпущен с помощью VipNet, он будет отображаться только в VipNet CSP;\n",
            " Если клиент не знает, с помощью чего был выпущен сертификат\n",
            "1. Зайти в открытую часть сертификата, подробная информация есть в сценарии «[Сертификат] Как посмотреть информацию по сертификату»\n",
            "2. Перейти на вкладку «Состав» открыть поле «Средство электронной подписи» или «Subject sign tool»;\n",
            "3. Посмотреть СКЗИ, при помощи которого был сформирован контейнер.\n",
            "2. Убедиться, что установлена «КриптоПро CSP» версии 5.0 R2 с PKCS#11 и ее лицензия действительна;\n",
            "3. Переустановить драйвера токена;\n",
            "4. Проверить работоспособность носителя. Подробнее в сценарии «[Токен] Как проверить работоспособность». Если:\n",
            "Неработоспособен, рекомендовать получить новый токен и сертификат. (если нет копии).\n",
            "Работоспособен, идем дальше. Проверить отображение контейнера с сертификатом через драйвер токена:\n",
            "Не отображается: \n",
            "1. Попросить Клиента переподключить токен, используя другой порт;\n",
            "2. Возможно, сертификат записан на другие носители – проверить их также на наличие нужного сертификата.\n",
            "3. Проверить наличие закрытого ключа согласно сценарию «[Сертификат] При обращении к контейнеру сообщение В контейнере…отсутствуют закрытые ключи».\n",
            "Отображается, но в «КриптоПро CSP» контейнера нет, необходимо:\n",
            "1.Открыть «КриптоПро CSP»:\n",
            "Windows 7: «Пуск» - «Все программы» - «КРИПТО-ПРО» - «КриптоПро CSP»;\n",
            "Windows 8: нажать ПКМ на рабочем столе - выбрать внизу экрана «Все приложения» - «КРИПТО-ПРО» - «КриптоПро CSP»;\n",
            "Windows 10: «Пуск» - «КРИПТО-ПРО» - «КриптоПро CSP».\n",
            "2.На вкладке «Общие» нажать ссылку «Запустить с правами администратора»;\n",
            "3.На вкладке «Оборудование» нажать «Настроить считыватели»;\n",
            "4.Удалить в «КриптоПро CSP» считыватель \"Все считыватели смарт-карт PKCS#11\";\n",
            "5.Добавить «Все считыватели смарт-карт PKCS#11», при установке отметив галками те типы токенов, которые собирается использовать Клиент.\n",
            " любой другой наш сертификат \n",
            "1. Убедиться, что установлена «КриптоПро CSP» сертифицированной версии и ее лицензия действительна.\n",
            "Если установлена «КриптоПро CSP» несертифицированной версии, необходимо переустановить на сертифицированную совместимую версию:\n",
            "ОС Windows, для Windows 11 требуется версия 5.0 R2 (12000) или выше;\n",
            "ОС Linux, требуется версия 5.0 или выше.\n",
            "2. Переустановить драйвера токена.\n",
            "3. Проверить работоспособность носителя. Подробнее в сценарии «[Токен] Как проверить работоспособность». Если:\n",
            "Неработоспособен, уточнить у Клиента, есть ли у него копия сертификата (например, на другом рабочем месте). Если:\n",
            "Есть, установить сертификат из копии.\n",
            "Отсутствует, рекомендовать получить новый токен и сертификат.\n",
            "Работоспособен, проверить отображение контейнера с сертификатом через драйвер токена. Если:\n",
            "Не отображается: \n",
            "1. Попросить Клиента переподключить токен, используя другой порт;\n",
            "2. Проверить другие носители, если есть, на наличие нужного сертификата.\n",
            "3. Проверить в универсальном анализаторе имя компьютера, на котором был выпущен сертификат, и носитель ключа. Если сертификат был выпущен в реестр другого рабочего места, необходимо его скопировать.\n",
            "Отображается, но в «КриптоПро CSP» контейнер отсутствует, необходимо проверить каким СКЗИ был сформирован сертификат. Если это не \"КриптоПро\", перейти в него.\n",
            "4. Если сертификат выпущен с помощью VipNet, он будет отображаться только в VipNet CSP. Подробная информация есть в сценарии «[Сертификат] Как посмотреть информацию по сертификату»\n",
            " любой другой сертификат  \n",
            "1. Если сертификат выпущен с помощью VipNet, он будет отображаться только в VipNet CSP. \n",
            "2. Убедиться, что установлена «КриптоПро CSP» сертифицированной версии и ее лицензия действительна.\n",
            "Если установлена «КриптоПро CSP» несертифицированной версии, необходимо переустановить на сертифицированную совместимую версию:\n",
            "ОС Windows, для Windows 11 требуется версия 5.0 R2 (12000) или выше;\n",
            "ОС Linux, требуется версия 5.0 или выше.\n",
            "3. Переустановить драйвера токена.\n",
            "4. Проверить работоспособность носителя. Подробнее в сценарии «[Токен] Как проверить работоспособность». Если:\n",
            "Неработоспособен, рекомендовать получить новый токен и сертификат. (если нет копии).\n",
            "Работоспособен, идем дальше. Проверить отображение контейнера с сертификатом через драйвер токена:\n",
            "Не отображается: \n",
            "1. Попросить Клиента переподключить токен, используя другой порт;\n",
            "2. Возможно, сертификат записан на другие носители – проверить их также на наличие нужного сертификата.\n",
            "Отображается, но в «КриптоПро CSP» контейнера нет, необходимо проверить каким СКЗИ был сформирован сертификат, если это не КриптоПро то, перейти в него.\n",
            " Если клиент не знает, с помощью чего был выпущен сертификат \n",
            "1. Зайти в открытую часть сертификата, подробная информация есть в сценарии «[Сертификат] Как посмотреть информацию по сертификату»\n",
            "2. Перейти на вкладку «Состав» открыть поле «Средство электронной подписи» или «Subject sign tool»;\n",
            "3. Посмотреть СКЗИ, при помощи которого был сформирован контейнер.\n",
            " Не наш токен \n",
            "1. Если сертификат выпущен с помощью VipNet, он будет отображаться только в VipNet CSP;\n",
            " Если клиент не знает, с помощью чего был выпущен сертификат \n",
            "1. Зайти в открытую часть сертификата, подробная информация есть в сценарии «[Сертификат] Как посмотреть информацию по сертификату»\n",
            "2. Перейти на вкладку «Состав» открыть поле «Средство электронной подписи» или «Subject sign tool»;\n",
            "3. Посмотреть СКЗИ, при помощи которого был сформирован контейнер.\n",
            " \"Рутокен ЭЦП 2.0/ 3.0/ 3.0 NFC\" \n",
            "Необходимо:\n",
            "1. Запустить «Панель управления Рутокен»;\n",
            "2. Перейти на вкладку «Сертификаты».\n",
            "Чтобы посмотреть информацию:\n",
            "об открытой части сертификата, перейти в раздел «Личные сертификаты»;\n",
            "о закрытой части сертификата, нажать «Ввести PIN-код» в правом верхнем углу и ввести PIN-код пользователя (по умолчанию 12345678).\n",
            "3. Установить сертификат через драйвер токена (аналогично установке через «КриптоПро CSP»):\n",
            "Открыть «Панель управления Рутокен» - «Сертификаты»;\n",
            "Выбрать нужный сертификат и поставить галку в столбце «Зарегистрирован».\n",
            "Если снять галку в столбце «Зарегистрирован», сертификат будет удален из хранилища «Личные».\n",
            "  JaCarta-2 SE \n",
            "Необходимо:\n",
            "1. Запустить «Единый Клиент JaCarta»;\n",
            "2. Перейти на вкладку «ГОСТ». В «Едином Клиенте JaCarta» две вкладки «ГОСТ». Чтобы посмотреть информацию о сертификате, необходимо проверить их обе.\n",
            "Чтобы посмотреть информацию:\n",
            "1. об открытой части сертификата, перейти в раздел «Ключи и сертификаты»;\n",
            "2. о закрытой части сертификата, нажать «Ввести PIN-код» в правом нижнем углу и ввести PIN-код от ГОСТ части токена (по умолчанию 1234567890).\n",
            "2. Убедиться, что установлена «КриптоПро CSP» версии 5.0 R2 с PKCS#11 и ее лицензия действительна.\n",
            "3. Переустановить драйвера токена;\n",
            "4. Проверить работоспособность носителя. Подробнее в сценарии «[Токен] Как проверить работоспособность». Если:\n",
            "Неработоспособен, рекомендовать получить новый токен и сертификат. (если нет копии).\n",
            "Работоспособен, проверить отображение контейнера с сертификатом через драйвер токена:\n",
            "Не отображается: \n",
            "1. Возможно, сертификат записан на другие носители – проверить их также на наличие нужного сертификата;\n",
            "2. Попросить Клиента переподключить токен, используя другой порт.\n",
            "Отображается, но в «КриптоПро CSP» контейнера нет, необходимо:\n",
            "1.На вкладке \"Общие\" нажать ссылку \"Запустить с правами администратора\"; \n",
            "2. На вкладке \"Оборудование\" нажать \"Настроить считыватели\";\n",
            "3. Удалить в «КриптоПро CSP» считыватель \"Все считыватели смарт-карт PKCS#11\".\n",
            "4. Добавить «Все считыватели смарт-карт PKCS#11», при установке отметив галками те типы токенов, которые собирается использовать Клиент.\n",
            " В облачном хранилище \n",
            "В этом случае через «КриптоПро CSP» контейнера не будет видно.\n",
            "3. Если после проделанных действий ситуация сохраняется, необходимо:\n",
            "1. Переустановить «КриптоПро»:\n",
            "ОС Windows;\n",
            "ОС Linux.\n",
            " 2. Проверить кем выдан сертификат: \n",
            " Windows 7 \n",
            "1. Открыть «Пуск» - «Панель управления» - «Свойства браузера» - вкладка «Содержание»;\n",
            "2. Нажать «Сертификаты» - дважды щелкнуть по нужному сертификату;\n",
            "3. Издатель будет указан в поле «Кем выдан».\n",
            " Windows 8 \n",
            "1. Навести курсор мыши в правый верхний угол рабочего стола;\n",
            "2. В появившейся боковой панели нажать на «Поиск» и ввести «свойства»;\n",
            "3. Выбрать «Свойства браузера» - вкладка «Содержание»;\n",
            "4. Нажать «Сертификаты» - дважды щелкнуть по нужному сертификату;\n",
            "5. Издатель будет указан в поле «Кем выдан».\n",
            " Windows 10, 11 \n",
            "1. Открыть поисковое окно («Поиск» или значок лупы справа от кнопки «Пуск»), ввести «свойства»;\n",
            "2. Выбрать «Свойства браузера» - вкладка «Содержимое» или «Содержание»;\n",
            "3. Нажать «Сертификаты» - дважды щелкнуть по нужному сертификату;\n",
            "4. Издатель будет указан в поле «Кем выдан».\n",
            "УЦ «Такском», проконсультировать Клиента по статье БЗ для сертификата:\n",
            "ЭДО с ГКО - «Получение сертификата ЭДО с ГКО, если действующий утерян, скомпрометирован или истек»;\n",
            "ЭТ – «Вопросы о приобретении ПО и услуг».\n",
            "Другим УЦ, рекомендовать обратиться в их техподдержку для решения вопроса.\n",
            "Если затруднение сохраняется, необходимо создать инцидент и направить его в список ожидания «Аналитик».\n",
            " \n",
            "\n",
            "\n",
            "\n",
            "\n",
            "\n",
            "\n"
          ]
        },
        {
          "output_type": "display_data",
          "data": {
            "text/plain": [
              "<IPython.core.display.HTML object>"
            ],
            "text/html": [
              "<text style=\"color:#2ECC40\">Данные успешно сохранены в Google Drive.</text>"
            ]
          },
          "metadata": {}
        },
        {
          "output_type": "stream",
          "name": "stdout",
          "text": [
            "url: https://docs.google.com/spreadsheets/d/1607FPIz2-SOwR31rPYlFkYrOo37q9rC9xixcoEo5G8E/edit?usp=sharing\n"
          ]
        }
      ]
    },
    {
      "cell_type": "code",
      "source": [
        "# @title Специалист по выбору самого релевантного сценария (scenario_selecter)\n",
        "question = \"Как экспортировать открытую часть сертификата?\" # @param{type: 'string'}\n",
        "system_scenario_selecter = \"Ты специалист в компании, которая занимается документооборотом. К тебе обращается пользователь с Запросом. У тебя есть Топ 5 Инструкций, которые относятся к запросу пользователя. Твоя задача: выбрать ОДНУ инструкцию, которая наиболее релевантна к запросу пользователя. Ты на 100% следуешь ПРАВИЛАМ: 1. Ты отбираешь ТОЛЬКО ОДНУ инструкцию, которая  точно имеет информацию по Запросу пользователя; 2. Ты пишешь полное содержание отобранной тобой Инструкции слово в слово.\" # @param{type: 'string'}\n",
        "user_scenario_selecter = \"Пожалуйста, действуй шаг за шагом: 1. Внимательно проанализируй и пойми весь смысл Запроса пользователя: {topic}; 2. Внимательно проанализируй предоставленные тебе Топ 5 Инструкций; 3. Напиши в своем ответе только НОМЕР САМОЙ РЕЛЕВАНТНОЙ инструкции и БОЛЬШЕ НИЧЕГО. {message_content}. Топ 5 Инструкций: {message_content} Запрос пользователя: {topic}\" # @param{type: 'string'}\n",
        "temp_scenario_selecter = 0 # @param {type: 'slider', min: 0, max: 2, step: 0.1}\n",
        "model_scenario_selecter = 'gpt-4o-mini' # @param  ['gpt-4o-mini','gpt-4o', 'gpt-4', 'gpt-3.5-turbo-16k-0613', 'gpt-3.5-turbo-1106']\n",
        "\n",
        "save_to_google_table = True #@param{type: 'boolean'}\n",
        "\n",
        "db = get_db(base_selector_answer)\n",
        "most_relevant_chunks = db.similarity_search(query=query, k=5)\n",
        "message_content = [f'Сценарий №{i}\\n{chunk.page_content}\\n\\n' for i, chunk in enumerate(most_relevant_chunks, start=1)]\n",
        "message_content = '\\n'.join(message_content)\n",
        "\n",
        "\n",
        "async def scenario_selecter(system, user, topic, message_content, model, temperature):\n",
        "    user = user.format(\n",
        "        topic=topic,\n",
        "        message_content=message_content\n",
        "    )\n",
        "    messages = [\n",
        "        {'role': 'system', 'content': system},\n",
        "        {'role': 'user', 'content': user}\n",
        "    ]\n",
        "    completion = await client.chat.completions.create(\n",
        "        model=model,\n",
        "        messages=messages,\n",
        "        temperature=temperature\n",
        "    )\n",
        "    answer = completion.choices[0].message.content\n",
        "    return answer\n",
        "\n",
        "scenario_selecter_answer = await scenario_selecter(system_scenario_selecter, user_scenario_selecter, question, message_content, model_scenario_selecter, temp_scenario_selecter)\n",
        "\n",
        "\n",
        "print_color('Отобранный чанк:', 'blue')\n",
        "print(message_content)\n",
        "print_color('Запрос пользователя:', 'blue')\n",
        "print(question)\n",
        "print('-' * 50)\n",
        "print_color(f'Специалист по выбору самого релевантного сценария (scenario_selecter):', 'pink')\n",
        "print(scenario_selecter_answer)\n",
        "\n",
        "\n",
        "\n",
        "if save_to_google_table:\n",
        "    row_data = [\n",
        "        current_datetime(),\n",
        "        question,\n",
        "        'Копирайтер Яны (scenario_selecter)',\n",
        "        message_content,\n",
        "        scenario_selecter_answer,\n",
        "        system_scenario_selecter,\n",
        "        user_scenario_selecter,\n",
        "    ]\n",
        "    gs_handler.append_row(row_data, 'Специалист по выбору самого релевантного сценария')\n",
        "    print_color(\"Данные успешно сохранены в Google Drive.\", color='green')\n",
        "    print(f'url: https://docs.google.com/spreadsheets/d/1607FPIz2-SOwR31rPYlFkYrOo37q9rC9xixcoEo5G8E/edit?usp=sharing')\n"
      ],
      "metadata": {
        "cellView": "form",
        "collapsed": true,
        "id": "npKanOb7UNCv",
        "outputId": "82e13f0f-6556-48c7-e9d6-4e6cc0c0153e",
        "colab": {
          "base_uri": "https://localhost:8080/",
          "height": 1000
        }
      },
      "execution_count": 19,
      "outputs": [
        {
          "output_type": "display_data",
          "data": {
            "text/plain": [
              "<IPython.core.display.HTML object>"
            ],
            "text/html": [
              "\n",
              "  <style>\n",
              "    pre {\n",
              "        white-space: pre-wrap;\n",
              "    }\n",
              "  </style>\n",
              "  "
            ]
          },
          "metadata": {}
        },
        {
          "output_type": "display_data",
          "data": {
            "text/plain": [
              "<IPython.core.display.HTML object>"
            ],
            "text/html": [
              "<text style=\"color:#0074D9\">Отобранный чанк:</text>"
            ]
          },
          "metadata": {}
        },
        {
          "output_type": "stream",
          "name": "stdout",
          "text": [
            "Сценарий №1\n",
            "Подробная информация есть в статье БЗ «Статья: Как экспортировать открытую часть сертификата». Статья: \"Как экспортировать открытую часть сертификата\":\n",
            " \n",
            "Как экспортировать открытую часть сертификата — База знаний\n",
            "Как экспортировать открытую часть сертификата\n",
            "Материал из База знаний\n",
            "\t\tПерейти к:\t\tнавигация, \t\tпоиск\n",
            "Развернуть/свернуть всё\n",
            "Что такое открытая часть сертификата\n",
            "Открытая часть сертификата представляется в виде электронного сертификата или бумажного документа. Такой сертификат отображается в виде файла с разрешением .cer.Открытый ключ используется для:\n",
            "Проверки подписи под документом. Подписание возможно только при наличии ключевой пары.\n",
            "Работы с партнерами, контрагенты могут использовать его для шифрования данных, которые отправляют владельцу. Расшифровать эти данные после отправки получится только при наличии закрытой части сертификата.\n",
            "Доступ к закрытому ключу имеет только владелец сертификата, открытая часть доступна всем участникам электронного взаимодействия.\n",
            "Как экспортировать открытую часть\n",
            "Экспортировать открытую часть сертификата возможно одним из способов:\n",
            " \n",
            "Через «Панель управления» для ОС Windows \n",
            "В ОС:\n",
            "Windows 7: Открыть «Пуск» - «Панель управления» - «Свойства браузера»;\n",
            "Windows 8: Навести курсор мыши в правый верхний угол рабочего стола - в появившейся боковой панели нажать на «Поиск» и ввести «свойства» - выбрать «Свойства браузера»;\n",
            "Windows 10, 11: Открыть поисковое окно («Поиск» или значок лупы справа от кнопки «Пуск»), ввести «свойства» - выбрать «Свойства браузера». \n",
            "Перейти на вкладку «Содержимое» или «Содержание»;\n",
            "Нажать «Сертификаты»;\n",
            "Перейти на вкладку «Личные»;\n",
            "Выбрать из списка необходимый для экспорта сертификат;\n",
            "Нажать «Экспорт»;\n",
            "В открывшемся «Мастере экспорта сертификатов» нажать «Далее»;\n",
            "По умолчанию будет выбран экспорт только открытой части сертификата, нажать «Далее» без изменения параметров;\n",
            "Выбрать формат экспортируемого файла «Файлы X.509 (.CER) в кодировке DER»;\n",
            "Нажать «Далее»;\n",
            "Нажать «Обзор»;\n",
            "Указать имя копируемого файла;\n",
            "В строке «Имя файла» отобразится путь, куда будет сохранён сертификат;\n",
            "Нажать «Далее»;\n",
            "Нажать «Готово»;\n",
            "Дождаться сообщения об успешном экспорте сертификата;\n",
            "Нажать «ОК».\n",
            " \n",
            "Через браузер для MacOS \n",
            "Если сертификат записан на съемный носитель, перед началом экспорта необходимо:\n",
            "1. Подключить носитель к компьютеру;\n",
            "2. Убедиться, что компьютер его распознает;\n",
            "3. Открыть сертификат в браузере:\n",
            " \n",
            "Microsoft Edge \n",
            "В правом верхнем углу браузера нажать ;\n",
            "Открыть «Параметры»;\n",
            "Выбрать «Конфиденциальность, поиск и службы»;\n",
            "В разделе «Безопасность» выбрать «Управление сертификатами».\n",
            " \n",
            "Google Chrome \n",
            "В правом верхнем углу браузера нажать ;\n",
            "Открыть «Настройки»;\n",
            "Выбрать «Конфиденциальность и безопасность»;\n",
            "Открыть «Безопасность»;\n",
            "В разделе «Дополнительные» выбрать «Настроить сертификаты».\n",
            " \n",
            "Opera \n",
            "В правом верхнем углу браузера нажать ;\n",
            "Выбрать «Открыть все настройки браузера»;\n",
            "Выбрать «Безопасность» - «Безопасность»;\n",
            "Нажать «Настроить сертификаты».\n",
            " \n",
            "Яндекс Браузер» \n",
            "В правом верхнем углу браузера нажать ;\n",
            "Открыть «Настройки»;\n",
            "Выбрать «Системные»;\n",
            "В разделе «Сеть» нажать «Управление сертификатами».\n",
            "4. Перейти на вкладку «Личные»;\n",
            "5. Выбрать из списка необходимый для экспорта сертификат;\n",
            "6. Нажать «Экспорт»;\n",
            "7. В открывшемся «Мастере экспорта сертификатов» нажать «Далее»;\n",
            "8. По умолчанию будет выбран экспорт только открытой части сертификата, нажать «Далее» без изменения параметров;\n",
            "9. Выбрать формат экспортируемого файла «Файлы X.509 (.CER) в кодировке DER»;\n",
            "10. Нажать «Далее»;\n",
            "11. Нажать «Обзор»;\n",
            "12. Указать имя копируемого файла;\n",
            "13. В строке «Имя файла» отобразится путь, куда будет сохранён сертификат;\n",
            "14. Нажать «Далее»;\n",
            "15. Нажать «Готово»;\n",
            "16. Дождаться сообщения об успешном экспорте сертификата;\n",
            "17. Нажать «ОК».\n",
            " \n",
            "Через «КриптоПро» для ОС Linux \n",
            "Открыть «Инструменты КриптоПро» - «Показать расширенные» - «Сертификаты»;\n",
            "Из списка сертификатов выбрать нужный сертификат;\n",
            "Нажать «Экспортировать сертификаты»;\n",
            "Дождаться сообщения об успешном завершении экспорта сертификата.Посмотреть сохраненные копии сертификатов можно с помощью команды:csptest -keyset -enum_cont -verifycоntext -fqcn\n",
            " \n",
            "\n",
            "\n",
            "\n",
            "\n",
            "\n",
            "Сценарий №2\n",
            "Необходимо:  Загрузить открытую часть сертификата из «Статья: Реестра сертификатов[https://cert.taxcom.ru/Private.aspx]» и установить ее через «КриптоПро». Вход по логину: TaxcomUser и паролю: Taxcomcertificate (доступ только для сотрудников).    Зайти на Статья: сайт[http://cert.taxcom.ru/Private.aspx], вход по логину: TaxcomUser и паролю: Taxcomcertificate (доступ только для сотрудников).  Найти сертификат по его серийному номеру или отпечатку.  Нажать «Показать сертификат…».  Перейти в «КриптоПро»:     Windows 7: «Пуск» - «Все программы» - «КРИПТО-ПРО» - «КриптоПро CSP»;   Windows 8: нажать ПКМ на рабочем столе - выбрать внизу экрана «Все приложения» - «КРИПТО-ПРО» - «КриптоПро CSP»;   Windows 10: «Пуск» - «КРИПТО-ПРО» - «КриптоПро CSP».      На вкладке «Сервис» нажать «Установить личный сертификат…».  В открывшемся окне нажать «Обзор», указать путь до файла с открытой частью сертификата и нажать «Открыть».  Нажать «Далее», проверить данные в сертификате и еще раз нажать «Далее».  Найти контейнер сертификата, поставив галку «Найти контейнер автоматически». Если поле неактивно или при автоматическом поиске контейнера возникает сообщение об ошибке, необходимо найти контейнер с помощью кнопки «Обзор» по дате получения сертификата.  Нажать «Далее», поставить галку «Установить сертификат в контейнер» и еще раз нажать «Далее».  Нажать «Готово».  \n",
            "\n",
            "\n",
            "Сценарий №3\n",
            "В «КриптоПро CSP» версии 5.0 сертификат отображается в поле «Неэкспортируемые контейнеры», если он является некопируемым. Данный параметр определяется при получении сертификата.  Если Клиент хочет скопировать сертификат, указанный в этом поле, необходимо сообщить, что возможность скопировать его на другой носитель или в реестр отсутствует. Использовать данный сертификат (в том числе сертификат УЦ ФНС) можно только на токене, на который он был выпущен.  Отсутствует возможность копировать сертификаты, выпущенные на:    «Рутокен ЭЦП 2.0»;  «Рутокен ЭЦП 2.0 Flash»;  «Рутокен ЭЦП 3.0»;  «Рутокен ЭЦП PKI»;  «Рутокен 2151»;  JaCarta 2SE;  JaCarta 2ГОСТ;  JaCarta SF/ГОСТ;  JaCarta PKI;  Etoken Gost.  \n",
            "\n",
            "\n",
            "Сценарий №4\n",
            "Необходимо:    Открыть «Пуск» - «Все программы» - «КриптоПро» - «КриптоПро PKI»;  В разделе «Управление лицензиями» правой кнопкой мыши нажать на «TSP (OCSP) Client»;  Выбрать «Все задачи» ­- «Ввести серийный номер»;  Ввести серийный номер и нажать «ОК».  \n",
            "\n",
            "\n",
            "Сценарий №5\n",
            "Необходимо проконсультировать Клиента по статье Базы знаний «Статья: В списке доступных контейнеров пусто или не отображаются контейнеры на носителе». Статья: \"В списке доступных контейнеров пусто или не отображаются контейнеры на носителе\":\n",
            " \n",
            "В списке доступных контейнеров пусто или не отображаются контейнеры на носителе — База знаний\n",
            "В списке доступных контейнеров пусто или не отображаются контейнеры на носителе\n",
            "Материал из База знаний\n",
            "\t\tПерейти к:\t\tнавигация, \t\tпоиск\n",
            "Развернуть/свернуть всё\n",
            "1. Необходимо уточнить у Клиента, где находится сертификат;\n",
            "2. Если сертификат находится:\n",
            " В реестре \n",
            "Необходимо:\n",
            "1. Убедиться, что установлена «КриптоПро CSP» сертифицированной версии и ее лицензия действительна.\n",
            "Если установлена «КриптоПро CSP» несертифицированной версии, необходимо переустановить на сертифицированную совместимую версию:\n",
            "ОС Windows, для Windows 11 требуется версия 5.0 R2 (12000) или выше;\n",
            "ОС Linux, требуется версия 5.0 или выше.\n",
            "2. Если сертификат выпущен с помощью VipNet, он будет отображаться только в VipNet CSP.\n",
            " Если клиент не знает, с помощью чего был выпущен сертификат \n",
            "1. Зайти в открытую часть сертификата, подробная информация есть в сценарии «[Сертификат] Как посмотреть информацию по сертификату»\n",
            "2. Перейти на вкладку «Состав» открыть поле «Средство электронной подписи» или «Subject sign tool»;\n",
            "3. Посмотреть СКЗИ, при помощи которого был сформирован контейнер.\n",
            " 3. Проверить наличие закрытого ключа \n",
            "1. Запустить редактор реестра:\n",
            "Нажать сочетание клавиш Win+R;\n",
            "Ввести команду regedit, нажать «ОК».\n",
            "2. Проверить наличие папки с файлами .key в каталоге:\n",
            "HKEY_LOCAL_MACHINE\\SOFTWARE\\Crypto Pro\\Settings\\USERS\\SID_текущего_пользователя\\Keys (для x32 систем);\n",
            "HKEY_LOCAL_MACHINE\\SOFTWARE\\Wow6432Node\\Crypto Pro\\Settings\\USERS\\SID_текущего_пользователя\\Keys (для x64 систем).\n",
            " Если папки нет, необходимо убедиться, что Клиент использует ту учетную запись на компьютере, под которой были получены сертификаты.\n",
            " 4. Проверить настройки считывателей в «КриптоПро CSP»: \n",
            "1. Открыть «КриптоПро CSP» - «Оборудование» - «Настроить считыватели»;\n",
            "2. Найти в списке строку «Реестр». Если строка:\n",
            " Есть - действовать дальше согласно БЗ;\n",
            " Отсутствует:\n",
            "1. Нажать «Добавить»;\n",
            "2. В открывшемся окне нажать «Далее»;\n",
            "3. Выбрать в списке нужный носитель и нажать «Далее» - «Готово».\n",
            " 5. Если ситуация сохраняется, необходимо: \n",
            "1. Запустить редактор реестра:\n",
            "Нажать сочетание клавиш Win+R;\n",
            "Ввести команду regedit, нажать «ОК».\n",
            "2. Проверить, сформирована ли папка Settings у пользователя в каталоге:\n",
            " HKEY_CURRENT_USER\\ Software\\Classes\\VirtualStore\\MACHINE\\SOFTWARE\\Wow6432Node\\Crypto Pro\\(для x64 систем);\n",
            " HKEY_CURRENT_USER\\ Software\\Classes\\VirtualStore\\MACHINE\\SOFTWARE\\Crypto Pro\\ (для 32-битных систем);\n",
            " Если папка Settings не сформирована, перейти к шагу 5 «Если найти ключ в реестре не удалось...».\n",
            "3. Создать резервную копию реестра. Для этого необходимо выделить ветку, нажать «Файл» – «Экспорт» и выбрать, куда сохранить файл в формате .reg.\n",
            "4. Экспортировать ветки реестра в произвольный каталог;\n",
            "5. Открыть выгруженный файл реестра с помощью «Блокнота»;\n",
            "6. Изменить пути к ветке реестра на следующие:\n",
            " HKEY_LOCAL_MACHINE\\SOFTWARE\\Wow6432Node\\Crypto Pro\\Settings\\USERS \\ S-1-5…( сид пользователя)\\Keys (для x64 систем);\n",
            " HKEY_LOCAL_MACHINE\\SOFTWARE\\Crypto Pro\\Settings\\USERS \\S-1-5…(сид пользователя)\\Keys (для 32-битных систем);\n",
            "7. Сохранить изменения;\n",
            "8. Запустить файл реестра;\n",
            "9. Согласиться с внесением изменений в реестр.\n",
            "Если у Клиента нет доступа к изменениям, необходимо рекомендовать ему обратиться к системному администратору для предоставления прав.\n",
            "6. Если найти ключ в реестре не удалось, проверить была ли создана резервная копия и уточнить у клиента, копировал ли он сертификат.\n",
            "Если резервной копии нет, перейти к следующему пункту.\n",
            " В накопителе (жесткий диск, SSD, USB-флешка) \n",
            "Необходимо убедиться, что:\n",
            "1. имя контейнера соответствует виду «Имя контейнера.XXX», где:\n",
            "Имя контейнера - набор символов за исключением кириллицы;\n",
            "XXX – произвольный номер из трех цифр;\n",
            "2. контейнер присутствует на носителе (был сформирован или скопирован на проверяемый носитель);\n",
            "3. папка с контейнером находится в корневой папке USB-накопителя (флешки) или любого диска, кроме C;\n",
            "4. установлена «КриптоПро» сертифицированной версии и ее лицензия действительна.\n",
            "Если установлена «КриптоПро CSP» несертифицированной версии, необходимо переустановить на сертифицированную совместимую версию:\n",
            "ОС Windows, для Windows 11 требуется версия 5.0 R2 (12000) или выше;\n",
            "ОС Linux, требуется версия 5.0 или выше.\n",
            "5. Если сертификат выпущен с помощью VipNet, он будет отображаться только в VipNet CSP.\n",
            " Если клиент не знает, с помощью чего был выпущен сертификат \n",
            "1. Зайти в открытую часть сертификата, подробная информация есть в сценарии «[Сертификат] Как посмотреть информацию по сертификату»\n",
            "2. Перейти на вкладку «Состав» открыть поле «Средство электронной подписи» или «Subject sign tool»;\n",
            "3. Посмотреть СКЗИ, при помощи которого был сформирован контейнер.\n",
            " На токене \n",
            "Если у Клиента:\n",
            "1. Cертификат на «Рутокене TLS» от Сбербанка, носитель не будет отображаться в «Панели управления Рутокен». \n",
            " Его можно увидеть в программе \n",
            " «КриптоПро CSP» версии не ниже 5.0 R2 с PKCS#11;\n",
            "«Инструменты КриптоПро» (входит в состав версии «КриптоПро CSP» 5.0 R2 (12000) и выше);\n",
            "от Сбербанка.\n",
            "2. Если Клиент использует токен через удаленный рабочий стол (RDP), сообщить, что для корректной работы токена необходимо, чтобы токен был установлен на локальном компьютере, с которого происходит подключение к удаленному рабочему столу;\n",
            "3. Windows 11, необходима «КриптоПро CSP» версии 5.0 R2 (12000) и выше.\n",
            "Необходимо, если Клиент использует:\n",
            " Наш токен и: \n",
            " сертификаты УЦ ФНС, ЕГАИС или «Ключ для маркировки 2.0» \n",
            "1. Если сертификат выпущен с помощью VipNet, он будет отображаться только в VipNet CSP;\n",
            " Если клиент не знает, с помощью чего был выпущен сертификат\n",
            "1. Зайти в открытую часть сертификата, подробная информация есть в сценарии «[Сертификат] Как посмотреть информацию по сертификату»\n",
            "2. Перейти на вкладку «Состав» открыть поле «Средство электронной подписи» или «Subject sign tool»;\n",
            "3. Посмотреть СКЗИ, при помощи которого был сформирован контейнер.\n",
            "2. Убедиться, что установлена «КриптоПро CSP» версии 5.0 R2 с PKCS#11 и ее лицензия действительна;\n",
            "3. Переустановить драйвера токена;\n",
            "4. Проверить работоспособность носителя. Подробнее в сценарии «[Токен] Как проверить работоспособность». Если:\n",
            "Неработоспособен, рекомендовать получить новый токен и сертификат. (если нет копии).\n",
            "Работоспособен, идем дальше. Проверить отображение контейнера с сертификатом через драйвер токена:\n",
            "Не отображается: \n",
            "1. Попросить Клиента переподключить токен, используя другой порт;\n",
            "2. Возможно, сертификат записан на другие носители – проверить их также на наличие нужного сертификата.\n",
            "3. Проверить наличие закрытого ключа согласно сценарию «[Сертификат] При обращении к контейнеру сообщение В контейнере…отсутствуют закрытые ключи».\n",
            "Отображается, но в «КриптоПро CSP» контейнера нет, необходимо:\n",
            "1.Открыть «КриптоПро CSP»:\n",
            "Windows 7: «Пуск» - «Все программы» - «КРИПТО-ПРО» - «КриптоПро CSP»;\n",
            "Windows 8: нажать ПКМ на рабочем столе - выбрать внизу экрана «Все приложения» - «КРИПТО-ПРО» - «КриптоПро CSP»;\n",
            "Windows 10: «Пуск» - «КРИПТО-ПРО» - «КриптоПро CSP».\n",
            "2.На вкладке «Общие» нажать ссылку «Запустить с правами администратора»;\n",
            "3.На вкладке «Оборудование» нажать «Настроить считыватели»;\n",
            "4.Удалить в «КриптоПро CSP» считыватель \"Все считыватели смарт-карт PKCS#11\";\n",
            "5.Добавить «Все считыватели смарт-карт PKCS#11», при установке отметив галками те типы токенов, которые собирается использовать Клиент.\n",
            " любой другой наш сертификат \n",
            "1. Убедиться, что установлена «КриптоПро CSP» сертифицированной версии и ее лицензия действительна.\n",
            "Если установлена «КриптоПро CSP» несертифицированной версии, необходимо переустановить на сертифицированную совместимую версию:\n",
            "ОС Windows, для Windows 11 требуется версия 5.0 R2 (12000) или выше;\n",
            "ОС Linux, требуется версия 5.0 или выше.\n",
            "2. Переустановить драйвера токена.\n",
            "3. Проверить работоспособность носителя. Подробнее в сценарии «[Токен] Как проверить работоспособность». Если:\n",
            "Неработоспособен, уточнить у Клиента, есть ли у него копия сертификата (например, на другом рабочем месте). Если:\n",
            "Есть, установить сертификат из копии.\n",
            "Отсутствует, рекомендовать получить новый токен и сертификат.\n",
            "Работоспособен, проверить отображение контейнера с сертификатом через драйвер токена. Если:\n",
            "Не отображается: \n",
            "1. Попросить Клиента переподключить токен, используя другой порт;\n",
            "2. Проверить другие носители, если есть, на наличие нужного сертификата.\n",
            "3. Проверить в универсальном анализаторе имя компьютера, на котором был выпущен сертификат, и носитель ключа. Если сертификат был выпущен в реестр другого рабочего места, необходимо его скопировать.\n",
            "Отображается, но в «КриптоПро CSP» контейнер отсутствует, необходимо проверить каким СКЗИ был сформирован сертификат. Если это не \"КриптоПро\", перейти в него.\n",
            "4. Если сертификат выпущен с помощью VipNet, он будет отображаться только в VipNet CSP. Подробная информация есть в сценарии «[Сертификат] Как посмотреть информацию по сертификату»\n",
            " любой другой сертификат  \n",
            "1. Если сертификат выпущен с помощью VipNet, он будет отображаться только в VipNet CSP. \n",
            "2. Убедиться, что установлена «КриптоПро CSP» сертифицированной версии и ее лицензия действительна.\n",
            "Если установлена «КриптоПро CSP» несертифицированной версии, необходимо переустановить на сертифицированную совместимую версию:\n",
            "ОС Windows, для Windows 11 требуется версия 5.0 R2 (12000) или выше;\n",
            "ОС Linux, требуется версия 5.0 или выше.\n",
            "3. Переустановить драйвера токена.\n",
            "4. Проверить работоспособность носителя. Подробнее в сценарии «[Токен] Как проверить работоспособность». Если:\n",
            "Неработоспособен, рекомендовать получить новый токен и сертификат. (если нет копии).\n",
            "Работоспособен, идем дальше. Проверить отображение контейнера с сертификатом через драйвер токена:\n",
            "Не отображается: \n",
            "1. Попросить Клиента переподключить токен, используя другой порт;\n",
            "2. Возможно, сертификат записан на другие носители – проверить их также на наличие нужного сертификата.\n",
            "Отображается, но в «КриптоПро CSP» контейнера нет, необходимо проверить каким СКЗИ был сформирован сертификат, если это не КриптоПро то, перейти в него.\n",
            " Если клиент не знает, с помощью чего был выпущен сертификат \n",
            "1. Зайти в открытую часть сертификата, подробная информация есть в сценарии «[Сертификат] Как посмотреть информацию по сертификату»\n",
            "2. Перейти на вкладку «Состав» открыть поле «Средство электронной подписи» или «Subject sign tool»;\n",
            "3. Посмотреть СКЗИ, при помощи которого был сформирован контейнер.\n",
            " Не наш токен \n",
            "1. Если сертификат выпущен с помощью VipNet, он будет отображаться только в VipNet CSP;\n",
            " Если клиент не знает, с помощью чего был выпущен сертификат \n",
            "1. Зайти в открытую часть сертификата, подробная информация есть в сценарии «[Сертификат] Как посмотреть информацию по сертификату»\n",
            "2. Перейти на вкладку «Состав» открыть поле «Средство электронной подписи» или «Subject sign tool»;\n",
            "3. Посмотреть СКЗИ, при помощи которого был сформирован контейнер.\n",
            " \"Рутокен ЭЦП 2.0/ 3.0/ 3.0 NFC\" \n",
            "Необходимо:\n",
            "1. Запустить «Панель управления Рутокен»;\n",
            "2. Перейти на вкладку «Сертификаты».\n",
            "Чтобы посмотреть информацию:\n",
            "об открытой части сертификата, перейти в раздел «Личные сертификаты»;\n",
            "о закрытой части сертификата, нажать «Ввести PIN-код» в правом верхнем углу и ввести PIN-код пользователя (по умолчанию 12345678).\n",
            "3. Установить сертификат через драйвер токена (аналогично установке через «КриптоПро CSP»):\n",
            "Открыть «Панель управления Рутокен» - «Сертификаты»;\n",
            "Выбрать нужный сертификат и поставить галку в столбце «Зарегистрирован».\n",
            "Если снять галку в столбце «Зарегистрирован», сертификат будет удален из хранилища «Личные».\n",
            "  JaCarta-2 SE \n",
            "Необходимо:\n",
            "1. Запустить «Единый Клиент JaCarta»;\n",
            "2. Перейти на вкладку «ГОСТ». В «Едином Клиенте JaCarta» две вкладки «ГОСТ». Чтобы посмотреть информацию о сертификате, необходимо проверить их обе.\n",
            "Чтобы посмотреть информацию:\n",
            "1. об открытой части сертификата, перейти в раздел «Ключи и сертификаты»;\n",
            "2. о закрытой части сертификата, нажать «Ввести PIN-код» в правом нижнем углу и ввести PIN-код от ГОСТ части токена (по умолчанию 1234567890).\n",
            "2. Убедиться, что установлена «КриптоПро CSP» версии 5.0 R2 с PKCS#11 и ее лицензия действительна.\n",
            "3. Переустановить драйвера токена;\n",
            "4. Проверить работоспособность носителя. Подробнее в сценарии «[Токен] Как проверить работоспособность». Если:\n",
            "Неработоспособен, рекомендовать получить новый токен и сертификат. (если нет копии).\n",
            "Работоспособен, проверить отображение контейнера с сертификатом через драйвер токена:\n",
            "Не отображается: \n",
            "1. Возможно, сертификат записан на другие носители – проверить их также на наличие нужного сертификата;\n",
            "2. Попросить Клиента переподключить токен, используя другой порт.\n",
            "Отображается, но в «КриптоПро CSP» контейнера нет, необходимо:\n",
            "1.На вкладке \"Общие\" нажать ссылку \"Запустить с правами администратора\"; \n",
            "2. На вкладке \"Оборудование\" нажать \"Настроить считыватели\";\n",
            "3. Удалить в «КриптоПро CSP» считыватель \"Все считыватели смарт-карт PKCS#11\".\n",
            "4. Добавить «Все считыватели смарт-карт PKCS#11», при установке отметив галками те типы токенов, которые собирается использовать Клиент.\n",
            " В облачном хранилище \n",
            "В этом случае через «КриптоПро CSP» контейнера не будет видно.\n",
            "3. Если после проделанных действий ситуация сохраняется, необходимо:\n",
            "1. Переустановить «КриптоПро»:\n",
            "ОС Windows;\n",
            "ОС Linux.\n",
            " 2. Проверить кем выдан сертификат: \n",
            " Windows 7 \n",
            "1. Открыть «Пуск» - «Панель управления» - «Свойства браузера» - вкладка «Содержание»;\n",
            "2. Нажать «Сертификаты» - дважды щелкнуть по нужному сертификату;\n",
            "3. Издатель будет указан в поле «Кем выдан».\n",
            " Windows 8 \n",
            "1. Навести курсор мыши в правый верхний угол рабочего стола;\n",
            "2. В появившейся боковой панели нажать на «Поиск» и ввести «свойства»;\n",
            "3. Выбрать «Свойства браузера» - вкладка «Содержание»;\n",
            "4. Нажать «Сертификаты» - дважды щелкнуть по нужному сертификату;\n",
            "5. Издатель будет указан в поле «Кем выдан».\n",
            " Windows 10, 11 \n",
            "1. Открыть поисковое окно («Поиск» или значок лупы справа от кнопки «Пуск»), ввести «свойства»;\n",
            "2. Выбрать «Свойства браузера» - вкладка «Содержимое» или «Содержание»;\n",
            "3. Нажать «Сертификаты» - дважды щелкнуть по нужному сертификату;\n",
            "4. Издатель будет указан в поле «Кем выдан».\n",
            "УЦ «Такском», проконсультировать Клиента по статье БЗ для сертификата:\n",
            "ЭДО с ГКО - «Получение сертификата ЭДО с ГКО, если действующий утерян, скомпрометирован или истек»;\n",
            "ЭТ – «Вопросы о приобретении ПО и услуг».\n",
            "Другим УЦ, рекомендовать обратиться в их техподдержку для решения вопроса.\n",
            "Если затруднение сохраняется, необходимо создать инцидент и направить его в список ожидания «Аналитик».\n",
            " \n",
            "\n",
            "\n",
            "\n",
            "\n",
            "\n"
          ]
        },
        {
          "output_type": "display_data",
          "data": {
            "text/plain": [
              "<IPython.core.display.HTML object>"
            ],
            "text/html": [
              "<text style=\"color:#0074D9\">Запрос пользователя:</text>"
            ]
          },
          "metadata": {}
        },
        {
          "output_type": "stream",
          "name": "stdout",
          "text": [
            "Как экспортировать открытую часть сертификата?\n",
            "--------------------------------------------------\n"
          ]
        },
        {
          "output_type": "display_data",
          "data": {
            "text/plain": [
              "<IPython.core.display.HTML object>"
            ],
            "text/html": [
              "<text style=\"color:#FF69B4\">Специалист по выбору самого релевантного сценария (scenario_selecter):</text>"
            ]
          },
          "metadata": {}
        },
        {
          "output_type": "stream",
          "name": "stdout",
          "text": [
            "1\n"
          ]
        },
        {
          "output_type": "display_data",
          "data": {
            "text/plain": [
              "<IPython.core.display.HTML object>"
            ],
            "text/html": [
              "<text style=\"color:#2ECC40\">Данные успешно сохранены в Google Drive.</text>"
            ]
          },
          "metadata": {}
        },
        {
          "output_type": "stream",
          "name": "stdout",
          "text": [
            "url: https://docs.google.com/spreadsheets/d/1607FPIz2-SOwR31rPYlFkYrOo37q9rC9xixcoEo5G8E/edit?usp=sharing\n"
          ]
        }
      ]
    },
    {
      "cell_type": "code",
      "source": [
        "# @title Копирайтер Яны (yana_copywriter)\n",
        "system_yana_copywriter = \"Ты прекрасный копирайтер. Тебе дают текст Инструкции для консультанта компании занимающейся онлайн документооборотом. Твоя задача взять текст инструкции и НИЧЕГО в нем НЕ МЕНЯТЬ А ПРОСТО отредактировать его так, чтобы получился последовательный и удобный для чтения Ответ. Ты всегда следуешь правилам: а) Ты знаешь что каждое предложение в Инструкции важное и его нужно сохранить; b) Ты оставляешь ВЕСЬ текст Инструкции который редактируешь, просто структурируешь эту информацию в своем Ответе; c) Ты всегда оставляешь все ссылки из Инструкции в тексте Ответа; d) Ты мастерски делишь текст на абзацы по смыслу; e) ты не пишешь слово 'ответ' в начале ответа. \" # @param{type: 'string'}\n",
        "user_yana_copywriter = \"Пожалуйста, сделай глубокий вдох и действуй шаг за шагом: 1) Проанализируй Инструкцию ; 2) Напиши понятный и структурированный Ответ следуя всем правилам. Инструкция: {message_content}\" # @param{type: 'string'}\n",
        "temp_yana_copywriter = 0 # @param {type: 'slider', min: 0, max: 2, step: 0.1}\n",
        "model_yana_copywriter = 'gpt-4o-mini' # @param  ['gpt-4o-mini','gpt-4o', 'gpt-4', 'gpt-3.5-turbo-16k-0613', 'gpt-3.5-turbo-1106']\n",
        "\n",
        "chunk_number = \"1\" # @param  [1, 2, 3, 4, 5]\n",
        "save_to_google_table = True #@param{type: 'boolean'}\n",
        "\n",
        "db = get_db(base_selector_answer)\n",
        "most_relevant_chunk = db.similarity_search(query=query, k=5)[int(chunk_number)-1]\n",
        "message_content = most_relevant_chunk.page_content\n",
        "# Преподаватель\n",
        "async def yana_copywriter(system, user, topic, message_content, model, temperature):\n",
        "    user = user.format(\n",
        "        topic=topic,\n",
        "        message_content=message_content\n",
        "    )\n",
        "    messages = [\n",
        "        {'role': 'system', 'content': system},\n",
        "        {'role': 'user', 'content': user}\n",
        "    ]\n",
        "    completion = await client.chat.completions.create(\n",
        "        model=model,\n",
        "        messages=messages,\n",
        "        temperature=temperature\n",
        "    )\n",
        "    answer = completion.choices[0].message.content\n",
        "    return answer\n",
        "\n",
        "copywriter_answer = await yana_copywriter(system_yana_copywriter, user_yana_copywriter, question, message_content, model_yana_copywriter, temp_yana_copywriter)\n",
        "\n",
        "\n",
        "print_color('Отобранный чанк:', 'blue')\n",
        "print(message_content)\n",
        "print_color('Запрос пользователя:', 'blue')\n",
        "print(question)\n",
        "print('-' * 50)\n",
        "print_color(f'Ответ тех поддержки:', 'pink')\n",
        "print(copywriter_answer)\n",
        "\n",
        "\n",
        "\n",
        "if save_to_google_table:\n",
        "    row_data = [\n",
        "        current_datetime(),\n",
        "        question,\n",
        "        'Копирайтер Яны (yana_copywriter)',\n",
        "        message_content,\n",
        "        copywriter_answer,\n",
        "        system_yana_copywriter,\n",
        "        user_yana_copywriter,\n",
        "    ]\n",
        "    gs_handler.append_row(row_data, 'Копирайтер Яны (yana_copywriter)')\n",
        "    print_color(\"Данные успешно сохранены в Google Drive.\", color='green')\n",
        "    print(f'url: https://docs.google.com/spreadsheets/d/1607FPIz2-SOwR31rPYlFkYrOo37q9rC9xixcoEo5G8E/edit?usp=sharing')\n"
      ],
      "metadata": {
        "cellView": "form",
        "id": "9xENOcMfZ0uI",
        "collapsed": true,
        "outputId": "4acfa062-cb6a-4105-b165-f3c5742d099a",
        "colab": {
          "base_uri": "https://localhost:8080/",
          "height": 816
        }
      },
      "execution_count": 10,
      "outputs": [
        {
          "output_type": "display_data",
          "data": {
            "text/plain": [
              "<IPython.core.display.HTML object>"
            ],
            "text/html": [
              "\n",
              "  <style>\n",
              "    pre {\n",
              "        white-space: pre-wrap;\n",
              "    }\n",
              "  </style>\n",
              "  "
            ]
          },
          "metadata": {}
        },
        {
          "output_type": "display_data",
          "data": {
            "text/plain": [
              "<IPython.core.display.HTML object>"
            ],
            "text/html": [
              "<text style=\"color:#0074D9\">Отобранный чанк:</text>"
            ]
          },
          "metadata": {}
        },
        {
          "output_type": "stream",
          "name": "stdout",
          "text": [
            "Полный текст сообщения:   «Дополнительная информация: Revocation request is not available for roaming operator ***».  Необходимо:  1. Сообщить Клиенту, что возможность аннулировать документ в роуминге сейчас есть только с операторами:    «НТЦ СТЭК» (2BA);  «НИИАС» (2JD);  «Эвотор ОФД» (2VO);  «Русь - Телеком» (2AD);  «Оператор-ЦРПТ» (2LT);  «СИСЛИНК» (2JM);  «ЭТП ГПБ» (2LB);  «Бифит ЭДО» (2LG);  «Мостинфо-Екатеринбург» (2CA);  «Калуга-Астрал» (2AE) и СКБ «Контур» (2BM), если документооборот завершен;  «Тензор» (2BE), если содержит только один файл вложениях.   Если Клиенту нужно аннулировать документ с другим оператором в роуминге, необходимо уточнить, есть ли в документе информация по маркированной продукции. Если:    Есть, рекомендовать:     Аннулировать документы неформализованным документом:           «Статья: [Такском-Файлер] Как сформировать и отправить неформализованный документ[]»;            «Статья: [Модуль для 1С] Как создать и отправить неформализованный документ[]»;            «Статья: [1С-Такском] Как отправить неформализованный документ[]».                Для возврата кодов маркировки контрагенту сформировать и отправить УПД «Документ об отгрузке товаров (выполнении работ), передаче имущественных прав (документ об оказании услуг)», не отображая его в учете по договоренности с контрагентом.         Нет, сообщить: \"Вы можете договориться с контрагентом и обменяться неформализованным документом. В нем укажите, что документ, который нужно аннулировать, обе стороны считают недействительным\". Информация есть в сценариях:     «Статья: [Такском-Файлер] Как сформировать и отправить неформализованный докумен[]т»;      «Статья: [Модуль для 1С] Как создать и отправить неформализованный документ[]»;         «Статья: [1С-Такском] Как отправить неформализованный документ[]».         \n"
          ]
        },
        {
          "output_type": "display_data",
          "data": {
            "text/plain": [
              "<IPython.core.display.HTML object>"
            ],
            "text/html": [
              "<text style=\"color:#0074D9\">Запрос пользователя:</text>"
            ]
          },
          "metadata": {}
        },
        {
          "output_type": "stream",
          "name": "stdout",
          "text": [
            "Почему в отчете Кассы  в детализация отправленных чеков некорректные данные? Данные об отправке некорректные\n",
            "--------------------------------------------------\n"
          ]
        },
        {
          "output_type": "display_data",
          "data": {
            "text/plain": [
              "<IPython.core.display.HTML object>"
            ],
            "text/html": [
              "<text style=\"color:#FF69B4\">Ответ тех поддержки:</text>"
            ]
          },
          "metadata": {}
        },
        {
          "output_type": "stream",
          "name": "stdout",
          "text": [
            "Дополнительная информация: Revocation request is not available for roaming operator ***.\n",
            "\n",
            "Необходимо:\n",
            "\n",
            "1. Сообщить Клиенту, что возможность аннулировать документ в роуминге сейчас доступна только с операторами:\n",
            "   - «НТЦ СТЭК» (2BA);\n",
            "   - «НИИАС» (2JD);\n",
            "   - «Эвотор ОФД» (2VO);\n",
            "   - «Русь - Телеком» (2AD);\n",
            "   - «Оператор-ЦРПТ» (2LT);\n",
            "   - «СИСЛИНК» (2JM);\n",
            "   - «ЭТП ГПБ» (2LB);\n",
            "   - «Бифит ЭДО» (2LG);\n",
            "   - «Мостинфо-Екатеринбург» (2CA);\n",
            "   - «Калуга-Астрал» (2AE);\n",
            "   - СКБ «Контур» (2BM), если документооборот завершен;\n",
            "   - «Тензор» (2BE), если содержит только один файл в вложениях.\n",
            "\n",
            "2. Если Клиенту нужно аннулировать документ с другим оператором в роуминге, необходимо уточнить, есть ли в документе информация по маркированной продукции.\n",
            "\n",
            "   - Если информация есть, рекомендовать:\n",
            "     - Аннулировать документы неформализованным документом:\n",
            "       - «Статья: [Такском-Файлер] Как сформировать и отправить неформализованный документ[]»;\n",
            "       - «Статья: [Модуль для 1С] Как создать и отправить неформализованный документ[]»;\n",
            "       - «Статья: [1С-Такском] Как отправить неформализованный документ[]».\n",
            "     - Для возврата кодов маркировки контрагенту сформировать и отправить УПД «Документ об отгрузке товаров (выполнении работ), передаче имущественных прав (документ об оказании услуг)», не отображая его в учете по договоренности с контрагентом.\n",
            "\n",
            "   - Если информации нет, сообщить: \"Вы можете договориться с контрагентом и обменяться неформализованным документом. В нем укажите, что документ, который нужно аннулировать, обе стороны считают недействительным\". \n",
            "\n",
            "Информация есть в сценариях:\n",
            "   - «Статья: [Такском-Файлер] Как сформировать и отправить неформализованный документ[]»;\n",
            "   - «Статья: [Модуль для 1С] Как создать и отправить неформализованный документ[]»;\n",
            "   - «Статья: [1С-Такском] Как отправить неформализованный документ[]».\n"
          ]
        },
        {
          "output_type": "display_data",
          "data": {
            "text/plain": [
              "<IPython.core.display.HTML object>"
            ],
            "text/html": [
              "<text style=\"color:#2ECC40\">Данные успешно сохранены в Google Drive.</text>"
            ]
          },
          "metadata": {}
        },
        {
          "output_type": "stream",
          "name": "stdout",
          "text": [
            "url: https://docs.google.com/spreadsheets/d/1607FPIz2-SOwR31rPYlFkYrOo37q9rC9xixcoEo5G8E/edit?usp=sharing\n"
          ]
        }
      ]
    },
    {
      "cell_type": "code",
      "source": [
        "# @title Помощник тех поддержки (tech_support)\n",
        "question = \"Как отозвать отправленное gредложение об аннулировании роуминга? Я не знаю, какой у меня сейчас оператор\" # @param{type: 'string'}\n",
        "chunk = \"\" # @param{type: 'string'}\n",
        "system_tech_support = \"Ты специалист в компании, которая занимается документооборотом. К тебе обращается клиент с Запросом. Ты значешь что в ответ на Запрос пользователя ты выводишь ему текст Инструкции. Твоя главная задача проанализировать Запрос пользователя и Инструкцию и определить, есть ли в Запросе пользователя Уточняющая информация. Ты знаешь, что Уточняющая информация - это информация, которая уточняет запрос пользователя и помогает определить, какие пункты в Инструкции являются наиболее релевантными. Например: Инструкция состоит из нескольких пунктов. В одном из пунктов могут быть разные действия если обращается клиент либо партнер, или разные действия в зависимости от того какой браузер использует клиент, также могут быть разные действия в зависимости от необходимого результата и подобное. Если в запросе пользователя есть Уточняющая информация, при выводе инструкции ты пишешь все пункт за пунктом, но в пункте где есть уточнение выводишь только данные релевантные запрусу пользователя и уточняющей информации .Твоя главная задача - 1) проанализировать запрос пользователя и инструкцию чтобы  понять, есть ли в запросе пользователя уточняющая информация; 2) вывести в ответ текст инструкции учитывая уточняющую информацию или ЕСЛИ УТОЧНЯЮЩЕЙ ИНФОРМАЦИИ НЕТ ты выводишь ВЕСЬ ТЕКСТ ИНСТРУКЦИИ.\" # @param{type: 'string'}\n",
        "user_tech_support = \"Пожалуйста, сделай глубокий вдох и действуй шаг за шагом: 1) Проанализируй запрос пользователя и инструкцию; 2) Определи, есть ли в запросе пользователя УТОЧНЯЮЩАЯ информация; 2.1) если в запросе пользователя есть уточняющая информация выведи в ответ текст инструкции с учетом уточняющей информации; 2.2)  если в запросе пользователя нет уточняющей информации ты выводишь в ответ всю Инструкцию ЦЕЛИКОМ. Напиши текст Ответа  И БОЛЬШЕ НИЧЕГО. Инструкция: {message_content}. Запрос: {topic}\" # @param{type: 'string'}\n",
        "temp_tech_support = 0 # @param {type: 'slider', min: 0, max: 2, step: 0.1}\n",
        "model_tech_support = 'gpt-4o-mini' # @param  ['gpt-4o-mini','gpt-4o', 'gpt-4', 'gpt-3.5-turbo-16k-0613', 'gpt-3.5-turbo-1106']\n",
        "\n",
        "save_to_google_table = True #@param{type: 'boolean'}\n",
        "\n",
        "db = get_db(base_selector_answer)\n",
        "# most_relevant_chunk = db.similarity_search(query=query, k=5)[int(chunk_number)-1]\n",
        "if not chunk:\n",
        "    message_content = copywriter_answer\n",
        "else:\n",
        "    message_content = chunk\n",
        "# Преподаватель\n",
        "async def tech_support(system, user, topic, message_content, model, temperature):\n",
        "    user = user.format(\n",
        "        topic=topic,\n",
        "        message_content=message_content\n",
        "    )\n",
        "    messages = [\n",
        "        {'role': 'system', 'content': system},\n",
        "        {'role': 'user', 'content': user}\n",
        "    ]\n",
        "    completion = await client.chat.completions.create(\n",
        "        model=model,\n",
        "        messages=messages,\n",
        "        temperature=temperature\n",
        "    )\n",
        "    answer = completion.choices[0].message.content\n",
        "    return answer\n",
        "\n",
        "tech_support_answer = await tech_support(system_tech_support, user_tech_support, question, message_content, model_tech_support, temp_tech_support)\n",
        "\n",
        "\n",
        "print_color('Отобранный чанк:', 'blue')\n",
        "print(message_content)\n",
        "print_color('Запрос пользователя:', 'blue')\n",
        "print(question)\n",
        "print('-' * 50)\n",
        "print_color(f'Ответ помощника тех поддержки:', 'pink')\n",
        "print(tech_support_answer)\n",
        "\n",
        "\n",
        "\n",
        "if save_to_google_table:\n",
        "    row_data = [\n",
        "        current_datetime(),\n",
        "        question,\n",
        "        'Помощник тех поддержки (tech_support)',\n",
        "        message_content,\n",
        "        tech_support_answer,\n",
        "        system_tech_support,\n",
        "        user_tech_support,\n",
        "    ]\n",
        "    gs_handler.append_row(row_data, 'Помощник тех поддержки (tech_support)')\n",
        "    print_color(\"Данные успешно сохранены в Google Drive.\", color='green')\n",
        "    print(f'url: https://docs.google.com/spreadsheets/d/1607FPIz2-SOwR31rPYlFkYrOo37q9rC9xixcoEo5G8E/edit?usp=sharing')\n"
      ],
      "metadata": {
        "cellView": "form",
        "collapsed": true,
        "outputId": "c1a18768-c571-4e7b-dfdb-72500c8a6089",
        "colab": {
          "base_uri": "https://localhost:8080/",
          "height": 1000
        },
        "id": "nI_MP0QMWj-G"
      },
      "execution_count": 13,
      "outputs": [
        {
          "output_type": "display_data",
          "data": {
            "text/plain": [
              "<IPython.core.display.HTML object>"
            ],
            "text/html": [
              "\n",
              "  <style>\n",
              "    pre {\n",
              "        white-space: pre-wrap;\n",
              "    }\n",
              "  </style>\n",
              "  "
            ]
          },
          "metadata": {}
        },
        {
          "output_type": "display_data",
          "data": {
            "text/plain": [
              "<IPython.core.display.HTML object>"
            ],
            "text/html": [
              "<text style=\"color:#0074D9\">Отобранный чанк:</text>"
            ]
          },
          "metadata": {}
        },
        {
          "output_type": "stream",
          "name": "stdout",
          "text": [
            "Дополнительная информация: Revocation request is not available for roaming operator ***.\n",
            "\n",
            "Необходимо:\n",
            "\n",
            "1. Сообщить Клиенту, что возможность аннулировать документ в роуминге сейчас доступна только с операторами:\n",
            "   - «НТЦ СТЭК» (2BA);\n",
            "   - «НИИАС» (2JD);\n",
            "   - «Эвотор ОФД» (2VO);\n",
            "   - «Русь - Телеком» (2AD);\n",
            "   - «Оператор-ЦРПТ» (2LT);\n",
            "   - «СИСЛИНК» (2JM);\n",
            "   - «ЭТП ГПБ» (2LB);\n",
            "   - «Бифит ЭДО» (2LG);\n",
            "   - «Мостинфо-Екатеринбург» (2CA);\n",
            "   - «Калуга-Астрал» (2AE);\n",
            "   - СКБ «Контур» (2BM), если документооборот завершен;\n",
            "   - «Тензор» (2BE), если содержит только один файл в вложениях.\n",
            "\n",
            "2. Если Клиенту нужно аннулировать документ с другим оператором в роуминге, необходимо уточнить, есть ли в документе информация по маркированной продукции.\n",
            "\n",
            "   - Если информация есть, рекомендовать:\n",
            "     - Аннулировать документы неформализованным документом:\n",
            "       - «Статья: [Такском-Файлер] Как сформировать и отправить неформализованный документ[]»;\n",
            "       - «Статья: [Модуль для 1С] Как создать и отправить неформализованный документ[]»;\n",
            "       - «Статья: [1С-Такском] Как отправить неформализованный документ[]».\n",
            "     - Для возврата кодов маркировки контрагенту сформировать и отправить УПД «Документ об отгрузке товаров (выполнении работ), передаче имущественных прав (документ об оказании услуг)», не отображая его в учете по договоренности с контрагентом.\n",
            "\n",
            "   - Если информации нет, сообщить: \"Вы можете договориться с контрагентом и обменяться неформализованным документом. В нем укажите, что документ, который нужно аннулировать, обе стороны считают недействительным\". \n",
            "\n",
            "Информация есть в сценариях:\n",
            "   - «Статья: [Такском-Файлер] Как сформировать и отправить неформализованный документ[]»;\n",
            "   - «Статья: [Модуль для 1С] Как создать и отправить неформализованный документ[]»;\n",
            "   - «Статья: [1С-Такском] Как отправить неформализованный документ[]».\n"
          ]
        },
        {
          "output_type": "display_data",
          "data": {
            "text/plain": [
              "<IPython.core.display.HTML object>"
            ],
            "text/html": [
              "<text style=\"color:#0074D9\">Запрос пользователя:</text>"
            ]
          },
          "metadata": {}
        },
        {
          "output_type": "stream",
          "name": "stdout",
          "text": [
            "Как отозвать отправленное gредложение об аннулировании роуминга? Я не знаю, какой у меня сейчас оператор\n",
            "--------------------------------------------------\n"
          ]
        },
        {
          "output_type": "display_data",
          "data": {
            "text/plain": [
              "<IPython.core.display.HTML object>"
            ],
            "text/html": [
              "<text style=\"color:#FF69B4\">Ответ помощника тех поддержки:</text>"
            ]
          },
          "metadata": {}
        },
        {
          "output_type": "stream",
          "name": "stdout",
          "text": [
            "Весь текст инструкции целиком:\n",
            "\n",
            "Дополнительная информация: Revocation request is not available for roaming operator ***.\n",
            "\n",
            "Необходимо:\n",
            "\n",
            "1. Сообщить Клиенту, что возможность аннулировать документ в роуминге сейчас доступна только с операторами:\n",
            "   - «НТЦ СТЭК» (2BA);\n",
            "   - «НИИАС» (2JD);\n",
            "   - «Эвотор ОФД» (2VO);\n",
            "   - «Русь - Телеком» (2AD);\n",
            "   - «Оператор-ЦРПТ» (2LT);\n",
            "   - «СИСЛИНК» (2JM);\n",
            "   - «ЭТП ГПБ» (2LB);\n",
            "   - «Бифит ЭДО» (2LG);\n",
            "   - «Мостинфо-Екатеринбург» (2CA);\n",
            "   - «Калуга-Астрал» (2AE);\n",
            "   - СКБ «Контур» (2BM), если документооборот завершен;\n",
            "   - «Тензор» (2BE), если содержит только один файл в вложениях.\n",
            "\n",
            "2. Если Клиенту нужно аннулировать документ с другим оператором в роуминге, необходимо уточнить, есть ли в документе информация по маркированной продукции.\n",
            "\n",
            "   - Если информация есть, рекомендовать:\n",
            "     - Аннулировать документы неформализованным документом:\n",
            "       - «Статья: [Такском-Файлер] Как сформировать и отправить неформализованный документ[]»;\n",
            "       - «Статья: [Модуль для 1С] Как создать и отправить неформализованный документ[]»;\n",
            "       - «Статья: [1С-Такском] Как отправить неформализованный документ[]».\n",
            "     - Для возврата кодов маркировки контрагенту сформировать и отправить УПД «Документ об отгрузке товаров (выполнении работ), передаче имущественных прав (документ об оказании услуг)», не отображая его в учете по договоренности с контрагентом.\n",
            "\n",
            "   - Если информации нет, сообщить: \"Вы можете договориться с контрагентом и обменяться неформализованным документом. В нем укажите, что документ, который нужно аннулировать, обе стороны считают недействительным\". \n",
            "\n",
            "Информация есть в сценариях:\n",
            "   - «Статья: [Такском-Файлер] Как сформировать и отправить неформализованный документ[]»;\n",
            "   - «Статья: [Модуль для 1С] Как создать и отправить неформализованный документ[]»;\n",
            "   - «Статья: [1С-Такском] Как отправить неформализованный документ[]».\n"
          ]
        },
        {
          "output_type": "display_data",
          "data": {
            "text/plain": [
              "<IPython.core.display.HTML object>"
            ],
            "text/html": [
              "<text style=\"color:#2ECC40\">Данные успешно сохранены в Google Drive.</text>"
            ]
          },
          "metadata": {}
        },
        {
          "output_type": "stream",
          "name": "stdout",
          "text": [
            "url: https://docs.google.com/spreadsheets/d/1607FPIz2-SOwR31rPYlFkYrOo37q9rC9xixcoEo5G8E/edit?usp=sharing\n"
          ]
        }
      ]
    }
  ]
}