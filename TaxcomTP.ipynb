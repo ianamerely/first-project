{
  "nbformat": 4,
  "nbformat_minor": 0,
  "metadata": {
    "colab": {
      "provenance": []
    },
    "kernelspec": {
      "name": "python3",
      "display_name": "Python 3"
    },
    "language_info": {
      "name": "python"
    }
  },
  "cells": [
    {
      "cell_type": "code",
      "execution_count": 1,
      "metadata": {
        "colab": {
          "base_uri": "https://localhost:8080/"
        },
        "id": "tLpwlkrOi1SB",
        "outputId": "27b7892e-e7bf-444e-829c-43105bf41876",
        "collapsed": true,
        "cellView": "form"
      },
      "outputs": [
        {
          "output_type": "stream",
          "name": "stdout",
          "text": [
            "Mounted at /content/drive\n"
          ]
        }
      ],
      "source": [
        "# @title Установка и импорты\n",
        "!pip install openai langchain langchain_openai langchain_community tiktoken faiss-cpu pytz openpyxl fuzzywuzzy transliterate python-Levenshtein\n",
        "!pip install nest_asyncio\n",
        "\n",
        "from IPython.core.display import clear_output\n",
        "from IPython.display import HTML, display\n",
        "clear_output()\n",
        "import openpyxl\n",
        "import os\n",
        "import getpass\n",
        "import openai\n",
        "import re\n",
        "import time\n",
        "import pytz\n",
        "from datetime import datetime\n",
        "from fuzzywuzzy import fuzz, process\n",
        "from transliterate import translit\n",
        "import asyncio\n",
        "from langchain.docstore.document import Document\n",
        "from langchain.text_splitter import RecursiveCharacterTextSplitter\n",
        "from langchain_openai import OpenAIEmbeddings\n",
        "from langchain_community.vectorstores import FAISS\n",
        "from openai import AsyncOpenAI\n",
        "from oauth2client.service_account import ServiceAccountCredentials\n",
        "\n",
        "from google.colab import drive, userdata\n",
        "drive.mount('/content/drive', force_remount=True)\n",
        "\n",
        "try:\n",
        "  openai_key = userdata.get('OPENAI_API_KEY')\n",
        "except Exception as e:\n",
        "  openai_key = getpass.getpass(\"OpenAI API Key:\")\n",
        "os.environ[\"OPENAI_API_KEY\"] = openai_key\n",
        "\n",
        "client = AsyncOpenAI()\n",
        "\n",
        "\n",
        "# Цветной print\n",
        "def print_color(text, color='black'):\n",
        "    color_codes = {\n",
        "        'black': '#000000',\n",
        "        'red': '#FF4136',\n",
        "        'green': '#2ECC40',\n",
        "        'blue': '#0074D9',\n",
        "        'yellow': '#FFDC00',\n",
        "        'purple': '#B10DC9',\n",
        "        'cyan': '#7FDBFF',\n",
        "        'white': '#FFFFFF',\n",
        "        'orange': '#FF851B',\n",
        "        'pink': '#FF69B4'\n",
        "    }\n",
        "\n",
        "    color_code = color_codes.get(color.lower(), color)\n",
        "    display(HTML(f'<text style=\"color:{color_code}\">{text}</text>'))\n",
        "\n",
        "# Функция переноса теста в ячейках\n",
        "def set_css():\n",
        "  display(HTML('''\n",
        "  <style>\n",
        "    pre {\n",
        "        white-space: pre-wrap;\n",
        "    }\n",
        "  </style>\n",
        "  '''))\n",
        "get_ipython().events.register('pre_run_cell', set_css)\n",
        "\n",
        "\n",
        "def current_datetime():\n",
        "    # Получаем текущую дату и время во временной зоне Москва\n",
        "    moscow_tz = pytz.timezone('Europe/Moscow')\n",
        "    current_time = datetime.now(moscow_tz)\n",
        "\n",
        "    # Форматируем текущую дату и время в требуемые форматы\n",
        "    formatted_time = current_time.strftime(\"%Y-%m-%d %H:%M:%S\")\n",
        "\n",
        "    return formatted_time\n",
        "\n",
        "\n",
        "import os.path\n",
        "import tempfile\n",
        "from typing import List, Set, Dict\n",
        "\n",
        "import requests\n",
        "import gspread\n",
        "from oauth2client.service_account import ServiceAccountCredentials\n",
        "\n",
        "\n",
        "\n",
        "class GoogleSheetHandler:\n",
        "    \"\"\"\n",
        "    A handler for interacting with Google Sheets.\n",
        "\n",
        "    This class provides methods for authenticating with Google Sheets API\n",
        "    and manipulating data in a specified worksheet.\n",
        "\n",
        "    Attributes:\n",
        "        credentials (ServiceAccountCredentials): The credentials for accessing Google Sheets API.\n",
        "        gc (gspread.client.Client): The gspread client instance for interacting with Google Sheets.\n",
        "        spreadsheet_url (str): The URL of the Google Sheets spreadsheet.\n",
        "    \"\"\"\n",
        "\n",
        "    def __init__(self, json_url: str, spreadsheet_url: str) -> None:\n",
        "        \"\"\"\n",
        "        Initializes the GoogleSheetHandler with the given credentials and spreadsheet URL.\n",
        "\n",
        "        Args:\n",
        "            json_url (str): The URL to the JSON file containing the service account credentials.\n",
        "            spreadsheet_url (str): The URL of the Google Sheets spreadsheet to interact with.\n",
        "        \"\"\"\n",
        "        self.json_url = json_url\n",
        "        self.spreadsheet_url = spreadsheet_url\n",
        "        self.credentials = self._load_credentials(self.json_url)\n",
        "        self.gc = gspread.authorize(self.credentials)\n",
        "\n",
        "\n",
        "    def _load_credentials(self, json_url: str) -> ServiceAccountCredentials:\n",
        "        \"\"\"\n",
        "        Loads service account credentials from a given URL.\n",
        "\n",
        "        Args:\n",
        "            json_url (str): The URL to the JSON file containing the service account credentials.\n",
        "\n",
        "        Returns:\n",
        "            ServiceAccountCredentials: The credentials for accessing Google Sheets API.\n",
        "\n",
        "        Raises:\n",
        "            ValueError: If the response content is not valid JSON.\n",
        "            requests.RequestException: If there's an error while making the HTTP request.\n",
        "        \"\"\"\n",
        "        try:\n",
        "            response = requests.get(json_url)\n",
        "            response.raise_for_status()  # Raise an exception for bad status codes (e.g., 404, 500)\n",
        "            response_json = response.json()\n",
        "\n",
        "            credentials = ServiceAccountCredentials.from_json_keyfile_dict(response_json, ['https://spreadsheets.google.com/feeds'])\n",
        "        except requests.RequestException as e:\n",
        "            raise e  # Re-raise the exception\n",
        "        except ValueError as e:\n",
        "            raise ValueError(\"Invalid JSON format in the response.\") from e\n",
        "        finally:\n",
        "            if os.path.exists('credentials.json'):\n",
        "                os.remove('credentials.json')\n",
        "\n",
        "        return credentials\n",
        "\n",
        "    def append_row(self, data_to_append: List[str], worksheet_name: str) -> None:\n",
        "        \"\"\"\n",
        "        Appends a row of data to the bottom of the specified worksheet.\n",
        "\n",
        "        Args:\n",
        "            data_to_append (List[str]): The data to append to the worksheet.\n",
        "            worksheet_name (str): The name of the worksheet to append the data to.\n",
        "        \"\"\"\n",
        "        worksheet = self.gc.open_by_url(self.spreadsheet_url).worksheet(worksheet_name)\n",
        "        worksheet.append_row(data_to_append)\n",
        "\n",
        "    def insert_row(self, data_to_insert: List[str], index: int, worksheet_name: str) -> None:\n",
        "        \"\"\"\n",
        "        Inserts a row of data at a specified index in the worksheet.\n",
        "\n",
        "        Args:\n",
        "            data_to_insert (List[str]): The data to insert into the worksheet.\n",
        "            index (int): The position at which to insert the new row.\n",
        "            worksheet_name (str): The name of the worksheet to insert the data into.\n",
        "        \"\"\"\n",
        "        worksheet = self.gc.open_by_url(self.spreadsheet_url).worksheet(worksheet_name)\n",
        "        worksheet.insert_row(data_to_insert, index)\n",
        "\n",
        "    def append_row_to_top(self, data_to_append: List[str], worksheet_name: str) -> None:\n",
        "        \"\"\"\n",
        "        Appends a row of data to the top of the specified worksheet.\n",
        "\n",
        "        Args:\n",
        "            data_to_append (List[str]): The data to append to the top of the worksheet.\n",
        "            worksheet_name (str): The name of the worksheet to append the data to.\n",
        "        \"\"\"\n",
        "        self.insert_row(data_to_append, 1, worksheet_name)\n",
        "\n",
        "    def update_cell(self, row: int, col: int, value: str, worksheet_name: str) -> None:\n",
        "        \"\"\"\n",
        "        Updates the value of a specific cell in the worksheet.\n",
        "\n",
        "        Args:\n",
        "            row (int): The row number of the cell to update.\n",
        "            col (int): The column number of the cell to update.\n",
        "            value (str): The new value for the cell.\n",
        "            worksheet_name (str): The name of the worksheet containing the cell.\n",
        "        \"\"\"\n",
        "        worksheet = self.gc.open_by_url(self.spreadsheet_url).worksheet(worksheet_name)\n",
        "        worksheet.update_cell(row, col, value)\n",
        "\n",
        "    def delete_row(self, index: int, worksheet_name: str) -> None:\n",
        "        \"\"\"\n",
        "        Deletes a specific row in the worksheet.\n",
        "\n",
        "        Args:\n",
        "            index (int): The position of the row to delete.\n",
        "            worksheet_name (str): The name of the worksheet to delete the row from.\n",
        "        \"\"\"\n",
        "        worksheet = self.gc.open_by_url(self.spreadsheet_url).worksheet(worksheet_name)\n",
        "        worksheet.delete_rows(index)\n",
        "\n",
        "    def read_data(self, cell_range: str, worksheet_name: str) -> List[List[str]]:\n",
        "        \"\"\"\n",
        "        Reads data from a specific range in the worksheet.\n",
        "\n",
        "        Args:\n",
        "            cell_range (str): The range of cells to read (e.g., 'A1:C10').\n",
        "            worksheet_name (str): The name of the worksheet to read the data from.\n",
        "\n",
        "        Returns:\n",
        "            List[List[str]]: The data read from the specified range.\n",
        "        \"\"\"\n",
        "        worksheet = self.gc.open_by_url(self.spreadsheet_url).worksheet(worksheet_name)\n",
        "        return worksheet.get(cell_range)\n",
        "\n",
        "    def clear_range(self, cell_range: str, worksheet_name: str) -> None:\n",
        "        \"\"\"\n",
        "        Clears data from a specific range in the worksheet.\n",
        "\n",
        "        Args:\n",
        "            cell_range (str): The range of cells to clear (e.g., 'A1:C10').\n",
        "            worksheet_name (str): The name of the worksheet to clear the data from.\n",
        "        \"\"\"\n",
        "        worksheet = self.gc.open_by_url(self.spreadsheet_url).worksheet(worksheet_name)\n",
        "        worksheet.batch_clear([cell_range])\n",
        "\n",
        "\n",
        "    def append_rows(self, data_to_append: List[List[str]], worksheet_name: str) -> None:\n",
        "        \"\"\"\n",
        "        Appends multiple rows of data to the bottom of the specified worksheet in a single API call.\n",
        "\n",
        "        Args:\n",
        "            data_to_append (List[List[str]]): The data to append to the worksheet.\n",
        "            worksheet_name (str): The name of the worksheet to append the data to.\n",
        "        \"\"\"\n",
        "        worksheet = self.gc.open_by_url(self.spreadsheet_url).worksheet(worksheet_name)\n",
        "        worksheet.append_rows(data_to_append)\n",
        "\n",
        "\n",
        "spreadsheet_url='https://docs.google.com/spreadsheets/d/1607FPIz2-SOwR31rPYlFkYrOo37q9rC9xixcoEo5G8E/edit?usp=sharing'\n",
        "gs_handler = GoogleSheetHandler(\n",
        "    json_url='https://drive.usercontent.google.com/u/0/uc?id=18sDUm52vPA6mCJgocqLZLiPc0PNTsAfS&export=download',\n",
        "    spreadsheet_url=spreadsheet_url,\n",
        ")\n",
        "\n",
        "questions_spredsheet_url = 'https://docs.google.com/spreadsheets/d/1rm9bvjDFkRuyU94Lp1A5L4GlzUNkNt7nAA-mmWYf4TY/edit?usp=sharing'\n",
        "gs_questions = GoogleSheetHandler(\n",
        "    json_url='https://drive.usercontent.google.com/u/0/uc?id=18sDUm52vPA6mCJgocqLZLiPc0PNTsAfS&export=download',\n",
        "    spreadsheet_url=questions_spredsheet_url,\n",
        ")\n",
        "\n",
        "\n",
        "from functools import cached_property\n",
        "\n",
        "\n",
        "class Scenario:\n",
        "    def __init__(self, name: str,  group: str):\n",
        "        self.name = name\n",
        "        self.group = group\n",
        "\n",
        "\n",
        "class KeyWordsCollector:\n",
        "    def __init__(self, xlsx_path: str):\n",
        "        self.xlsx_path = xlsx_path\n",
        "\n",
        "    @cached_property\n",
        "    def scenarios(self) -> List[Scenario]:\n",
        "        workbook = openpyxl.load_workbook(self.xlsx_path)\n",
        "        sheet = workbook.active\n",
        "        scenarios: List[Scenario] = []\n",
        "\n",
        "        for row in sheet.iter_rows(min_row=1, max_row=sheet.max_row, values_only=True):\n",
        "            scenario_name = row[1].lower()\n",
        "            scenario_group = row[5]\n",
        "            scenario = Scenario(scenario_name, scenario_group)\n",
        "            scenarios.append(scenario)\n",
        "\n",
        "        return scenarios\n",
        "\n",
        "    @staticmethod\n",
        "    def clean_non_unique_key_words(key_word_sets: Dict[str, Set[str]]) -> None:\n",
        "        # Step 1: Count the occurrences of each name\n",
        "        name_count = {}\n",
        "\n",
        "        for set_name, names in key_word_sets.items():\n",
        "            for name in names:\n",
        "                if name in name_count:\n",
        "                    name_count[name] += 1\n",
        "                else:\n",
        "                    name_count[name] = 1\n",
        "\n",
        "        # Step 2: Identify names that are not unique (appear in more than one set)\n",
        "        non_unique_names = {name for name, count in name_count.items() if count > 1}\n",
        "\n",
        "        # Step 3: Remove non-unique names from each set\n",
        "        for set_name, names in key_word_sets.items():\n",
        "            key_word_sets[set_name] = names - non_unique_names\n",
        "\n",
        "    @cached_property\n",
        "    def key_words_sets(self) -> Dict[str, Set[str]]:\n",
        "        result = {}\n",
        "        for scenario in self.scenarios:\n",
        "            if scenario.group not in result:\n",
        "                result[scenario.group] = set()\n",
        "\n",
        "            key_word: str = scenario.name.split(']')[0][1:]\n",
        "            result[scenario.group].add(key_word)\n",
        "\n",
        "        self.clean_non_unique_key_words(result)\n",
        "        return result\n",
        "\n",
        "    def find_relevant_group(self, user_question:str) -> str | None:\n",
        "        question = user_question.lower()\n",
        "        user_words = user_question.lower().replace(',', '').replace('.','').split(' ')\n",
        "\n",
        "        result = ''\n",
        "        total_count = 0\n",
        "\n",
        "        for group_name, key_words in self.key_words_sets.items():\n",
        "            for word in user_words:\n",
        "                if word in key_words:\n",
        "                    total_count += 1\n",
        "                    if total_count > 1:\n",
        "                        return None\n",
        "                    result = group_name\n",
        "\n",
        "        return result\n",
        "\n",
        "\n",
        "\n"
      ]
    },
    {
      "cell_type": "code",
      "execution_count": null,
      "metadata": {
        "id": "SRnKZlVe--6d",
        "colab": {
          "base_uri": "https://localhost:8080/",
          "height": 34
        },
        "outputId": "ccdebf65-669a-494d-c9cc-1fb379915308",
        "cellView": "form"
      },
      "outputs": [
        {
          "output_type": "display_data",
          "data": {
            "text/plain": [
              "<IPython.core.display.HTML object>"
            ],
            "text/html": [
              "\n",
              "  <style>\n",
              "    pre {\n",
              "        white-space: pre-wrap;\n",
              "    }\n",
              "  </style>\n",
              "  "
            ]
          },
          "metadata": {}
        },
        {
          "output_type": "display_data",
          "data": {
            "text/plain": [
              "<IPython.core.display.HTML object>"
            ],
            "text/html": [
              "\n",
              "  <style>\n",
              "    pre {\n",
              "        white-space: pre-wrap;\n",
              "    }\n",
              "  </style>\n",
              "  "
            ]
          },
          "metadata": {}
        },
        {
          "output_type": "display_data",
          "data": {
            "text/plain": [
              "<IPython.core.display.HTML object>"
            ],
            "text/html": [
              "\n",
              "  <style>\n",
              "    pre {\n",
              "        white-space: pre-wrap;\n",
              "    }\n",
              "  </style>\n",
              "  "
            ]
          },
          "metadata": {}
        },
        {
          "output_type": "display_data",
          "data": {
            "text/plain": [
              "<IPython.core.display.HTML object>"
            ],
            "text/html": [
              "\n",
              "  <style>\n",
              "    pre {\n",
              "        white-space: pre-wrap;\n",
              "    }\n",
              "  </style>\n",
              "  "
            ]
          },
          "metadata": {}
        },
        {
          "output_type": "stream",
          "name": "stdout",
          "text": [
            "\n"
          ]
        }
      ],
      "source": [
        "# @title Загрузка эксель файла\n",
        "xlsx_path = \"/content/drive/MyDrive/AiUniveristy/PROJECTS/Taxcom/20240705_Сценарии для ИИ.xlsx\" # @param{type: 'string'}\n",
        "\n",
        "from typing import Dict\n",
        "\n",
        "\n",
        "def get_tags_from_xlsx(xlsx_path: str, sheet_name='Теги') -> Dict[str, str]:\n",
        "    wb = openpyxl.load_workbook(xlsx_path)\n",
        "    sheet = wb[sheet_name]\n",
        "    tags = {}\n",
        "\n",
        "    for row in sheet.iter_rows(values_only=True, min_row=3, max_row=546):\n",
        "        if row[1] is not None:\n",
        "            translited_tag = translit(row[1].lower(), 'ru', reversed=True)\n",
        "            tags[translited_tag] = row[1]\n",
        "\n",
        "    return tags\n",
        "\n",
        "\n",
        "key_word_collector = KeyWordsCollector(xlsx_path)\n",
        "res = key_word_collector.find_relevant_group('Что у нас тут происходит. Мне нужна помощь с доклайнз')\n",
        "print(res)\n"
      ]
    },
    {
      "cell_type": "code",
      "source": [
        "# @title Загрузка векторных баз (путь папке в которой множество баз данных - `multi_dbs`)\n",
        "db_dir = \"/content/drive/MyDrive/multi_dbs\" # @param{type: 'string'}\n",
        "# db_coordinator_path = \"\" # @param{type: 'string'}\n",
        "embeddings = OpenAIEmbeddings(model='text-embedding-3-large')\n",
        "\n",
        "\n",
        "doklines_db = FAISS.load_local(os.path.join(db_dir, '@Доклайнз'), embeddings, allow_dangerous_deserialization=True)\n",
        "kkt_ofd_db = FAISS.load_local(os.path.join(db_dir, '@ККТ', 'ОФД'), embeddings, allow_dangerous_deserialization=True)\n",
        "kripto_pro_db = FAISS.load_local(os.path.join(db_dir, '@КриптоПро ', ' КриптоАРМ'), embeddings, allow_dangerous_deserialization=True)\n",
        "obshie_db = FAISS.load_local(os.path.join(db_dir, '@Общие'), embeddings, allow_dangerous_deserialization=True)\n",
        "otchetnost_db = FAISS.load_local(os.path.join(db_dir, '@Отчётность'), embeddings, allow_dangerous_deserialization=True)\n",
        "prochie_proekty_db = FAISS.load_local(os.path.join(db_dir, '@Прочие проекты'), embeddings, allow_dangerous_deserialization=True)\n",
        "tokeny_db = FAISS.load_local(os.path.join(db_dir, '@Токены'), embeddings, allow_dangerous_deserialization=True)\n",
        "uslugi_uc_db = FAISS.load_local(os.path.join(db_dir, '@Услуги УЦ'), embeddings, allow_dangerous_deserialization=True)\n",
        "cto_db = FAISS.load_local(os.path.join(db_dir, '@ЦТО'), embeddings, allow_dangerous_deserialization=True)\n",
        "odin_c_db = FAISS.load_local(os.path.join(db_dir, '@1С'), embeddings, allow_dangerous_deserialization=True)\n",
        "def get_db(base_selector_answer:str, use_original_base_name=False):\n",
        "    db=None\n",
        "    if not use_original_base_name:\n",
        "        base_selector_answer_clear = '@' + base_selector_answer.replace(\"['\", \"\").replace(\"']\",\"\")\n",
        "    else:\n",
        "        base_selector_answer_clear = base_selector_answer\n",
        "\n",
        "    if 'ЦТО' in base_selector_answer:\n",
        "        return cto_db\n",
        "    match base_selector_answer_clear:\n",
        "        case '@Доклайнз':\n",
        "            db = doklines_db\n",
        "        case '@Отчётность':\n",
        "            db = otchetnost_db\n",
        "        case '@Общие':\n",
        "            db = obshie_db\n",
        "        case '@Прочие проекты':\n",
        "            db = prochie_proekty_db\n",
        "        case '@Услуги УЦ':\n",
        "            db = uslugi_uc_db\n",
        "        case '@ККТ/ОФД':\n",
        "            db = kkt_ofd_db\n",
        "        case '@КриптоПро / КриптоАРМ':\n",
        "            db = kripto_pro_db\n",
        "        case '@Токены':\n",
        "            db = tokeny_db\n",
        "        case '@ЦТО':\n",
        "            db = cto_db\n",
        "        case '@1С':\n",
        "            db = odin_c_db\n",
        "        case _:\n",
        "            print(f'Неизвестная база данных, {base_selector_answer_clear}')\n",
        "            raise ValueError(f'Неизвестная база данных, {base_selector_answer_clear}')\n",
        "    return db\n",
        "\n",
        "def find_most_relevant_chunks(question:str, base_selector_answer:str, chunks_n:int=5):\n",
        "    db = get_db(base_selector_answer=base_selector_answer)\n",
        "    chunks = db.similarity_search(query=question, k=chunks_n)\n",
        "    return chunks\n"
      ],
      "metadata": {
        "colab": {
          "base_uri": "https://localhost:8080/",
          "height": 17
        },
        "id": "Z_2RFzQ4qFCo",
        "outputId": "01c5f529-5d1c-4894-90f9-8ec65c6427bd",
        "cellView": "form"
      },
      "execution_count": 2,
      "outputs": [
        {
          "output_type": "display_data",
          "data": {
            "text/plain": [
              "<IPython.core.display.HTML object>"
            ],
            "text/html": [
              "\n",
              "  <style>\n",
              "    pre {\n",
              "        white-space: pre-wrap;\n",
              "    }\n",
              "  </style>\n",
              "  "
            ]
          },
          "metadata": {}
        }
      ]
    },
    {
      "cell_type": "code",
      "execution_count": 119,
      "metadata": {
        "id": "HgCCDJYN7xTD",
        "cellView": "form",
        "outputId": "5c28b387-41bc-4716-c753-e4556a8be35c",
        "colab": {
          "base_uri": "https://localhost:8080/",
          "height": 17
        }
      },
      "outputs": [
        {
          "output_type": "display_data",
          "data": {
            "text/plain": [
              "<IPython.core.display.HTML object>"
            ],
            "text/html": [
              "\n",
              "  <style>\n",
              "    pre {\n",
              "        white-space: pre-wrap;\n",
              "    }\n",
              "  </style>\n",
              "  "
            ]
          },
          "metadata": {}
        }
      ],
      "source": [
        "# @title Запрос пользователя\n",
        "query = \"При импорте вложения  в онлайн спринтере высвечивается сообщение \\\"Превышение максимального допустимого размера\\\"\" # @param{type: 'string'}"
      ]
    },
    {
      "cell_type": "markdown",
      "source": [],
      "metadata": {
        "id": "cVYKyC5nZJTy"
      }
    },
    {
      "cell_type": "code",
      "source": [
        "# @title Дораспределятор базы (pre_base_selector)\n",
        "system_pre_base_selector = \"Ты специалист тех. поддержки в компании которая занимается онлайн документооборотом. Клиент обращается к тебе с Запросом.Ты знаешь, что три категории Запросов клиентов: Прочие проекты, ЦТО и Иное. Ты знаешь, что все запросы относятся к категории Иное, кроме этих двух случаев: Ты строго следуешь правилам:  Правило 1 - Чтобы запрос относился к категории Прочие проекты в Запросе ОБЯЗАТЕЛЬНО должно быть дословно КАК МИНИМУМ ОДНО из этих словосочетаний дословно: 1) ВетИС; 2) ЕСИА; 3) Картотека документов, 4)Мобильное приложение Такском-Ветис; 5)Такском-Ветис; 6)Портал госуслуг; 7)Порядок обработки обращений; 8) Такском Управление доверенностями; 9) Такском-Ветис; 10) Такском-Визор; 11)Такском-Досье; 12) taxcom.ru; 13)Такском-Конвертер; 14)Такском-Ручка; 15)Такском-Управление Доверенностями; 16)ФГИС Меркурий; 17)Ветис.API; 18)Электронная доверенность (МЧД). Если ни одного из этих словосочетаний нет в тексте запроса ты знаешь что он  НЕ относится к категории Прочие проекты;Правило 2 - К категории ЦТО относятся ТОЛЬКО ИМЕННО эти десять Запросов(предложений) дословно СЛОВО В СЛОВО: 1)Какое назначение АИСТ?; 2) Что делать если в ПДО(Подтверждение даты отправки отчета) некорректное время формирования?; 3) Как внести товар или услугу в ККТ?: 4) Как передать ККТ на обслуживание?; 5)Как настроить/ использовать ККТ?; 6)Как модернизировать/обновить ККТ?; 7)Что делать если в распечатанном документе, драйвере или интерфейсе ККТ сообщение об ошибке?; 8)Что делать если в распечатанном чеке некорректные данные?; 9)Что делать если в распечатанном чеке нет данных?; 10)Как открыть/закрыть смену в ККТ?. Ты очень строго проверяешь Запрос на полное совпадение по тексту и если оно отличается, ты НЕ выбираешь ЦТО. Ты очень внимательно проверяешь, чтобы запрос был именно одним из этих десяти запросов, а не просто похожим на них.\" # @param{type: 'string'}\n",
        "user_pre_base_selector = \"Пожалуйста, сделай глубокий вдох и подумай шаг за шагом: 1)ВНИМАТЕЛЬНО проанализируй Запрос клиента; 2) Определи, к какой категории относится Запрос и напиши эту категорию в Ответ. Порядок отчета: python list, например:  ['ЦТО'] или ['Прочие проекты'] или ['Иное’']  и больше ничего. Запрос: {topic}.\" # @param{type: 'string'}\n",
        "temp_pre_base_selector = 0 # @param {type: 'slider', min: 0, max: 2, step: 0.1}\n",
        "model_pre_base_selector = 'gpt-4o' # @param  ['gpt-4o-mini','gpt-4o', 'gpt-4', 'gpt-3.5-turbo-16k-0613', 'gpt-3.5-turbo-1106']\n",
        "save_to_google_table = True #@param{type: 'boolean'}\n",
        "\n",
        "\n",
        "\n",
        "# Распределятор базы\n",
        "async def pre_base_selector(system, user, topic, model, temperature):\n",
        "    user = user.format(\n",
        "        topic=topic,\n",
        "    )\n",
        "    messages = [\n",
        "        {'role': 'system', 'content': system},\n",
        "        {'role': 'user', 'content': user}\n",
        "    ]\n",
        "    completion = await client.chat.completions.create(\n",
        "        model=model,\n",
        "        messages=messages,\n",
        "        temperature=temperature\n",
        "    )\n",
        "    answer = completion.choices[0].message.content\n",
        "    return answer\n",
        "\n",
        "if '1с' in query.lower() or '1c' in query.lower():\n",
        "     pre_base_selector_answer = \"['1С']\"\n",
        "else:\n",
        "    pre_base_selector_answer = await pre_base_selector(system_pre_base_selector, user_pre_base_selector, query, model_pre_base_selector, temp_pre_base_selector)\n",
        "\n",
        "\n",
        "print_color('Запрос пользователя:', 'blue')\n",
        "print(query)\n",
        "print('-' * 50)\n",
        "print_color(f'Ответ Дораспределятора базы:', 'pink')\n",
        "print(pre_base_selector_answer)\n",
        "\n",
        "\n",
        "\n",
        "if save_to_google_table:\n",
        "    row_data = [\n",
        "        current_datetime(),\n",
        "        query,\n",
        "        'Дораспределятор базы (pre_base_selector)',\n",
        "        '',\n",
        "        pre_base_selector_answer,\n",
        "        system_pre_base_selector,\n",
        "        user_pre_base_selector,\n",
        "    ]\n",
        "    gs_handler.append_row(row_data, 'Результаты промтов')"
      ],
      "metadata": {
        "id": "vA-eQl2eWmCP",
        "cellView": "form",
        "outputId": "e700153f-f518-439a-8575-bd69e9590d77",
        "colab": {
          "base_uri": "https://localhost:8080/",
          "height": 104
        }
      },
      "execution_count": null,
      "outputs": [
        {
          "output_type": "display_data",
          "data": {
            "text/plain": [
              "<IPython.core.display.HTML object>"
            ],
            "text/html": [
              "\n",
              "  <style>\n",
              "    pre {\n",
              "        white-space: pre-wrap;\n",
              "    }\n",
              "  </style>\n",
              "  "
            ]
          },
          "metadata": {}
        },
        {
          "output_type": "display_data",
          "data": {
            "text/plain": [
              "<IPython.core.display.HTML object>"
            ],
            "text/html": [
              "\n",
              "  <style>\n",
              "    pre {\n",
              "        white-space: pre-wrap;\n",
              "    }\n",
              "  </style>\n",
              "  "
            ]
          },
          "metadata": {}
        },
        {
          "output_type": "display_data",
          "data": {
            "text/plain": [
              "<IPython.core.display.HTML object>"
            ],
            "text/html": [
              "\n",
              "  <style>\n",
              "    pre {\n",
              "        white-space: pre-wrap;\n",
              "    }\n",
              "  </style>\n",
              "  "
            ]
          },
          "metadata": {}
        },
        {
          "output_type": "display_data",
          "data": {
            "text/plain": [
              "<IPython.core.display.HTML object>"
            ],
            "text/html": [
              "\n",
              "  <style>\n",
              "    pre {\n",
              "        white-space: pre-wrap;\n",
              "    }\n",
              "  </style>\n",
              "  "
            ]
          },
          "metadata": {}
        },
        {
          "output_type": "display_data",
          "data": {
            "text/plain": [
              "<IPython.core.display.HTML object>"
            ],
            "text/html": [
              "<text style=\"color:#0074D9\">Запрос пользователя:</text>"
            ]
          },
          "metadata": {}
        },
        {
          "output_type": "stream",
          "name": "stdout",
          "text": [
            " Как настроить интеграцию станции сканирования со станцией управления заказами?\n",
            "--------------------------------------------------\n"
          ]
        },
        {
          "output_type": "display_data",
          "data": {
            "text/plain": [
              "<IPython.core.display.HTML object>"
            ],
            "text/html": [
              "<text style=\"color:#FF69B4\">Ответ Дораспределятора базы:</text>"
            ]
          },
          "metadata": {}
        },
        {
          "output_type": "stream",
          "name": "stdout",
          "text": [
            "['Иное']\n"
          ]
        }
      ]
    },
    {
      "cell_type": "code",
      "source": [
        "import nest_asyncio\n",
        "import asyncio\n",
        "\n",
        "nest_asyncio.apply()\n",
        "\n",
        "# @title AUTO TEST - Дораспределятор базы (pre_base_selector)\n",
        "async def get_similarity_score(base_selector_answer:str, question:str) -> float:\n",
        "    db = get_db(base_selector_answer)\n",
        "    chunk = await db.asimilarity_search_with_score(query=question, k=1)\n",
        "    return chunk[0][1]\n",
        "\n",
        "row_count = 109 # @param {\"type\":\"integer\"}\n",
        "\n",
        "async def process_question(i, question, system_base_selector, user_base_selector, model_base_selector, temp_base_selector, rows_data, res):\n",
        "    base_selector_answer = await pre_base_selector(system_base_selector, user_base_selector, question[0], model_base_selector, temp_base_selector)\n",
        "    if 'Иное' in base_selector_answer:\n",
        "        similarity_score = '/'\n",
        "    else:\n",
        "        similarity_score = await get_similarity_score(base_selector_answer, question[0])\n",
        "\n",
        "    base_name = question[2]\n",
        "\n",
        "    if base_name not in res:\n",
        "        res[base_name] = {'scenario_count': 0, 'success_count': 0}\n",
        "\n",
        "    res[base_name]['scenario_count'] += 1\n",
        "    res[base_name]['success_count'] += 1\n",
        "\n",
        "    is_correct = 'ДА'\n",
        "    if (\"['ЦТО']\" in base_selector_answer and 'ЦТО' not in question[2]) or (\"прочие проекты\" in base_selector_answer.lower() and 'Прочие проекты' not in question[2]):\n",
        "        is_correct = 'НЕТ'\n",
        "        res[base_name]['success_count'] -= 1\n",
        "\n",
        "    row_data = [\n",
        "        i,\n",
        "        question[0],\n",
        "        'Дораспределятор базы (pre_base_selector)',\n",
        "        '',\n",
        "        base_selector_answer,\n",
        "        system_base_selector,\n",
        "        user_base_selector,\n",
        "        question[2],\n",
        "        question[1],\n",
        "        is_correct,\n",
        "        str(round(similarity_score, 2)) if similarity_score != '/' else similarity_score,\n",
        "    ]\n",
        "\n",
        "    rows_data.append(row_data)\n",
        "\n",
        "\n",
        "async def main(auto_test_questions, system_base_selector, user_base_selector, model_base_selector, temp_base_selector):\n",
        "    rows_data = [['Номер запроса', 'Запрос пользователя', 'Эксперт', 'Выбранный чанк', 'Ответ эксперта', 'system_promt', 'user_promt', 'Правильный ответ', 'id сценария', 'Ответ является правильным', 'Оценка\\nсхожести']]\n",
        "    res = {}\n",
        "    success_count = 0\n",
        "\n",
        "    tasks = [\n",
        "        process_question(i, question, system_base_selector, user_base_selector, model_base_selector, temp_base_selector, rows_data, res)\n",
        "        for i, question in enumerate(auto_test_questions, start=1)\n",
        "    ]\n",
        "\n",
        "    await asyncio.gather(*tasks)\n",
        "\n",
        "    for base_name, stats in res.items():\n",
        "        success_count += stats['success_count']\n",
        "\n",
        "    return rows_data, res, success_count\n",
        "\n",
        "# Usage example\n",
        "auto_test_questions = gs_questions.read_data(f'A2:C{row_count}', 'Лист1')\n",
        "rows_data, res, success_count = await main(auto_test_questions, system_pre_base_selector, user_pre_base_selector, model_pre_base_selector, temp_pre_base_selector)\n",
        "\n",
        "\n",
        "rows_data = [rows_data[0]] + sorted(rows_data[1:], key=lambda x: x[0])\n",
        "\n",
        "db_names = list(res.keys())\n",
        "db_result = [f'{res[db_name][\"success_count\"]}/{res[db_name][\"scenario_count\"]:.2f} - ({res[db_name][\"success_count\"]/res[db_name][\"scenario_count\"]*100:.2f}%)' for db_name in db_names]\n",
        "first_row = ['Дата и время', 'Количество запросов', 'процент успешно распределеных запросов', *db_names]\n",
        "second_row = [current_datetime(), len(auto_test_questions), round(success_count/len(auto_test_questions), 2), *db_result]\n",
        "\n",
        "rows_data.insert(0, second_row)\n",
        "rows_data.insert(0, first_row)\n",
        "rows_data.append([])\n",
        "\n",
        "\n",
        "gs_questions.append_rows(rows_data, 'дораспределятор_auto_test')\n",
        "print(f'Результаты выгружены в таблицу: {questions_spredsheet_url}')\n",
        "\n"
      ],
      "metadata": {
        "cellView": "form",
        "collapsed": true,
        "id": "2X1l2PrEgBXs"
      },
      "execution_count": null,
      "outputs": []
    },
    {
      "cell_type": "code",
      "source": [
        "# @title Распределятор базы (base_selector)\n",
        "system_base_selector = \"Ты специалист тех. поддержки в компании которая занимается онлайн документооборотом. Клиент обращается к тебе с Запросом. Ты знаешь что Запрос - это вопрос по какому-то продукту или услуге компании, ошибки при подключении и использовании сервисами, формировании отчетов и заявок, взаимодействие с государственными органами и другие подобные вещи. Твой главный навык верно определить к какой из семи Категорий относится Запрос пользователя. Ты знаешь, что каждая Категория характеризуется набором признаков:  1) Доклайнз - включает запросы на тему: a) Подключение к сервисам; b)Регистрация в системах; c)Ошибки в работе продуктов; d)Вопросы по работе с мобильными приложениями; e) Отправка, сканирование и проверка документов; e)Вопросы по маркировке; f)Получение кодов; g)Консультации по продуктам; 2) ККТ/ОФД - ключает запросы на темы: a)Вопросы по работе с ОФД; b)Настройка и регистрация ККТ; c)Проблемы с фискальными данными; d)Вопросы по личному кабинету партнера ОФД; e)Ошибки в работе кассовой техники; f)Вопросы по визуализации данных; g)Регистрация и проверка чеков; h)Консультации по продуктам ОФД; i)Обновление и поддержка ПО для ККТ; 3) КриптоПро / КриптоАРМ -  включает запросы, связанные с криптографическими продуктами и услугами, такими как КриптоПро CSP и КриптоАРМ. Частые обращения касаются установки, настройки и использования криптографических сертификатов, а также устранения ошибок и проблем с лицензиями и контейнерами; 4) Общие -  включает запросы, связанные с управлением договорами и услугами, доступом к личным кабинетам, общими техническими вопросами и ошибками, а также консультациями по продуктам и услугам, которые не попадают в другие категории; 5)  Отчётность - включает запросы на темы: a) Подготовка и отправка отчетов; b)Настройка программного обеспечения для отчетности; c)Проблемы с отправкой документов; d) Ошибки при формировании отчетов; e)Взаимодействие с государственными органами; f) Вопросы по налоговой отчетности; g)Консультации по продуктам для отчетности; h)Проверка и исправление документов; i)Поддержка пользователей программ для отчетности; g) Интеграция с другими системами для отчетности; h)запросы со словом Доклайнер; 6)Токены - включает запросы, связанные с использованием и настройкой токенов, таких как Рутокен и ESMART. Частые обращения касаются проблем с установкой драйверов, ошибками при использовании токенов, настройкой и поддержкой криптографических сертификатов; 7) Услуги УЦ - включает запросы, связанные с использованием услуг удостоверяющих центров (УЦ). Частые обращения касаются проблем с входом на порталы, сертификатами, настройкой и поддержкой работы с государственными порталами. Пожалуйста, ВСЕГДА НА 100% следуй порядку отчета.\" # @param{type: 'string'}\n",
        "user_base_selector = \"Пожалуйста, сделай глубокий вдох и подумай шаг за шагом: ВНИМАТЕЛЬНО проанализируй Запрос клиента, на основании анализа напиши ОДНУ категорию, которая подходит под Запрос. Порядок отчета: python list, например: [‘Доклайнз’] или [‘ККТ/ОФД’] или [‘КриптоПро / КриптоАРМ’] или ['Общие'] или ['Отчётность'] или ['Токены']или ['Услуги УЦ'] и больше ничего. Запрос: {topic}.\" # @param{type: 'string'}\n",
        "temp_base_selector = 0 # @param {type: 'slider', min: 0, max: 2, step: 0.1}\n",
        "model_base_selector = 'gpt-4o' # @param  ['gpt-4o-mini','gpt-4o', 'gpt-4','gpt-3.5-turbo-16k-0613', 'gpt-3.5-turbo-1106']\n",
        "save_to_google_table = True #@param{type: 'boolean'}\n",
        "\n",
        "\n",
        "\n",
        "# Распределятор базы\n",
        "async def base_selector(system, user, topic, model, temperature):\n",
        "    if '1с' in topic.lower() or '1c' in topic.lower():\n",
        "        return \"['1С']\"\n",
        "\n",
        "\n",
        "\n",
        "    user = user.format(\n",
        "        topic=topic,\n",
        "    )\n",
        "    messages = [\n",
        "        {'role': 'system', 'content': system},\n",
        "        {'role': 'user', 'content': user}\n",
        "    ]\n",
        "    completion = await client.chat.completions.create(\n",
        "        model=model,\n",
        "        messages=messages,\n",
        "        temperature=temperature\n",
        "    )\n",
        "    answer = completion.choices[0].message.content\n",
        "    return answer\n",
        "\n",
        "\n",
        "base_selector_answer = await base_selector(system_base_selector, user_base_selector, query, model_base_selector, temp_base_selector)\n",
        "\n",
        "\n",
        "print_color('Запрос пользователя:', 'blue')\n",
        "print(query)\n",
        "print('-' * 50)\n",
        "print_color(f'Ответ Распределятора базы:', 'pink')\n",
        "print(base_selector_answer)\n",
        "\n",
        "\n",
        "\n",
        "if save_to_google_table:\n",
        "    row_data = [\n",
        "        current_datetime(),\n",
        "        query,\n",
        "        'Распределятор базы (base_selector)',\n",
        "        '',\n",
        "        base_selector_answer,\n",
        "        system_base_selector,\n",
        "        user_base_selector,\n",
        "    ]\n",
        "    gs_handler.append_row(row_data, 'Результаты промтов')"
      ],
      "metadata": {
        "cellView": "form",
        "id": "s91cBXv-CiUy",
        "outputId": "89ad3d9a-d2e0-4207-dfdc-4de1b9851fb6",
        "colab": {
          "base_uri": "https://localhost:8080/",
          "height": 104
        }
      },
      "execution_count": null,
      "outputs": [
        {
          "output_type": "display_data",
          "data": {
            "text/plain": [
              "<IPython.core.display.HTML object>"
            ],
            "text/html": [
              "\n",
              "  <style>\n",
              "    pre {\n",
              "        white-space: pre-wrap;\n",
              "    }\n",
              "  </style>\n",
              "  "
            ]
          },
          "metadata": {}
        },
        {
          "output_type": "display_data",
          "data": {
            "text/plain": [
              "<IPython.core.display.HTML object>"
            ],
            "text/html": [
              "\n",
              "  <style>\n",
              "    pre {\n",
              "        white-space: pre-wrap;\n",
              "    }\n",
              "  </style>\n",
              "  "
            ]
          },
          "metadata": {}
        },
        {
          "output_type": "display_data",
          "data": {
            "text/plain": [
              "<IPython.core.display.HTML object>"
            ],
            "text/html": [
              "\n",
              "  <style>\n",
              "    pre {\n",
              "        white-space: pre-wrap;\n",
              "    }\n",
              "  </style>\n",
              "  "
            ]
          },
          "metadata": {}
        },
        {
          "output_type": "display_data",
          "data": {
            "text/plain": [
              "<IPython.core.display.HTML object>"
            ],
            "text/html": [
              "\n",
              "  <style>\n",
              "    pre {\n",
              "        white-space: pre-wrap;\n",
              "    }\n",
              "  </style>\n",
              "  "
            ]
          },
          "metadata": {}
        },
        {
          "output_type": "display_data",
          "data": {
            "text/plain": [
              "<IPython.core.display.HTML object>"
            ],
            "text/html": [
              "<text style=\"color:#0074D9\">Запрос пользователя:</text>"
            ]
          },
          "metadata": {}
        },
        {
          "output_type": "stream",
          "name": "stdout",
          "text": [
            " Как настроить интеграцию станции сканирования со станцией управления заказами?\n",
            "--------------------------------------------------\n"
          ]
        },
        {
          "output_type": "display_data",
          "data": {
            "text/plain": [
              "<IPython.core.display.HTML object>"
            ],
            "text/html": [
              "<text style=\"color:#FF69B4\">Ответ Распределятора базы:</text>"
            ]
          },
          "metadata": {}
        },
        {
          "output_type": "stream",
          "name": "stdout",
          "text": [
            "['Доклайнз']\n"
          ]
        }
      ]
    },
    {
      "cell_type": "code",
      "source": [
        "import nest_asyncio\n",
        "import asyncio\n",
        "\n",
        "nest_asyncio.apply()\n",
        "\n",
        "# @title AUTO TEST - Распределятор базы (base_selector)\n",
        "async def get_similarity_score(base_selector_answer:str, question:str) -> float:\n",
        "    db = get_db(base_selector_answer)\n",
        "    chunk = await db.asimilarity_search_with_score(query=question, k=1)\n",
        "    return chunk[0][1]\n",
        "\n",
        "async def get_score_with_chunk(base_selector_answer:str, question:str, use_original_base_name=False) -> float:\n",
        "    db = get_db(base_selector_answer, use_original_base_name)\n",
        "    chunk = await db.asimilarity_search_with_score(query=question, k=1)\n",
        "    score = round(float(chunk[0][1]), 2)\n",
        "    chunk_txt = chunk[0][0].page_content\n",
        "    scenario_id = chunk[0][0].metadata['scenario_id']\n",
        "    scenario_name = chunk[0][0].metadata['scenario_name']\n",
        "    res = f\"Результат\\nсхожести: {score}\\n Сценарий: {scenario_name}\\nId сценаярия: {scenario_id}\\nТекст выбранного чанка:\\n{chunk_txt}\"\n",
        "    return res\n",
        "\n",
        "row_count = 87 # @param {\"type\":\"integer\"}\n",
        "\n",
        "async def process_question(i, question, system_base_selector, user_base_selector, model_base_selector, temp_base_selector, rows_data, res):\n",
        "    base_selector_answer = await base_selector(system_base_selector, user_base_selector, question[0], model_base_selector, temp_base_selector)\n",
        "    similarity_score_base_selector = await get_score_with_chunk(base_selector_answer, question[0])\n",
        "    similarity_score_original = await get_score_with_chunk(question[2], question[0], True)\n",
        "\n",
        "    row_data = [\n",
        "        i,\n",
        "        question[0],\n",
        "        'Распределятор базы (base_selector)',\n",
        "        base_selector_answer,\n",
        "        system_base_selector,\n",
        "        user_base_selector,\n",
        "        question[2],\n",
        "        question[1],\n",
        "        'ДА' if base_selector_answer[2:-2] in question[2] else 'НЕТ',\n",
        "        similarity_score_base_selector,\n",
        "        similarity_score_original,\n",
        "    ]\n",
        "\n",
        "    rows_data.append(row_data)\n",
        "\n",
        "    base_name = question[2]\n",
        "    if base_name not in res:\n",
        "        res[base_name] = {'scenario_count': 0, 'success_count': 0}\n",
        "\n",
        "    res[base_name]['scenario_count'] += 1\n",
        "    if base_selector_answer[2:-2] in base_name:\n",
        "        res[base_name]['success_count'] += 1\n",
        "\n",
        "async def main(auto_test_questions, system_base_selector, user_base_selector, model_base_selector, temp_base_selector):\n",
        "    rows_data = [['Номер запроса', 'Запрос пользователя', 'Эксперт', 'Ответ эксперта', 'system_promt', 'user_promt', 'Правильный ответ', 'id сценария', 'Ответ является правильным', 'Оценка схожести чанка из\\nбазы которую выбрал распределятор', 'Оценка схожести чанка из\\n правильной базы']]\n",
        "    res = {}\n",
        "    success_count = 0\n",
        "\n",
        "    tasks = [\n",
        "        process_question(i, question, system_base_selector, user_base_selector, model_base_selector, temp_base_selector, rows_data, res)\n",
        "        for i, question in enumerate(auto_test_questions, start=1)\n",
        "    ]\n",
        "\n",
        "    await asyncio.gather(*tasks)\n",
        "\n",
        "    for base_name, stats in res.items():\n",
        "        success_count += stats['success_count']\n",
        "\n",
        "    return rows_data, res, success_count\n",
        "\n",
        "# Usage example\n",
        "auto_test_questions = gs_questions.read_data(f'A2:C{row_count}', 'Лист1')\n",
        "rows_data, res, success_count = await main(auto_test_questions, system_base_selector, user_base_selector, model_base_selector, temp_base_selector)\n",
        "rows_data = [rows_data[0]] + sorted(rows_data[1:], key=lambda x: x[0])\n",
        "\n",
        "db_names = list(res.keys())\n",
        "db_result = [f'{res[db_name][\"success_count\"]}/{res[db_name][\"scenario_count\"]:.2f} - ({res[db_name][\"success_count\"]/res[db_name][\"scenario_count\"]*100:.2f}%)' for db_name in db_names]\n",
        "first_row = ['Дата и время', 'Количество запросов', 'процент успешно распределеных запросов', *db_names]\n",
        "second_row = [current_datetime(), len(auto_test_questions), round(success_count/len(auto_test_questions), 2), *db_result]\n",
        "\n",
        "rows_data.insert(0, second_row)\n",
        "rows_data.insert(0, first_row)\n",
        "rows_data.append([])\n",
        "\n",
        "gs_questions.append_rows(rows_data, 'распределятор_auto_test')\n",
        "print(f'Результаты выгружены в таблицу: {questions_spredsheet_url}')\n",
        "\n"
      ],
      "metadata": {
        "colab": {
          "base_uri": "https://localhost:8080/",
          "height": 34
        },
        "cellView": "form",
        "outputId": "200a08f5-9099-4b59-fc42-659a2ccaccec",
        "collapsed": true,
        "id": "r-WHzhbnxOCX"
      },
      "execution_count": null,
      "outputs": [
        {
          "output_type": "display_data",
          "data": {
            "text/plain": [
              "<IPython.core.display.HTML object>"
            ],
            "text/html": [
              "\n",
              "  <style>\n",
              "    pre {\n",
              "        white-space: pre-wrap;\n",
              "    }\n",
              "  </style>\n",
              "  "
            ]
          },
          "metadata": {}
        },
        {
          "output_type": "display_data",
          "data": {
            "text/plain": [
              "<IPython.core.display.HTML object>"
            ],
            "text/html": [
              "\n",
              "  <style>\n",
              "    pre {\n",
              "        white-space: pre-wrap;\n",
              "    }\n",
              "  </style>\n",
              "  "
            ]
          },
          "metadata": {}
        },
        {
          "output_type": "stream",
          "name": "stdout",
          "text": [
            "Результаты выгружены в таблицу: https://docs.google.com/spreadsheets/d/1rm9bvjDFkRuyU94Lp1A5L4GlzUNkNt7nAA-mmWYf4TY/edit?usp=sharing\n"
          ]
        }
      ]
    },
    {
      "cell_type": "code",
      "source": [
        "# @title Дораспределятор + Распределятор (вместе) (total_base_selector)\n",
        "async def total_base_selector(query:str):\n",
        "    group = key_word_collector.find_relevant_group(query)\n",
        "    if group:\n",
        "        print(f\"key_word_collector: {group}, formatted:['{group[1:]}']\")\n",
        "        formatted_group = f\"['{group[1:]}']\"\n",
        "        return formatted_group\n",
        "\n",
        "    if '1с' in query.lower() or '1c' in query.lower():\n",
        "        pre_base_selector_answer = \"['1С']\"\n",
        "    else:\n",
        "        pre_base_selector_answer = await pre_base_selector(system_pre_base_selector, user_pre_base_selector, query, model_pre_base_selector, temp_pre_base_selector)\n",
        "\n",
        "    if pre_base_selector_answer != \"['Иное']\":\n",
        "        return pre_base_selector_answer\n",
        "\n",
        "    base_selector_answer = await base_selector(system_base_selector, user_base_selector, query, model_base_selector, temp_base_selector)\n",
        "    return base_selector_answer\n",
        "\n",
        "total_base_selector_answer = await total_base_selector(query)\n",
        "\n",
        "\n",
        "print_color('Запрос пользователя:', 'blue')\n",
        "print(query)\n",
        "print('-' * 50)\n",
        "print_color(f'Ответ Распределятора базы (Дораспределятор + Распределятор):', 'pink')\n",
        "print(total_base_selector_answer)\n",
        "\n"
      ],
      "metadata": {
        "cellView": "form",
        "id": "TWIB-DGS-TJ5",
        "outputId": "0e0cbe6a-f107-44c3-9a75-0a3c968a826e",
        "colab": {
          "base_uri": "https://localhost:8080/",
          "height": 104
        }
      },
      "execution_count": null,
      "outputs": [
        {
          "output_type": "display_data",
          "data": {
            "text/plain": [
              "<IPython.core.display.HTML object>"
            ],
            "text/html": [
              "\n",
              "  <style>\n",
              "    pre {\n",
              "        white-space: pre-wrap;\n",
              "    }\n",
              "  </style>\n",
              "  "
            ]
          },
          "metadata": {}
        },
        {
          "output_type": "display_data",
          "data": {
            "text/plain": [
              "<IPython.core.display.HTML object>"
            ],
            "text/html": [
              "\n",
              "  <style>\n",
              "    pre {\n",
              "        white-space: pre-wrap;\n",
              "    }\n",
              "  </style>\n",
              "  "
            ]
          },
          "metadata": {}
        },
        {
          "output_type": "display_data",
          "data": {
            "text/plain": [
              "<IPython.core.display.HTML object>"
            ],
            "text/html": [
              "\n",
              "  <style>\n",
              "    pre {\n",
              "        white-space: pre-wrap;\n",
              "    }\n",
              "  </style>\n",
              "  "
            ]
          },
          "metadata": {}
        },
        {
          "output_type": "display_data",
          "data": {
            "text/plain": [
              "<IPython.core.display.HTML object>"
            ],
            "text/html": [
              "\n",
              "  <style>\n",
              "    pre {\n",
              "        white-space: pre-wrap;\n",
              "    }\n",
              "  </style>\n",
              "  "
            ]
          },
          "metadata": {}
        },
        {
          "output_type": "display_data",
          "data": {
            "text/plain": [
              "<IPython.core.display.HTML object>"
            ],
            "text/html": [
              "<text style=\"color:#0074D9\">Запрос пользователя:</text>"
            ]
          },
          "metadata": {}
        },
        {
          "output_type": "stream",
          "name": "stdout",
          "text": [
            " Как настроить интеграцию станции сканирования со станцией управления заказами?\n",
            "--------------------------------------------------\n"
          ]
        },
        {
          "output_type": "display_data",
          "data": {
            "text/plain": [
              "<IPython.core.display.HTML object>"
            ],
            "text/html": [
              "<text style=\"color:#FF69B4\">Ответ Распределятора базы (Дораспределятор + Распределятор):</text>"
            ]
          },
          "metadata": {}
        },
        {
          "output_type": "stream",
          "name": "stdout",
          "text": [
            "['Доклайнз']\n"
          ]
        }
      ]
    },
    {
      "cell_type": "code",
      "source": [
        "import nest_asyncio\n",
        "import asyncio\n",
        "\n",
        "nest_asyncio.apply()\n",
        "\n",
        "# @title AUTO TEST - Дораспределятор + Распределятор (вместе) (total_base_selector)\n",
        "async def get_similarity_score(base_selector_answer:str, question:str) -> float:\n",
        "    db = get_db(base_selector_answer)\n",
        "    chunk = await db.asimilarity_search_with_score(query=question, k=1)\n",
        "    return chunk[0][1]\n",
        "\n",
        "async def get_score_with_chunk(base_selector_answer:str, question:str, use_original_base_name=False) -> float:\n",
        "    db = get_db(base_selector_answer, use_original_base_name)\n",
        "    chunk = await db.asimilarity_search_with_score(query=question, k=1)\n",
        "    score = round(float(chunk[0][1]), 2)\n",
        "    chunk_txt = chunk[0][0].page_content\n",
        "    scenario_id = chunk[0][0].metadata['scenario_id']\n",
        "    scenario_name = chunk[0][0].metadata['scenario_name']\n",
        "    res = f\"Результат\\nсхожести: {score}\\n Сценарий: {scenario_name}\\nId сценаярия: {scenario_id}\\nТекст выбранного чанка:\\n{chunk_txt}\"\n",
        "    return res\n",
        "\n",
        "row_count = 123 # @param {\"type\":\"integer\"}\n",
        "\n",
        "async def process_question(i, question, system_base_selector, user_base_selector, model_base_selector, temp_base_selector, rows_data, res):\n",
        "    base_selector_answer = await total_base_selector(question[0])\n",
        "    similarity_score_base_selector = await get_score_with_chunk(base_selector_answer, question[0])\n",
        "    similarity_score_original = await get_score_with_chunk(question[2], question[0], True)\n",
        "\n",
        "    row_data = [\n",
        "        i,\n",
        "        question[0],\n",
        "        'Дораспределятор + Распределятор базы (base_selector)',\n",
        "        base_selector_answer,\n",
        "        system_base_selector,\n",
        "        user_base_selector,\n",
        "        question[2],\n",
        "        question[1],\n",
        "        'ДА' if base_selector_answer[2:-2] in question[2] else 'НЕТ',\n",
        "        similarity_score_base_selector,\n",
        "        similarity_score_original,\n",
        "    ]\n",
        "\n",
        "    rows_data.append(row_data)\n",
        "\n",
        "    base_name = question[2]\n",
        "    if base_name not in res:\n",
        "        res[base_name] = {'scenario_count': 0, 'success_count': 0}\n",
        "\n",
        "    res[base_name]['scenario_count'] += 1\n",
        "    if base_selector_answer[2:-2] in base_name:\n",
        "        res[base_name]['success_count'] += 1\n",
        "\n",
        "async def main(auto_test_questions, system_base_selector, user_base_selector, model_base_selector, temp_base_selector):\n",
        "    rows_data = [['Номер запроса', 'Запрос пользователя', 'Эксперт', 'Ответ эксперта', 'system_promt', 'user_promt', 'Правильный ответ', 'id сценария', 'Ответ является правильным', 'Оценка схожести чанка из\\nбазы которую выбрал распределятор', 'Оценка схожести чанка из\\n правильной базы']]\n",
        "    res = {}\n",
        "    success_count = 0\n",
        "\n",
        "    tasks = [\n",
        "        process_question(i, question, system_base_selector, user_base_selector, model_base_selector, temp_base_selector, rows_data, res)\n",
        "        for i, question in enumerate(auto_test_questions, start=1)\n",
        "    ]\n",
        "\n",
        "    await asyncio.gather(*tasks)\n",
        "\n",
        "    for base_name, stats in res.items():\n",
        "        success_count += stats['success_count']\n",
        "\n",
        "    return rows_data, res, success_count\n",
        "\n",
        "# Usage example\n",
        "auto_test_questions = gs_questions.read_data(f'A2:C{row_count}', 'Лист1')\n",
        "rows_data, res, success_count = await main(auto_test_questions, system_base_selector, user_base_selector, model_base_selector, temp_base_selector)\n",
        "rows_data = [rows_data[0]] + sorted(rows_data[1:], key=lambda x: x[0])\n",
        "\n",
        "db_names = list(res.keys())\n",
        "db_result = [f'{res[db_name][\"success_count\"]}/{res[db_name][\"scenario_count\"]:.2f} - ({res[db_name][\"success_count\"]/res[db_name][\"scenario_count\"]*100:.2f}%)' for db_name in db_names]\n",
        "first_row = ['Дата и время', 'Количество запросов', 'процент успешно распределеных запросов', *db_names]\n",
        "second_row = [current_datetime(), len(auto_test_questions), round(success_count/len(auto_test_questions), 2), *db_result]\n",
        "\n",
        "rows_data.insert(0, second_row)\n",
        "rows_data.insert(0, first_row)\n",
        "rows_data.append([])\n",
        "\n",
        "gs_questions.append_rows(rows_data, 'распределятор_auto_test')\n",
        "print(f'Результаты выгружены в таблицу: {questions_spredsheet_url}')\n",
        "\n"
      ],
      "metadata": {
        "colab": {
          "base_uri": "https://localhost:8080/",
          "height": 468
        },
        "cellView": "form",
        "outputId": "43589a79-c847-4c6e-ed57-48b31a658db7",
        "collapsed": true,
        "id": "mK2JQDbsC1Gp"
      },
      "execution_count": null,
      "outputs": [
        {
          "output_type": "display_data",
          "data": {
            "text/plain": [
              "<IPython.core.display.HTML object>"
            ],
            "text/html": [
              "\n",
              "  <style>\n",
              "    pre {\n",
              "        white-space: pre-wrap;\n",
              "    }\n",
              "  </style>\n",
              "  "
            ]
          },
          "metadata": {}
        },
        {
          "output_type": "display_data",
          "data": {
            "text/plain": [
              "<IPython.core.display.HTML object>"
            ],
            "text/html": [
              "\n",
              "  <style>\n",
              "    pre {\n",
              "        white-space: pre-wrap;\n",
              "    }\n",
              "  </style>\n",
              "  "
            ]
          },
          "metadata": {}
        },
        {
          "output_type": "display_data",
          "data": {
            "text/plain": [
              "<IPython.core.display.HTML object>"
            ],
            "text/html": [
              "\n",
              "  <style>\n",
              "    pre {\n",
              "        white-space: pre-wrap;\n",
              "    }\n",
              "  </style>\n",
              "  "
            ]
          },
          "metadata": {}
        },
        {
          "output_type": "display_data",
          "data": {
            "text/plain": [
              "<IPython.core.display.HTML object>"
            ],
            "text/html": [
              "\n",
              "  <style>\n",
              "    pre {\n",
              "        white-space: pre-wrap;\n",
              "    }\n",
              "  </style>\n",
              "  "
            ]
          },
          "metadata": {}
        },
        {
          "output_type": "stream",
          "name": "stdout",
          "text": [
            "key_word_collector: @Доклайнз, formatted:['Доклайнз']\n",
            "key_word_collector: @Отчётность, formatted:['Отчётность']\n",
            "key_word_collector: @Прочие проекты, formatted:['Прочие проекты']\n",
            "key_word_collector: @Общие, formatted:['Общие']\n",
            "key_word_collector: @Общие, formatted:['Общие']\n",
            "key_word_collector: @Отчётность, formatted:['Отчётность']\n",
            "key_word_collector: @Отчётность, formatted:['Отчётность']\n",
            "key_word_collector: @Токены, formatted:['Токены']\n",
            "key_word_collector: @Токены, formatted:['Токены']\n",
            "key_word_collector: @Услуги УЦ, formatted:['Услуги УЦ']\n",
            "key_word_collector: @Услуги УЦ, formatted:['Услуги УЦ']\n",
            "key_word_collector: @Прочие проекты, formatted:['Прочие проекты']\n",
            "key_word_collector: @Услуги УЦ, formatted:['Услуги УЦ']\n",
            "key_word_collector: @Прочие проекты, formatted:['Прочие проекты']\n",
            "key_word_collector: @Прочие проекты, formatted:['Прочие проекты']\n",
            "key_word_collector: @1С, formatted:['1С']\n",
            "key_word_collector: @1С, formatted:['1С']\n",
            "key_word_collector: @1С, formatted:['1С']\n",
            "key_word_collector: @1С, formatted:['1С']\n",
            "key_word_collector: @1С, formatted:['1С']\n",
            "key_word_collector: @1С, formatted:['1С']\n",
            "key_word_collector: @1С, formatted:['1С']\n",
            "key_word_collector: @1С, formatted:['1С']\n",
            "key_word_collector: @1С, formatted:['1С']\n",
            "key_word_collector: @1С, formatted:['1С']\n",
            "Результаты выгружены в таблицу: https://docs.google.com/spreadsheets/d/1rm9bvjDFkRuyU94Lp1A5L4GlzUNkNt7nAA-mmWYf4TY/edit?usp=sharing\n"
          ]
        }
      ]
    },
    {
      "cell_type": "code",
      "source": [
        "#@title Ответ распределятора вручную\n",
        "\n",
        "base_selector_answer = 'Отчётность' # @param  ['Доклайнз','Отчётность','Общие', 'Прочие проекты', 'Услуги УЦ', 'ККТ/ОФД', 'КриптоПро / КриптоАРМ', 'Токены', 'ЦТО']"
      ],
      "metadata": {
        "colab": {
          "base_uri": "https://localhost:8080/",
          "height": 17
        },
        "cellView": "form",
        "id": "2pGZoJ0YvRUs",
        "outputId": "872187a1-74a6-43bb-f7f3-9f173823ac0f"
      },
      "execution_count": 103,
      "outputs": [
        {
          "output_type": "display_data",
          "data": {
            "text/plain": [
              "<IPython.core.display.HTML object>"
            ],
            "text/html": [
              "\n",
              "  <style>\n",
              "    pre {\n",
              "        white-space: pre-wrap;\n",
              "    }\n",
              "  </style>\n",
              "  "
            ]
          },
          "metadata": {}
        }
      ]
    },
    {
      "cell_type": "code",
      "source": [
        "# @title Поиск самых релевантных чанков по запросу (на основании ответа распределятора)\n",
        "db = None\n",
        "question = query\n",
        "chunks_n = 5 # @param{type: 'integer'}\n",
        "save_to_google_table = True #@param{type: 'boolean'}\n",
        "\n",
        "\n",
        "chunks = find_most_relevant_chunks(\n",
        "    question=question,\n",
        "    base_selector_answer=base_selector_answer,\n",
        "    chunks_n=chunks_n\n",
        ")\n",
        "\n",
        "print_color(\"Запрос пользователя:\", color='green')\n",
        "print(question, end='\\n\\n')\n",
        "\n",
        "\n",
        "print_color(\"Самые релевантные чанки: \", color='green')\n",
        "chunk_cols_data = []\n",
        "\n",
        "for i, chunk in enumerate(chunks, start=1):\n",
        "    part_1 = f'Чанк: #{i}'\n",
        "    part_2 = f'Имя сценария: #{chunk.metadata.get(\"scenario_name\")}'\n",
        "    part_3 = f'Тэги сценария: #{chunk.metadata.get(\"scenario_tags\")}'\n",
        "    part_4 = f'Темплейт сценария: #{chunk.metadata.get(\"scenario_template\")}'\n",
        "    part_5 = f'Содержимое сценария \\n {chunk.page_content}'\n",
        "\n",
        "    print_color(part_1, color='blue')\n",
        "    print_color(part_2, color='blue')\n",
        "    print_color(part_3, color='green')\n",
        "    print_color(part_4, color='orange')\n",
        "    print(part_5)\n",
        "    print('\\n\\n')\n",
        "    chunk_col_data = part_1 + '\\n' + part_2 + '\\n' + part_3 + '\\n' + part_4 + '\\n' + part_5\n",
        "    chunk_cols_data.append(chunk_col_data)\n",
        "\n",
        "\n",
        "if save_to_google_table:\n",
        "    row_data = [\n",
        "        current_datetime(),\n",
        "        base_selector_answer,\n",
        "        question,\n",
        "        *chunk_cols_data,\n",
        "    ]\n",
        "    gs_handler.append_row(row_data, 'Гипотез3 (самые релевантные чанки)')\n",
        "    print_color(\"Данные успешно сохранены в Google Drive.\", color='green')\n",
        "    print(f'url: https://docs.google.com/spreadsheets/d/1607FPIz2-SOwR31rPYlFkYrOo37q9rC9xixcoEo5G8E/edit?usp=sharing')"
      ],
      "metadata": {
        "cellView": "form",
        "id": "S1jliHVgwyJ3",
        "collapsed": true,
        "outputId": "7144e369-f63c-4f0d-eb1e-37f5676d235f",
        "colab": {
          "base_uri": "https://localhost:8080/",
          "height": 1000
        }
      },
      "execution_count": 120,
      "outputs": [
        {
          "output_type": "display_data",
          "data": {
            "text/plain": [
              "<IPython.core.display.HTML object>"
            ],
            "text/html": [
              "\n",
              "  <style>\n",
              "    pre {\n",
              "        white-space: pre-wrap;\n",
              "    }\n",
              "  </style>\n",
              "  "
            ]
          },
          "metadata": {}
        },
        {
          "output_type": "display_data",
          "data": {
            "text/plain": [
              "<IPython.core.display.HTML object>"
            ],
            "text/html": [
              "<text style=\"color:#2ECC40\">Запрос пользователя:</text>"
            ]
          },
          "metadata": {}
        },
        {
          "output_type": "stream",
          "name": "stdout",
          "text": [
            "При импорте вложения  в онлайн спринтере высвечивается сообщение \"Превышение максимального допустимого размера\"\n",
            "\n"
          ]
        },
        {
          "output_type": "display_data",
          "data": {
            "text/plain": [
              "<IPython.core.display.HTML object>"
            ],
            "text/html": [
              "<text style=\"color:#2ECC40\">Самые релевантные чанки: </text>"
            ]
          },
          "metadata": {}
        },
        {
          "output_type": "display_data",
          "data": {
            "text/plain": [
              "<IPython.core.display.HTML object>"
            ],
            "text/html": [
              "<text style=\"color:#0074D9\">Чанк: #1</text>"
            ]
          },
          "metadata": {}
        },
        {
          "output_type": "display_data",
          "data": {
            "text/plain": [
              "<IPython.core.display.HTML object>"
            ],
            "text/html": [
              "<text style=\"color:#0074D9\">Имя сценария: #[Онлайн-Спринтер] При импорте зависает документ</text>"
            ]
          },
          "metadata": {}
        },
        {
          "output_type": "display_data",
          "data": {
            "text/plain": [
              "<IPython.core.display.HTML object>"
            ],
            "text/html": [
              "<text style=\"color:#2ECC40\">Тэги сценария: #@Онлайн-Спринтер,Зависает,Ошибка,Онлайн-Спринтер,Загрузка,Импорт,Документы</text>"
            ]
          },
          "metadata": {}
        },
        {
          "output_type": "display_data",
          "data": {
            "text/plain": [
              "<IPython.core.display.HTML object>"
            ],
            "text/html": [
              "<text style=\"color:#FF851B\">Темплейт сценария: #ПРОДУКТ (УСЛУГА или ГКО), ДЕЙСТВИЕ, [что происходит][Текст сообщения]</text>"
            ]
          },
          "metadata": {}
        },
        {
          "output_type": "stream",
          "name": "stdout",
          "text": [
            "Содержимое сценария \n",
            " Необходимо действовать по статье БЗ «Статья: Документ зависает при проверке или импорте в «Онлайн-Спринтере». Статья: \"Документ зависает при проверке или импорте в «Онлайн-Спринтере\":\n",
            " \n",
            "Документ зависает при проверке или импорте в «Онлайн-Спринтере» — База знаний\n",
            "Документ зависает при проверке или импорте в «Онлайн-Спринтере»\n",
            "Материал из База знаний\n",
            "\t\tПерейти к:\t\tнавигация, \t\tпоиск\n",
            "Необходимо проверить в отчете наличие очереди. Если количество файлов превышает 200:\n",
            "1. Принести Клиенту извинения за неудобство;\n",
            "2. Рекомендовать ожидать завершения проверки или импорта.\n",
            "Если документ необходимо отправить срочно, но он завис при проверке, необходимо:\n",
            "1. Уведомить Клиента о возможности отправки отчета без проверки, но в этом случае отчет может быть не принят;\n",
            "2. В разделе «Настройки и реквизиты» на вкладке «Прочее» - «Настройки» убрать галку с пункта «Включить форматно-логический контроль исходящих документов» и нажать «Сохранить»;\n",
            "3. Открыть документ для редактирования и нажать «Отправить»;\n",
            "4. После завершения отправки вернуться на вкладку «Прочее», снять галку с пункта «Отключить контроль» и нажать «Сохранить».\n",
            "Если очередь отсутствует, а документ не загрузился или не проверился в течение минуты:\n",
            "1. Обновить страницу;\n",
            "2. Уточнить размер файла. Импорт или проверка больших файлов может занять до 5 минут;\n",
            "3. Просмотреть «Уведомления» и проверить, есть ли сообщения об ошибках. Если:\n",
            " есть, исправить их и загрузить файл или запустить проверку файла повторно;\n",
            " отсутствуют, загрузить файл или запустить проверку файла повторно.   Если ситуация сохраняется, необходимо создать инцидент и направить его в список ожидания «Аналитик». \n",
            " \n",
            "\n",
            "\n",
            "\n",
            "\n",
            "\n",
            "\n"
          ]
        },
        {
          "output_type": "display_data",
          "data": {
            "text/plain": [
              "<IPython.core.display.HTML object>"
            ],
            "text/html": [
              "<text style=\"color:#0074D9\">Чанк: #2</text>"
            ]
          },
          "metadata": {}
        },
        {
          "output_type": "display_data",
          "data": {
            "text/plain": [
              "<IPython.core.display.HTML object>"
            ],
            "text/html": [
              "<text style=\"color:#0074D9\">Имя сценария: #[Онлайн-Спринтер] При импорте вложения сообщение Превышение максимального допустимого размера</text>"
            ]
          },
          "metadata": {}
        },
        {
          "output_type": "display_data",
          "data": {
            "text/plain": [
              "<IPython.core.display.HTML object>"
            ],
            "text/html": [
              "<text style=\"color:#2ECC40\">Тэги сценария: #@Онлайн-Спринтер,Ошибка,Бухгалтерская отчетность,Онлайн-Спринтер,Истребуемые документы,Загрузка,Неформализованная отчетность,Импорт</text>"
            ]
          },
          "metadata": {}
        },
        {
          "output_type": "display_data",
          "data": {
            "text/plain": [
              "<IPython.core.display.HTML object>"
            ],
            "text/html": [
              "<text style=\"color:#FF851B\">Темплейт сценария: #NULL</text>"
            ]
          },
          "metadata": {}
        },
        {
          "output_type": "stream",
          "name": "stdout",
          "text": [
            "Содержимое сценария \n",
            " В тексте сообщения указан максимально возможный размер вложения. Для отправки файлов большего размера их необходимо сжать, например, архивировать или отсканировать с меньшим разрешением.\n",
            "\n",
            "\n",
            "\n"
          ]
        },
        {
          "output_type": "display_data",
          "data": {
            "text/plain": [
              "<IPython.core.display.HTML object>"
            ],
            "text/html": [
              "<text style=\"color:#0074D9\">Чанк: #3</text>"
            ]
          },
          "metadata": {}
        },
        {
          "output_type": "display_data",
          "data": {
            "text/plain": [
              "<IPython.core.display.HTML object>"
            ],
            "text/html": [
              "<text style=\"color:#0074D9\">Имя сценария: #[Онлайн-Спринтер] При создании неформализованного письма сообщение Объем загружаемых файлов превышает заданный лимит</text>"
            ]
          },
          "metadata": {}
        },
        {
          "output_type": "display_data",
          "data": {
            "text/plain": [
              "<IPython.core.display.HTML object>"
            ],
            "text/html": [
              "<text style=\"color:#2ECC40\">Тэги сценария: #Письмо,@Онлайн-Спринтер,СФР,Уведомление,Онлайн-Спринтер,ПФР,Создание,Неформализованная отчетность,ФНС</text>"
            ]
          },
          "metadata": {}
        },
        {
          "output_type": "display_data",
          "data": {
            "text/plain": [
              "<IPython.core.display.HTML object>"
            ],
            "text/html": [
              "<text style=\"color:#FF851B\">Темплейт сценария: #ПРОДУКТ, УСЛУГА ИЛИ ГКО | ДЕЙСТВИЕ | ЧТО ПРОИСХОДИТ | ТЕКСТ СООБЩЕНИЯ</text>"
            ]
          },
          "metadata": {}
        },
        {
          "output_type": "stream",
          "name": "stdout",
          "text": [
            "Содержимое сценария \n",
            " Полный текст сообщения: «Объем загружаемых файлов превышает заданный лимит (ХХХ Мб). Возможно, произведено автоматическое преобразование в соответствии с требованиями контролирующего органа.»  Необходимо сообщить Клиенту, что при создании неформализованных сообщений максимальный суммарный размер всех вложений не должен превышать:    для ФНС – 5 Мб;  для ПФР – 10 Мб.  \n",
            "\n",
            "\n",
            "\n"
          ]
        },
        {
          "output_type": "display_data",
          "data": {
            "text/plain": [
              "<IPython.core.display.HTML object>"
            ],
            "text/html": [
              "<text style=\"color:#0074D9\">Чанк: #4</text>"
            ]
          },
          "metadata": {}
        },
        {
          "output_type": "display_data",
          "data": {
            "text/plain": [
              "<IPython.core.display.HTML object>"
            ],
            "text/html": [
              "<text style=\"color:#0074D9\">Имя сценария: #[Онлайн-Спринтер] При просмотре ранее отправленной неформализованной отчетности сообщение Объем загружаемых файлов превышает заданный лимит</text>"
            ]
          },
          "metadata": {}
        },
        {
          "output_type": "display_data",
          "data": {
            "text/plain": [
              "<IPython.core.display.HTML object>"
            ],
            "text/html": [
              "<text style=\"color:#2ECC40\">Тэги сценария: #@Онлайн-Спринтер,Ошибка,Онлайн-Спринтер,Просмотр,Неформализованная отчетность,ФНС</text>"
            ]
          },
          "metadata": {}
        },
        {
          "output_type": "display_data",
          "data": {
            "text/plain": [
              "<IPython.core.display.HTML object>"
            ],
            "text/html": [
              "<text style=\"color:#FF851B\">Темплейт сценария: #ПРОДУКТ, УСЛУГА ИЛИ ГКО | ДЕЙСТВИЕ | ЧТО ПРОИСХОДИТ | ТЕКСТ СООБЩЕНИЯ</text>"
            ]
          },
          "metadata": {}
        },
        {
          "output_type": "stream",
          "name": "stdout",
          "text": [
            "Содержимое сценария \n",
            " Полный текст сообщения: «Объем загружаемых файлов превышает заданный лимит (5 Мб). Возможно, произведено автоматическое преобразование в соответствии с требованиями контролирующего органа».  Необходимо:    принести Клиенту извинения за неудобство;  рекомендовать игнорировать сообщение, на работу оно не влияет.  \n",
            "\n",
            "\n",
            "\n"
          ]
        },
        {
          "output_type": "display_data",
          "data": {
            "text/plain": [
              "<IPython.core.display.HTML object>"
            ],
            "text/html": [
              "<text style=\"color:#0074D9\">Чанк: #5</text>"
            ]
          },
          "metadata": {}
        },
        {
          "output_type": "display_data",
          "data": {
            "text/plain": [
              "<IPython.core.display.HTML object>"
            ],
            "text/html": [
              "<text style=\"color:#0074D9\">Имя сценария: #[Онлайн-Редактор] При импорте вложения сообщение Превышение максимального допустимого размера</text>"
            ]
          },
          "metadata": {}
        },
        {
          "output_type": "display_data",
          "data": {
            "text/plain": [
              "<IPython.core.display.HTML object>"
            ],
            "text/html": [
              "<text style=\"color:#2ECC40\">Тэги сценария: #@Декларация (расчет) онлайн,@Онлайн-Редактор,Онлайн-Редактор,Ошибка,Декларация (расчет) онлайн,Бухгалтерская отчетность,Загрузка,Неформализованная отчетность,Импорт</text>"
            ]
          },
          "metadata": {}
        },
        {
          "output_type": "display_data",
          "data": {
            "text/plain": [
              "<IPython.core.display.HTML object>"
            ],
            "text/html": [
              "<text style=\"color:#FF851B\">Темплейт сценария: #ПРОДУКТ, УСЛУГА ИЛИ ГКО | ДЕЙСТВИЕ | ЧТО ПРОИСХОДИТ | ТЕКСТ СООБЩЕНИЯ</text>"
            ]
          },
          "metadata": {}
        },
        {
          "output_type": "stream",
          "name": "stdout",
          "text": [
            "Содержимое сценария \n",
            " В тексте сообщения указан максимально возможный размер вложения. Для отправки файлов большего размера их необходимо сжать, например, архивировать или отсканировать с меньшим разрешением. \n",
            "\n",
            "\n",
            "\n"
          ]
        },
        {
          "output_type": "display_data",
          "data": {
            "text/plain": [
              "<IPython.core.display.HTML object>"
            ],
            "text/html": [
              "<text style=\"color:#2ECC40\">Данные успешно сохранены в Google Drive.</text>"
            ]
          },
          "metadata": {}
        },
        {
          "output_type": "stream",
          "name": "stdout",
          "text": [
            "url: https://docs.google.com/spreadsheets/d/1607FPIz2-SOwR31rPYlFkYrOo37q9rC9xixcoEo5G8E/edit?usp=sharing\n"
          ]
        }
      ]
    },
    {
      "cell_type": "code",
      "source": [
        "# @title Специалист по выбору самого релевантного сценария (scenario_selecter)\n",
        "system_scenario_selecter = \"\" # @param{type: 'string'}\n",
        "user_scenario_selecter = \"Топ 5 сценариев: {message_content} Запрос пользователя: {topic}\" # @param{type: 'string'}\n",
        "temp_scenario_selecter = 0 # @param {type: 'slider', min: 0, max: 2, step: 0.1}\n",
        "model_scenario_selecter = 'gpt-4o-mini' # @param  ['gpt-4o-mini','gpt-4o', 'gpt-4', 'gpt-3.5-turbo-16k-0613', 'gpt-3.5-turbo-1106']\n",
        "\n",
        "save_to_google_table = True #@param{type: 'boolean'}\n",
        "\n",
        "db = get_db(base_selector_answer)\n",
        "most_relevant_chunks = db.similarity_search(query=query, k=5)\n",
        "message_content = [f'Сценарий №{i}{chunk.page_content}' for i, chunk in enumerate(most_relevant_chunks)]\n",
        "message_content = '\\n'.join(message_content)\n",
        "\n",
        "\n",
        "async def scenario_selecter(system, user, topic, message_content, model, temperature):\n",
        "    user = user.format(\n",
        "        topic=topic,\n",
        "        message_content=message_content\n",
        "    )\n",
        "    messages = [\n",
        "        {'role': 'system', 'content': system},\n",
        "        {'role': 'user', 'content': user}\n",
        "    ]\n",
        "    completion = await client.chat.completions.create(\n",
        "        model=model,\n",
        "        messages=messages,\n",
        "        temperature=temperature\n",
        "    )\n",
        "    answer = completion.choices[0].message.content\n",
        "    return answer\n",
        "\n",
        "scenario_selecter_answer = await scenario_selecter(system_scenario_selecter, user_scenario_selecter, question, message_content, model_scenario_selecter, temp_scenario_selecter)\n",
        "\n",
        "\n",
        "print_color('Отобранный чанк:', 'blue')\n",
        "print(message_content)\n",
        "print_color('Запрос пользователя:', 'blue')\n",
        "print(question)\n",
        "print('-' * 50)\n",
        "print_color(f'Специалист по выбору самого релевантного сценария (scenario_selecter):', 'pink')\n",
        "print(scenario_selecter_answer)\n",
        "\n",
        "\n",
        "\n",
        "if save_to_google_table:\n",
        "    row_data = [\n",
        "        current_datetime(),\n",
        "        question,\n",
        "        'Копирайтер Яны (scenario_selecter)',\n",
        "        message_content,\n",
        "        scenario_selecter_answer,\n",
        "        system_scenario_selecter,\n",
        "        user_scenario_selecter,\n",
        "    ]\n",
        "    gs_handler.append_row(row_data, 'Результаты промтов')\n",
        "    print_color(\"Данные успешно сохранены в Google Drive.\", color='green')\n",
        "    print(f'url: https://docs.google.com/spreadsheets/d/1607FPIz2-SOwR31rPYlFkYrOo37q9rC9xixcoEo5G8E/edit?usp=sharing')\n"
      ],
      "metadata": {
        "cellView": "form",
        "collapsed": true,
        "id": "npKanOb7UNCv",
        "outputId": "1310dc2e-2490-458f-e543-620c2963cd27",
        "colab": {
          "base_uri": "https://localhost:8080/",
          "height": 1000
        }
      },
      "execution_count": null,
      "outputs": [
        {
          "output_type": "display_data",
          "data": {
            "text/plain": [
              "<IPython.core.display.HTML object>"
            ],
            "text/html": [
              "\n",
              "  <style>\n",
              "    pre {\n",
              "        white-space: pre-wrap;\n",
              "    }\n",
              "  </style>\n",
              "  "
            ]
          },
          "metadata": {}
        },
        {
          "output_type": "display_data",
          "data": {
            "text/plain": [
              "<IPython.core.display.HTML object>"
            ],
            "text/html": [
              "<text style=\"color:#0074D9\">Отобранный чанк:</text>"
            ]
          },
          "metadata": {}
        },
        {
          "output_type": "stream",
          "name": "stdout",
          "text": [
            "Сценарий №0Подробная информация есть в статье БЗ «Статья: Настройка интеграции со «Станцией управления заказами». Статья: \"Настройка интеграции со «Станцией управления заказами\":\n",
            " \n",
            "Настройка интеграции со «Станцией управления заказами» — База знаний\n",
            "Настройка интеграции со «Станцией управления заказами»\n",
            "Материал из База знаний\n",
            "\t\tПерейти к:\t\tнавигация, \t\tпоиск\n",
            "«Станцией управления заказами» (СУЗ) - ресурс \"Честного ЗНАКа\", предназначенный для заказа кодов маркировки. \n",
            "Перед настройкой интеграции Клиенту необходимо зарегистрироваться в личном кабинете \"Честного ЗНАКа\". Дополнительная услуга. Если Клиент интересуется, как это сделать, необходимо предложить ему приобрести услугу «Регистрации в системе «Честный ЗНАК». Подробная информация есть в статье БЗ \"Услуги для маркировки товаров\".\n",
            "Чтобы настроить интеграцию со «Станцией управления заказами» (СУЗ), нужно:  \n",
            "1. Открыть «Станцию сканирования»; \n",
            "2.Перейти в раздел «Администрирование» - «Настройка реализации маркированной продукции»; \n",
            " \n",
            "3.Поставить галку «Реализация маркированной продукции», если она отсутствует; \n",
            "4.Нажать «Интеграция с ИС МП»; \n",
            "5.Поставить галку «Использовать интеграцию с СУЗ»; \n",
            "  \n",
            "6.Выбрать личный сертификат Клиента;\n",
            " 7.Нажать «Устройство СУЗ»; \n",
            " В открывшемся окне нажать «Создать»;\n",
            " \n",
            " Заполнить поля, указав: \n",
            " «Наименование»;\n",
            " «Адрес сервера»;\n",
            " «Идентификатор СУЗ»;\n",
            " «Идентификатор соединения»;\n",
            " Важно! Информацию выше Клиент может просмотреть в личном кабинете «Честного ЗНАКа».\n",
            " «Пауза, сек:» - интервал периодичности обращения к СУЗ (не чаще 1 раза в секунду).\n",
            " \n",
            " Нажать «Записать и закрыть».\n",
            " Нажать на стрелку, чтобы вернуться на предыдущую вкладку.\n",
            " 8.Нажать «Настройки СУЗ»;\n",
            " В открывшемся окне нажать «Создать»;\n",
            " \n",
            " Заполнить поля, указав: \n",
            " «Организация» - указать наименование организации, у которой есть личный кабинет в «Честном ЗНАКе» и для которой Клиент будет заказывать коды маркировки;\n",
            " «Товарная группа» - товар, на который нужно заказать коды. Если требуется заказывать разные товарные группы на одну организацию, нужно создать карточки для каждый группы отдельно; \n",
            " «Устройства СУЗ» - выбираем ранее созданное устройство.\n",
            "Важно! «Токен (статический)» нужно оставить пустыми.\n",
            " Нажать «Записать и закрыть»; \n",
            " \n",
            " \n",
            " \n",
            "\t\t\n",
            "\n",
            "\n",
            "Сценарий №1Подробная информация есть в статье БЗ «Статья: Настройка оборудования». Статья: \"Настройка оборудования\":\n",
            " \n",
            "Настройка оборудования — База знаний\n",
            "Настройка оборудования\n",
            "Материал из База знаний\n",
            "\t\tПерейти к:\t\tнавигация, \t\tпоиск\n",
            "Содержание\n",
            "1 Настройка сканера\n",
            "1.1 Перевод сканера в режим эмуляции COM порта\n",
            "1.1.1 Настройка сканера в режиме эмуляции COM\n",
            "1.2 Перевод сканера для работы в режиме клавиатуры\n",
            "2 Настройка работы Станции сканирования с «Терминалом сбора данных» (ТСД)\n",
            "2.1 Настройка параметров обмена с ТСД\n",
            "3 Обмен документами «Станции сканирования» с ТСД\n",
            "3.1 Автоматический способ загрузки/выгрузки документов\n",
            "3.2 Ручной способ загрузки/выгрузки документов\n",
            "Настройка сканера\n",
            "Сканер в «Станции сканирования» может работать в режиме:\n",
            " Эмуляции COM порта.   Преимущество - при сканировании номенклатура и коды маркировки будут проставляться в документе автоматически. \n",
            " Клавиатуры.  Данный режим передает текст отсканированного Data Matrix кода. Чтобы начать сканирование, в документе необходимо нажать «Вызов окна сканирования».\n",
            "Перевод сканера в режим эмуляции COM порта\n",
            "Необходимо:\n",
            " Отсканировать штрих-код перехода на заводские настройки, чтобы сбросить настройки сканера. \n",
            " Перевести сканер в режим эмуляции COM. \n",
            " Отсканировать штрих-код, добавляющий эмуляцию нажатия клавиши «Enter». \n",
            "Продвижение самообслуживания. Подробная информация есть в инструкции производителя и на его официальном сайте.\n",
            "Настройка сканера в режиме эмуляции COM\n",
            "Необходимо: \n",
            " Перейти в «Администрирование» - «Подключаемое оборудование»;\n",
            " Нажать «Создать»;\n",
            " В открывшемся окне заполнить поля:\n",
            " «Драйвер оборудования» - выбрать «1С: Сканеры штрихкода (COM)»;\n",
            " «Организация»; \n",
            " «Тип оборудования»;\n",
            " «Рабочее место»;\n",
            " «Наименование»\n",
            " «Серийный номер». \n",
            "4. Нажать «Записать и закрыть» и «Настроить»;\n",
            "5. В открывшемся окне в поле «Порт» выбрать порт сканера, который указан в «Диспетчере устройств» Windows. Если написано, что драйвер не установлен – нажать «Установить драйвер»;\n",
            "6. Нажать «Записать и закрыть».\n",
            "Теперь сканер будет работать в «1С» в режиме эмуляции СОМ.\n",
            "Перевод сканера для работы в режиме клавиатуры\n",
            "Необходимо:\n",
            " Отсканировать штрих-код перехода на заводские настройки, чтобы сбросить настройки сканера. \n",
            " Отсканировать штрих-код, добавляющий эмуляцию нажатия клавиши «Enter».\n",
            "Продвижение самообслуживания. Подробная информация есть в инструкции производителя и на его официальном сайте.\n",
            "Настройка работы Станции сканирования с «Терминалом сбора данных» (ТСД)\n",
            "Настройка параметров обмена с ТСД\n",
            "После установки программы Mobile SMARTS необходимо настроить ее для работы со «Станцией сканирования». \n",
            "Для этого нужно: \n",
            " Перейти в «Администрирование» - «Настройки реализации маркированной продукции» - «Обмен с ТСД» - «Настроить параметры обмена с ТСД»;\n",
            " В открывшемся окне выбрать из выпадающего списка в строке «База ТСД» нужную базу (Mobile SMARTS).\n",
            " Остальные настройки рекомендуем оставить включенными:\n",
            " Выгружать номенклатуру при выгрузке документов на ТСД» - при выгрузке документа также будет выгружаться справочник номенклатуры для определения отсканированных позиций.\n",
            " «Перезаписывать номенклатуру при выгрузке на ТСД» - если стоит галка напротив «Выгружать номенклатуру при выгрузке документов на ТСД», при выгрузке документа номенклатура будет очищаться, а после загружаться заново.\n",
            " «Удалять КМ перед загрузкой» - если в «Станции сканирования» в документ «Реализация товаров и услуг» уже были добавлены коды маркировки, перед загрузкой документа они будут удалены.\n",
            " «Удалять документы из ТСД после загрузки» - документы, которые Клиент отсканировал и отправил обратно в «Станцию сканирования», будут автоматически удаляться из ТСД.\n",
            " «Заполнять количество по данным ТСД» - количество номенклатуры будет браться из ТСД и автоматически проставляться в документ «Реализация товаров и услуг».\n",
            "Обмен документами «Станции сканирования» с ТСД\n",
            "Обмениваться документами между «Станцией сканирования» и ТСД можно вручную или автоматически.\n",
            "Автоматический способ загрузки/выгрузки документов\n",
            "Необходимо настроить соответствующее регламентное задание:\n",
            " Перейти в «Администрирование» - «Настройки реализации маркированной продукции» - «Обмен с ТСД». \n",
            " В открывшемся меню проставить галку напротив «Выполнять обмен с ТСД по расписанию». \n",
            " Перейти в «Настроить расписание обмен с ТСД» и заполнить все необходимые поля. \n",
            " Нажать «ОК». \n",
            "После сохранения настроек созданные документы «Реализация товаров и услуг» будут уходить на ТСД, а с ТСД в «Станцию сканирования» будут приходить все закрытые на ТСД документы.\n",
            "Ручной способ загрузки/выгрузки документов\n",
            "Чтобы вручную отправлять и принимать документы, необходимо использовать форму «Обмен с ТСД», которая находится в «ЭДО» - «Обмен с ТСД». \n",
            "Чтобы выгрузить документ: \n",
            " на ТСД, необходимо выбрать его и нажать «Выгрузить документ». \n",
            " в «Станцию сканирования» из ТСД, необходимо:\n",
            " Нажать «Прочитать документы». Обновится список документов, которые закрыты на ТСД и готовы к передаче в «Станцию сканирования»;\n",
            " Выбрать необходимые документы и нажать «Загрузить документы»;\n",
            " Открыть документы в «Станции сканирования» и проверить, что документ заполнился данными из ТСД.\n",
            "Чтобы удалить документ из ТСД, нужно нажать «Удалить» на форме «Обмен с ТСД».\n",
            " \n",
            "\t\t\n",
            "\n",
            "\n",
            "Сценарий №2Подробная информация есть в статье БЗ «Статья: Настройка оборудования». Статья: \"Настройка оборудования\":\n",
            " \n",
            "Настройка оборудования — База знаний\n",
            "Настройка оборудования\n",
            "Материал из База знаний\n",
            "\t\tПерейти к:\t\tнавигация, \t\tпоиск\n",
            "Содержание\n",
            "1 Настройка сканера\n",
            "1.1 Перевод сканера в режим эмуляции COM порта\n",
            "1.1.1 Настройка сканера в режиме эмуляции COM\n",
            "1.2 Перевод сканера для работы в режиме клавиатуры\n",
            "2 Настройка работы Станции сканирования с «Терминалом сбора данных» (ТСД)\n",
            "2.1 Настройка параметров обмена с ТСД\n",
            "3 Обмен документами «Станции сканирования» с ТСД\n",
            "3.1 Автоматический способ загрузки/выгрузки документов\n",
            "3.2 Ручной способ загрузки/выгрузки документов\n",
            "Настройка сканера\n",
            "Сканер в «Станции сканирования» может работать в режиме:\n",
            " Эмуляции COM порта.   Преимущество - при сканировании номенклатура и коды маркировки будут проставляться в документе автоматически. \n",
            " Клавиатуры.  Данный режим передает текст отсканированного Data Matrix кода. Чтобы начать сканирование, в документе необходимо нажать «Вызов окна сканирования».\n",
            "Перевод сканера в режим эмуляции COM порта\n",
            "Необходимо:\n",
            " Отсканировать штрих-код перехода на заводские настройки, чтобы сбросить настройки сканера. \n",
            " Перевести сканер в режим эмуляции COM. \n",
            " Отсканировать штрих-код, добавляющий эмуляцию нажатия клавиши «Enter». \n",
            "Продвижение самообслуживания. Подробная информация есть в инструкции производителя и на его официальном сайте.\n",
            "Настройка сканера в режиме эмуляции COM\n",
            "Необходимо: \n",
            " Перейти в «Администрирование» - «Подключаемое оборудование»;\n",
            " Нажать «Создать»;\n",
            " В открывшемся окне заполнить поля:\n",
            " «Драйвер оборудования» - выбрать «1С: Сканеры штрихкода (COM)»;\n",
            " «Организация»; \n",
            " «Тип оборудования»;\n",
            " «Рабочее место»;\n",
            " «Наименование»\n",
            " «Серийный номер». \n",
            "4. Нажать «Записать и закрыть» и «Настроить»;\n",
            "5. В открывшемся окне в поле «Порт» выбрать порт сканера, который указан в «Диспетчере устройств» Windows. Если написано, что драйвер не установлен – нажать «Установить драйвер»;\n",
            "6. Нажать «Записать и закрыть».\n",
            "Теперь сканер будет работать в «1С» в режиме эмуляции СОМ.\n",
            "Перевод сканера для работы в режиме клавиатуры\n",
            "Необходимо:\n",
            " Отсканировать штрих-код перехода на заводские настройки, чтобы сбросить настройки сканера. \n",
            " Отсканировать штрих-код, добавляющий эмуляцию нажатия клавиши «Enter».\n",
            "Продвижение самообслуживания. Подробная информация есть в инструкции производителя и на его официальном сайте.\n",
            "Настройка работы Станции сканирования с «Терминалом сбора данных» (ТСД)\n",
            "Настройка параметров обмена с ТСД\n",
            "После установки программы Mobile SMARTS необходимо настроить ее для работы со «Станцией сканирования». \n",
            "Для этого нужно: \n",
            " Перейти в «Администрирование» - «Настройки реализации маркированной продукции» - «Обмен с ТСД» - «Настроить параметры обмена с ТСД»;\n",
            " В открывшемся окне выбрать из выпадающего списка в строке «База ТСД» нужную базу (Mobile SMARTS).\n",
            " Остальные настройки рекомендуем оставить включенными:\n",
            " Выгружать номенклатуру при выгрузке документов на ТСД» - при выгрузке документа также будет выгружаться справочник номенклатуры для определения отсканированных позиций.\n",
            " «Перезаписывать номенклатуру при выгрузке на ТСД» - если стоит галка напротив «Выгружать номенклатуру при выгрузке документов на ТСД», при выгрузке документа номенклатура будет очищаться, а после загружаться заново.\n",
            " «Удалять КМ перед загрузкой» - если в «Станции сканирования» в документ «Реализация товаров и услуг» уже были добавлены коды маркировки, перед загрузкой документа они будут удалены.\n",
            " «Удалять документы из ТСД после загрузки» - документы, которые Клиент отсканировал и отправил обратно в «Станцию сканирования», будут автоматически удаляться из ТСД.\n",
            " «Заполнять количество по данным ТСД» - количество номенклатуры будет браться из ТСД и автоматически проставляться в документ «Реализация товаров и услуг».\n",
            "Обмен документами «Станции сканирования» с ТСД\n",
            "Обмениваться документами между «Станцией сканирования» и ТСД можно вручную или автоматически.\n",
            "Автоматический способ загрузки/выгрузки документов\n",
            "Необходимо настроить соответствующее регламентное задание:\n",
            " Перейти в «Администрирование» - «Настройки реализации маркированной продукции» - «Обмен с ТСД». \n",
            " В открывшемся меню проставить галку напротив «Выполнять обмен с ТСД по расписанию». \n",
            " Перейти в «Настроить расписание обмен с ТСД» и заполнить все необходимые поля. \n",
            " Нажать «ОК». \n",
            "После сохранения настроек созданные документы «Реализация товаров и услуг» будут уходить на ТСД, а с ТСД в «Станцию сканирования» будут приходить все закрытые на ТСД документы.\n",
            "Ручной способ загрузки/выгрузки документов\n",
            "Чтобы вручную отправлять и принимать документы, необходимо использовать форму «Обмен с ТСД», которая находится в «ЭДО» - «Обмен с ТСД». \n",
            "Чтобы выгрузить документ: \n",
            " на ТСД, необходимо выбрать его и нажать «Выгрузить документ». \n",
            " в «Станцию сканирования» из ТСД, необходимо:\n",
            " Нажать «Прочитать документы». Обновится список документов, которые закрыты на ТСД и готовы к передаче в «Станцию сканирования»;\n",
            " Выбрать необходимые документы и нажать «Загрузить документы»;\n",
            " Открыть документы в «Станции сканирования» и проверить, что документ заполнился данными из ТСД.\n",
            "Чтобы удалить документ из ТСД, нужно нажать «Удалить» на форме «Обмен с ТСД».\n",
            " \n",
            "\t\t\n",
            "\n",
            "\n",
            "Сценарий №3«Терминал сбора данных» (ТСД) – компактный компьютер, оснащенный сканером штрих-кода.  Подробная информация есть в статье БЗ «Статья: Настройка оборудования». Статья: \"Настройка оборудования\":\n",
            " \n",
            "Настройка оборудования — База знаний\n",
            "Настройка оборудования\n",
            "Материал из База знаний\n",
            "\t\tПерейти к:\t\tнавигация, \t\tпоиск\n",
            "Содержание\n",
            "1 Настройка сканера\n",
            "1.1 Перевод сканера в режим эмуляции COM порта\n",
            "1.1.1 Настройка сканера в режиме эмуляции COM\n",
            "1.2 Перевод сканера для работы в режиме клавиатуры\n",
            "2 Настройка работы Станции сканирования с «Терминалом сбора данных» (ТСД)\n",
            "2.1 Настройка параметров обмена с ТСД\n",
            "3 Обмен документами «Станции сканирования» с ТСД\n",
            "3.1 Автоматический способ загрузки/выгрузки документов\n",
            "3.2 Ручной способ загрузки/выгрузки документов\n",
            "Настройка сканера\n",
            "Сканер в «Станции сканирования» может работать в режиме:\n",
            " Эмуляции COM порта.   Преимущество - при сканировании номенклатура и коды маркировки будут проставляться в документе автоматически. \n",
            " Клавиатуры.  Данный режим передает текст отсканированного Data Matrix кода. Чтобы начать сканирование, в документе необходимо нажать «Вызов окна сканирования».\n",
            "Перевод сканера в режим эмуляции COM порта\n",
            "Необходимо:\n",
            " Отсканировать штрих-код перехода на заводские настройки, чтобы сбросить настройки сканера. \n",
            " Перевести сканер в режим эмуляции COM. \n",
            " Отсканировать штрих-код, добавляющий эмуляцию нажатия клавиши «Enter». \n",
            "Продвижение самообслуживания. Подробная информация есть в инструкции производителя и на его официальном сайте.\n",
            "Настройка сканера в режиме эмуляции COM\n",
            "Необходимо: \n",
            " Перейти в «Администрирование» - «Подключаемое оборудование»;\n",
            " Нажать «Создать»;\n",
            " В открывшемся окне заполнить поля:\n",
            " «Драйвер оборудования» - выбрать «1С: Сканеры штрихкода (COM)»;\n",
            " «Организация»; \n",
            " «Тип оборудования»;\n",
            " «Рабочее место»;\n",
            " «Наименование»\n",
            " «Серийный номер». \n",
            "4. Нажать «Записать и закрыть» и «Настроить»;\n",
            "5. В открывшемся окне в поле «Порт» выбрать порт сканера, который указан в «Диспетчере устройств» Windows. Если написано, что драйвер не установлен – нажать «Установить драйвер»;\n",
            "6. Нажать «Записать и закрыть».\n",
            "Теперь сканер будет работать в «1С» в режиме эмуляции СОМ.\n",
            "Перевод сканера для работы в режиме клавиатуры\n",
            "Необходимо:\n",
            " Отсканировать штрих-код перехода на заводские настройки, чтобы сбросить настройки сканера. \n",
            " Отсканировать штрих-код, добавляющий эмуляцию нажатия клавиши «Enter».\n",
            "Продвижение самообслуживания. Подробная информация есть в инструкции производителя и на его официальном сайте.\n",
            "Настройка работы Станции сканирования с «Терминалом сбора данных» (ТСД)\n",
            "Настройка параметров обмена с ТСД\n",
            "После установки программы Mobile SMARTS необходимо настроить ее для работы со «Станцией сканирования». \n",
            "Для этого нужно: \n",
            " Перейти в «Администрирование» - «Настройки реализации маркированной продукции» - «Обмен с ТСД» - «Настроить параметры обмена с ТСД»;\n",
            " В открывшемся окне выбрать из выпадающего списка в строке «База ТСД» нужную базу (Mobile SMARTS).\n",
            " Остальные настройки рекомендуем оставить включенными:\n",
            " Выгружать номенклатуру при выгрузке документов на ТСД» - при выгрузке документа также будет выгружаться справочник номенклатуры для определения отсканированных позиций.\n",
            " «Перезаписывать номенклатуру при выгрузке на ТСД» - если стоит галка напротив «Выгружать номенклатуру при выгрузке документов на ТСД», при выгрузке документа номенклатура будет очищаться, а после загружаться заново.\n",
            " «Удалять КМ перед загрузкой» - если в «Станции сканирования» в документ «Реализация товаров и услуг» уже были добавлены коды маркировки, перед загрузкой документа они будут удалены.\n",
            " «Удалять документы из ТСД после загрузки» - документы, которые Клиент отсканировал и отправил обратно в «Станцию сканирования», будут автоматически удаляться из ТСД.\n",
            " «Заполнять количество по данным ТСД» - количество номенклатуры будет браться из ТСД и автоматически проставляться в документ «Реализация товаров и услуг».\n",
            "Обмен документами «Станции сканирования» с ТСД\n",
            "Обмениваться документами между «Станцией сканирования» и ТСД можно вручную или автоматически.\n",
            "Автоматический способ загрузки/выгрузки документов\n",
            "Необходимо настроить соответствующее регламентное задание:\n",
            " Перейти в «Администрирование» - «Настройки реализации маркированной продукции» - «Обмен с ТСД». \n",
            " В открывшемся меню проставить галку напротив «Выполнять обмен с ТСД по расписанию». \n",
            " Перейти в «Настроить расписание обмен с ТСД» и заполнить все необходимые поля. \n",
            " Нажать «ОК». \n",
            "После сохранения настроек созданные документы «Реализация товаров и услуг» будут уходить на ТСД, а с ТСД в «Станцию сканирования» будут приходить все закрытые на ТСД документы.\n",
            "Ручной способ загрузки/выгрузки документов\n",
            "Чтобы вручную отправлять и принимать документы, необходимо использовать форму «Обмен с ТСД», которая находится в «ЭДО» - «Обмен с ТСД». \n",
            "Чтобы выгрузить документ: \n",
            " на ТСД, необходимо выбрать его и нажать «Выгрузить документ». \n",
            " в «Станцию сканирования» из ТСД, необходимо:\n",
            " Нажать «Прочитать документы». Обновится список документов, которые закрыты на ТСД и готовы к передаче в «Станцию сканирования»;\n",
            " Выбрать необходимые документы и нажать «Загрузить документы»;\n",
            " Открыть документы в «Станции сканирования» и проверить, что документ заполнился данными из ТСД.\n",
            "Чтобы удалить документ из ТСД, нужно нажать «Удалить» на форме «Обмен с ТСД».\n",
            " \n",
            "\t\t\n",
            "\n",
            "\n",
            "Сценарий №4Подробная информация о возможностях и назначении «Станции сканирования» есть в статье Базы знаний Статья: «Станция сканирования: назначение, преимущества и стоимость». Статья: \"«Станция сканирования: назначение, преимущества и стоимость»\":\n",
            " \n",
            "«Станция сканирования»: Назначение, преимущества и стоимость — База знаний\n",
            "«Станция сканирования»: Назначение, преимущества и стоимость\n",
            "Материал из База знаний\n",
            "\t\tПерейти к:\t\tнавигация, \t\tпоиск\n",
            "Назначение\n",
            "«Станция сканирования» - это продукт, разработанный на платформе 1С для работы с маркированными товарами. «Станцию сканирования» можно интегрировать с системами учёта 1С. Их не нужно адаптировать или дорабатывать, чтобы отслеживать этапы движения товара в системе маркировки.\n",
            "Информирование. Единая национальная система цифровой маркировки и прослеживания товаров «Честный ЗНАК» официально подтвердила, что функционал «Станции сканирования» полностью соответствует для работы с маркированными товарами.\n",
            "«Станция сканирования» подходит:\n",
            " Производителям маркированных товаров. «Станция сканирования» передаст оператору государственной системы маркировки информацию о кодах выпущенной продукции, о её внедрении в транспортные упаковки;\n",
            " Дистрибьюторам. «Станция сканирования» автоматизирует весь цикл:\n",
            " формирование отгрузки заказчику,\n",
            " создание электронной накладной (УПД) и её отправку,\n",
            " сканирование и автоматическое заполнение в документе кодов маркированного товара,\n",
            " передачу подписанных документов в государственную систему маркировки;\n",
            " Розничным магазинам. «Станция сканирования» принимает УПД, автоматически сверяет коды товаров в документе с реальными кодами на упаковках, автоматически формирует документы о расхождениях или подтверждает корректные данные.\n",
            "Преимущества\n",
            " привычный интерфейс 1С – не нужно переучиваться;\n",
            " прямая регистрация в государственной системе маркировки;\n",
            " единое решение для всех категорий маркированных товаров;\n",
            " все процессы включены в программу – не упущен ни один этап;\n",
            " прослеживается вся цепочка движения товара – от производства до вывода из оборота;\n",
            " агрегация кодов от первичной упаковки до паллета;\n",
            " работа с 2D-сканером и ТСД;\n",
            " автоматический роуминг с другими операторами ЭДО.\n",
            "Стоимость\n",
            "Клиенту необходимо приобрести опцию «Станция сканирования». Подробная информация есть в статье БЗ \"Тарифные планы для пользователей \"Такском-Файлера\".\n",
            "Продвижение самообслуживания. Подробная информация о сервисе есть на нашем сайте taxcom.ru в разделе «Электронный документооборот» - «Станция сканирования».  \n",
            " \n",
            "\n",
            "\n",
            "\n"
          ]
        },
        {
          "output_type": "display_data",
          "data": {
            "text/plain": [
              "<IPython.core.display.HTML object>"
            ],
            "text/html": [
              "<text style=\"color:#0074D9\">Запрос пользователя:</text>"
            ]
          },
          "metadata": {}
        },
        {
          "output_type": "stream",
          "name": "stdout",
          "text": [
            " Как настроить интеграцию станции сканирования со станцией управления заказами?\n",
            "--------------------------------------------------\n"
          ]
        },
        {
          "output_type": "display_data",
          "data": {
            "text/plain": [
              "<IPython.core.display.HTML object>"
            ],
            "text/html": [
              "<text style=\"color:#FF69B4\">Специалист по выбору самого релевантного сценария (scenario_selecter):</text>"
            ]
          },
          "metadata": {}
        },
        {
          "output_type": "stream",
          "name": "stdout",
          "text": [
            "Для настройки интеграции «Станции сканирования» со «Станцией управления заказами» (СУЗ) необходимо выполнить следующие шаги:\n",
            "\n",
            "1. **Регистрация в системе**: Убедитесь, что вы зарегистрированы в личном кабинете \"Честного ЗНАКа\". Если вы еще не зарегистрированы, вам нужно приобрести услугу «Регистрации в системе «Честный ЗНАК». Подробности можно найти в статье БЗ \"Услуги для маркировки товаров\".\n",
            "\n",
            "2. **Открытие «Станции сканирования»**: Запустите приложение «Станция сканирования».\n",
            "\n",
            "3. **Настройка реализации маркированной продукции**:\n",
            "   - Перейдите в раздел «Администрирование» и выберите «Настройка реализации маркированной продукции».\n",
            "   - Убедитесь, что галка «Реализация маркированной продукции» установлена. Если она отсутствует, установите ее.\n",
            "\n",
            "4. **Интеграция с ИС МП**:\n",
            "   - Нажмите на кнопку «Интеграция с ИС МП».\n",
            "   - Установите галку «Использовать интеграцию с СУЗ».\n",
            "\n",
            "5. **Выбор сертификата**: Выберите личный сертификат клиента.\n",
            "\n",
            "6. **Создание устройства СУЗ**:\n",
            "   - Нажмите «Устройство СУЗ» и в открывшемся окне нажмите «Создать».\n",
            "   - Заполните необходимые поля:\n",
            "     - «Наименование»;\n",
            "     - «Адрес сервера»;\n",
            "     - «Идентификатор СУЗ»;\n",
            "     - «Идентификатор соединения».\n",
            "   - Укажите интервал обращения к СУЗ в поле «Пауза, сек:» (не чаще 1 раза в секунду).\n",
            "   - Нажмите «Записать и закрыть».\n",
            "\n",
            "7. **Настройки СУЗ**:\n",
            "   - Нажмите «Настройки СУЗ» и в открывшемся окне нажмите «Создать».\n",
            "   - Заполните поля:\n",
            "     - «Организация» - укажите наименование организации, имеющей личный кабинет в «Честном ЗНАКе»;\n",
            "     - «Товарная группа» - укажите товар, для которого нужно заказать коды;\n",
            "     - «Устройства СУЗ» - выберите ранее созданное устройство.\n",
            "   - Оставьте поле «Токен (статический)» пустым.\n",
            "   - Нажмите «Записать и закрыть».\n",
            "\n",
            "После выполнения этих шагов интеграция «Станции сканирования» со «Станцией управления заказами» будет настроена, и вы сможете заказывать коды маркировки через СУЗ.\n"
          ]
        },
        {
          "output_type": "display_data",
          "data": {
            "text/plain": [
              "<IPython.core.display.HTML object>"
            ],
            "text/html": [
              "<text style=\"color:#2ECC40\">Данные успешно сохранены в Google Drive.</text>"
            ]
          },
          "metadata": {}
        },
        {
          "output_type": "stream",
          "name": "stdout",
          "text": [
            "url: https://docs.google.com/spreadsheets/d/1607FPIz2-SOwR31rPYlFkYrOo37q9rC9xixcoEo5G8E/edit?usp=sharing\n"
          ]
        }
      ]
    },
    {
      "cell_type": "code",
      "source": [
        "# @title Копирайтер Яны (yana_copywriter)\n",
        "system_yana_copywriter = \"Ты прекрасный копирайтер. Тебе дают текст Инструкции для консультанта компании занимающейся онлайн документооборотом. Твоя задача взять текст инструкции и НИЧЕГО в нем НЕ МЕНЯТЬ А ПРОСТО отредактировать его так, чтобы получился последовательный и удобный для чтения Ответ. Ты всегда следуешь правилам: а) Ты знаешь что каждое предложение в Инструкции важное и его нужно сохранить; b) Ты оставляешь ВЕСЬ текст Инструкции который редактируешь, просто структурируешь эту информацию в своем Ответе; c) Ты всегда оставляешь все ссылки из Инструкции в тексте Ответа; d) Ты мастерски делишь текст на абзацы по смыслу; e) ты не пишешь слово 'ответ' в начале ответа. \" # @param{type: 'string'}\n",
        "user_yana_copywriter = \"Пожалуйста, сделай глубокий вдох и действуй шаг за шагом: 1) Проанализируй Инструкцию ; 2) Напиши понятный и структурированный Ответ следуя всем правилам. Инструкция: {message_content}\" # @param{type: 'string'}\n",
        "temp_yana_copywriter = 0 # @param {type: 'slider', min: 0, max: 2, step: 0.1}\n",
        "model_yana_copywriter = 'gpt-4o-mini' # @param  ['gpt-4o-mini','gpt-4o', 'gpt-4', 'gpt-3.5-turbo-16k-0613', 'gpt-3.5-turbo-1106']\n",
        "\n",
        "chunk_number = \"2\" # @param  [1, 2, 3, 4, 5]\n",
        "save_to_google_table = True #@param{type: 'boolean'}\n",
        "\n",
        "db = get_db(base_selector_answer)\n",
        "most_relevant_chunk = db.similarity_search(query=query, k=5)[int(chunk_number)-1]\n",
        "message_content = most_relevant_chunk.page_content\n",
        "# Преподаватель\n",
        "async def yana_copywriter(system, user, topic, message_content, model, temperature):\n",
        "    user = user.format(\n",
        "        topic=topic,\n",
        "        message_content=message_content\n",
        "    )\n",
        "    messages = [\n",
        "        {'role': 'system', 'content': system},\n",
        "        {'role': 'user', 'content': user}\n",
        "    ]\n",
        "    completion = await client.chat.completions.create(\n",
        "        model=model,\n",
        "        messages=messages,\n",
        "        temperature=temperature\n",
        "    )\n",
        "    answer = completion.choices[0].message.content\n",
        "    return answer\n",
        "\n",
        "copywriter_answer = await yana_copywriter(system_yana_copywriter, user_yana_copywriter, question, message_content, model_yana_copywriter, temp_yana_copywriter)\n",
        "\n",
        "\n",
        "print_color('Отобранный чанк:', 'blue')\n",
        "print(message_content)\n",
        "print_color('Запрос пользователя:', 'blue')\n",
        "print(question)\n",
        "print('-' * 50)\n",
        "print_color(f'Ответ тех поддержки:', 'pink')\n",
        "print(copywriter_answer)\n",
        "\n",
        "\n",
        "\n",
        "if save_to_google_table:\n",
        "    row_data = [\n",
        "        current_datetime(),\n",
        "        question,\n",
        "        'Копирайтер Яны (yana_copywriter)',\n",
        "        message_content,\n",
        "        copywriter_answer,\n",
        "        system_yana_copywriter,\n",
        "        user_yana_copywriter,\n",
        "    ]\n",
        "    gs_handler.append_row(row_data, 'Результаты промтов')\n",
        "    print_color(\"Данные успешно сохранены в Google Drive.\", color='green')\n",
        "    print(f'url: https://docs.google.com/spreadsheets/d/1607FPIz2-SOwR31rPYlFkYrOo37q9rC9xixcoEo5G8E/edit?usp=sharing')\n"
      ],
      "metadata": {
        "cellView": "form",
        "id": "9xENOcMfZ0uI",
        "collapsed": true,
        "outputId": "c4b09b2d-d4c7-41a0-f20b-8b6a8e0e82ca",
        "colab": {
          "base_uri": "https://localhost:8080/",
          "height": 208
        }
      },
      "execution_count": 122,
      "outputs": [
        {
          "output_type": "display_data",
          "data": {
            "text/plain": [
              "<IPython.core.display.HTML object>"
            ],
            "text/html": [
              "\n",
              "  <style>\n",
              "    pre {\n",
              "        white-space: pre-wrap;\n",
              "    }\n",
              "  </style>\n",
              "  "
            ]
          },
          "metadata": {}
        },
        {
          "output_type": "display_data",
          "data": {
            "text/plain": [
              "<IPython.core.display.HTML object>"
            ],
            "text/html": [
              "<text style=\"color:#0074D9\">Отобранный чанк:</text>"
            ]
          },
          "metadata": {}
        },
        {
          "output_type": "stream",
          "name": "stdout",
          "text": [
            "В тексте сообщения указан максимально возможный размер вложения. Для отправки файлов большего размера их необходимо сжать, например, архивировать или отсканировать с меньшим разрешением.\n"
          ]
        },
        {
          "output_type": "display_data",
          "data": {
            "text/plain": [
              "<IPython.core.display.HTML object>"
            ],
            "text/html": [
              "<text style=\"color:#0074D9\">Запрос пользователя:</text>"
            ]
          },
          "metadata": {}
        },
        {
          "output_type": "stream",
          "name": "stdout",
          "text": [
            "При импорте вложения  в онлайн спринтере высвечивается сообщение \"Превышение максимального допустимого размера\"\n",
            "--------------------------------------------------\n"
          ]
        },
        {
          "output_type": "display_data",
          "data": {
            "text/plain": [
              "<IPython.core.display.HTML object>"
            ],
            "text/html": [
              "<text style=\"color:#FF69B4\">Ответ тех поддержки:</text>"
            ]
          },
          "metadata": {}
        },
        {
          "output_type": "stream",
          "name": "stdout",
          "text": [
            "В тексте сообщения указан максимально возможный размер вложения. \n",
            "\n",
            "Для отправки файлов большего размера их необходимо сжать, например, архивировать или отсканировать с меньшим разрешением.\n"
          ]
        },
        {
          "output_type": "display_data",
          "data": {
            "text/plain": [
              "<IPython.core.display.HTML object>"
            ],
            "text/html": [
              "<text style=\"color:#2ECC40\">Данные успешно сохранены в Google Drive.</text>"
            ]
          },
          "metadata": {}
        },
        {
          "output_type": "stream",
          "name": "stdout",
          "text": [
            "url: https://docs.google.com/spreadsheets/d/1607FPIz2-SOwR31rPYlFkYrOo37q9rC9xixcoEo5G8E/edit?usp=sharing\n"
          ]
        }
      ]
    },
    {
      "cell_type": "code",
      "source": [
        "# @title Копирайтер (copywriter)\n",
        "system_copywriter = \"\" # @param{type: 'string'}\n",
        "user_copywriter = \"Чанк: {message_content}\" # @param{type: 'string'}\n",
        "temp_copywriter = 0 # @param {type: 'slider', min: 0, max: 2, step: 0.1}\n",
        "model_copywriter = 'gpt-4o-mini' # @param  ['gpt-4o-mini','gpt-4o', 'gpt-4', 'gpt-3.5-turbo-16k-0613', 'gpt-3.5-turbo-1106']\n",
        "\n",
        "chunk_number = \"2\" # @param  [1, 2, 3, 4, 5]\n",
        "save_to_google_table = True #@param{type: 'boolean'}\n",
        "\n",
        "db = get_db(base_selector_answer)\n",
        "most_relevant_chunk = db.similarity_search(query=query, k=5)[int(chunk_number)-1]\n",
        "message_content = most_relevant_chunk.page_content\n",
        "# Преподаватель\n",
        "async def copywriter(system, user, topic, message_content, model, temperature):\n",
        "    user = user.format(\n",
        "        topic=topic,\n",
        "        message_content=message_content\n",
        "    )\n",
        "    messages = [\n",
        "        {'role': 'system', 'content': system},\n",
        "        {'role': 'user', 'content': user}\n",
        "    ]\n",
        "    completion = await client.chat.completions.create(\n",
        "        model=model,\n",
        "        messages=messages,\n",
        "        temperature=temperature\n",
        "    )\n",
        "    answer = completion.choices[0].message.content\n",
        "    return answer\n",
        "\n",
        "copywriter_answer = await copywriter(system_copywriter, user_copywriter, question, message_content, model_copywriter, temp_copywriter)\n",
        "\n",
        "\n",
        "print_color('Отобранный чанк:', 'blue')\n",
        "print(message_content)\n",
        "print_color('Запрос пользователя:', 'blue')\n",
        "print(question)\n",
        "print('-' * 50)\n",
        "print_color(f'Ответ копирайтера:', 'pink')\n",
        "print(copywriter_answer)\n",
        "\n",
        "\n",
        "\n",
        "if save_to_google_table:\n",
        "    row_data = [\n",
        "        current_datetime(),\n",
        "        question,\n",
        "        'Копирайтер (copywriter)',\n",
        "        message_content,\n",
        "        copywriter_answer,\n",
        "        system_copywriter,\n",
        "        user_copywriter,\n",
        "    ]\n",
        "    gs_handler.append_row(row_data, 'Результаты промтов')\n",
        "    print_color(\"Данные успешно сохранены в Google Drive.\", color='green')\n",
        "    print(f'url: https://docs.google.com/spreadsheets/d/1607FPIz2-SOwR31rPYlFkYrOo37q9rC9xixcoEo5G8E/edit?usp=sharing')\n"
      ],
      "metadata": {
        "cellView": "form",
        "collapsed": true,
        "outputId": "d2fed2b3-bf5e-4c08-c5a0-e49b1420d2c4",
        "colab": {
          "base_uri": "https://localhost:8080/",
          "height": 1000
        },
        "id": "fjxNiQUETcae"
      },
      "execution_count": null,
      "outputs": [
        {
          "output_type": "display_data",
          "data": {
            "text/plain": [
              "<IPython.core.display.HTML object>"
            ],
            "text/html": [
              "\n",
              "  <style>\n",
              "    pre {\n",
              "        white-space: pre-wrap;\n",
              "    }\n",
              "  </style>\n",
              "  "
            ]
          },
          "metadata": {}
        },
        {
          "output_type": "display_data",
          "data": {
            "text/plain": [
              "<IPython.core.display.HTML object>"
            ],
            "text/html": [
              "<text style=\"color:#0074D9\">Отобранный чанк:</text>"
            ]
          },
          "metadata": {}
        },
        {
          "output_type": "stream",
          "name": "stdout",
          "text": [
            "Подробная информация есть в статье БЗ «Статья: Настройка оборудования». Статья: \"Настройка оборудования\":\n",
            " \n",
            "Настройка оборудования — База знаний\n",
            "Настройка оборудования\n",
            "Материал из База знаний\n",
            "\t\tПерейти к:\t\tнавигация, \t\tпоиск\n",
            "Содержание\n",
            "1 Настройка сканера\n",
            "1.1 Перевод сканера в режим эмуляции COM порта\n",
            "1.1.1 Настройка сканера в режиме эмуляции COM\n",
            "1.2 Перевод сканера для работы в режиме клавиатуры\n",
            "2 Настройка работы Станции сканирования с «Терминалом сбора данных» (ТСД)\n",
            "2.1 Настройка параметров обмена с ТСД\n",
            "3 Обмен документами «Станции сканирования» с ТСД\n",
            "3.1 Автоматический способ загрузки/выгрузки документов\n",
            "3.2 Ручной способ загрузки/выгрузки документов\n",
            "Настройка сканера\n",
            "Сканер в «Станции сканирования» может работать в режиме:\n",
            " Эмуляции COM порта.   Преимущество - при сканировании номенклатура и коды маркировки будут проставляться в документе автоматически. \n",
            " Клавиатуры.  Данный режим передает текст отсканированного Data Matrix кода. Чтобы начать сканирование, в документе необходимо нажать «Вызов окна сканирования».\n",
            "Перевод сканера в режим эмуляции COM порта\n",
            "Необходимо:\n",
            " Отсканировать штрих-код перехода на заводские настройки, чтобы сбросить настройки сканера. \n",
            " Перевести сканер в режим эмуляции COM. \n",
            " Отсканировать штрих-код, добавляющий эмуляцию нажатия клавиши «Enter». \n",
            "Продвижение самообслуживания. Подробная информация есть в инструкции производителя и на его официальном сайте.\n",
            "Настройка сканера в режиме эмуляции COM\n",
            "Необходимо: \n",
            " Перейти в «Администрирование» - «Подключаемое оборудование»;\n",
            " Нажать «Создать»;\n",
            " В открывшемся окне заполнить поля:\n",
            " «Драйвер оборудования» - выбрать «1С: Сканеры штрихкода (COM)»;\n",
            " «Организация»; \n",
            " «Тип оборудования»;\n",
            " «Рабочее место»;\n",
            " «Наименование»\n",
            " «Серийный номер». \n",
            "4. Нажать «Записать и закрыть» и «Настроить»;\n",
            "5. В открывшемся окне в поле «Порт» выбрать порт сканера, который указан в «Диспетчере устройств» Windows. Если написано, что драйвер не установлен – нажать «Установить драйвер»;\n",
            "6. Нажать «Записать и закрыть».\n",
            "Теперь сканер будет работать в «1С» в режиме эмуляции СОМ.\n",
            "Перевод сканера для работы в режиме клавиатуры\n",
            "Необходимо:\n",
            " Отсканировать штрих-код перехода на заводские настройки, чтобы сбросить настройки сканера. \n",
            " Отсканировать штрих-код, добавляющий эмуляцию нажатия клавиши «Enter».\n",
            "Продвижение самообслуживания. Подробная информация есть в инструкции производителя и на его официальном сайте.\n",
            "Настройка работы Станции сканирования с «Терминалом сбора данных» (ТСД)\n",
            "Настройка параметров обмена с ТСД\n",
            "После установки программы Mobile SMARTS необходимо настроить ее для работы со «Станцией сканирования». \n",
            "Для этого нужно: \n",
            " Перейти в «Администрирование» - «Настройки реализации маркированной продукции» - «Обмен с ТСД» - «Настроить параметры обмена с ТСД»;\n",
            " В открывшемся окне выбрать из выпадающего списка в строке «База ТСД» нужную базу (Mobile SMARTS).\n",
            " Остальные настройки рекомендуем оставить включенными:\n",
            " Выгружать номенклатуру при выгрузке документов на ТСД» - при выгрузке документа также будет выгружаться справочник номенклатуры для определения отсканированных позиций.\n",
            " «Перезаписывать номенклатуру при выгрузке на ТСД» - если стоит галка напротив «Выгружать номенклатуру при выгрузке документов на ТСД», при выгрузке документа номенклатура будет очищаться, а после загружаться заново.\n",
            " «Удалять КМ перед загрузкой» - если в «Станции сканирования» в документ «Реализация товаров и услуг» уже были добавлены коды маркировки, перед загрузкой документа они будут удалены.\n",
            " «Удалять документы из ТСД после загрузки» - документы, которые Клиент отсканировал и отправил обратно в «Станцию сканирования», будут автоматически удаляться из ТСД.\n",
            " «Заполнять количество по данным ТСД» - количество номенклатуры будет браться из ТСД и автоматически проставляться в документ «Реализация товаров и услуг».\n",
            "Обмен документами «Станции сканирования» с ТСД\n",
            "Обмениваться документами между «Станцией сканирования» и ТСД можно вручную или автоматически.\n",
            "Автоматический способ загрузки/выгрузки документов\n",
            "Необходимо настроить соответствующее регламентное задание:\n",
            " Перейти в «Администрирование» - «Настройки реализации маркированной продукции» - «Обмен с ТСД». \n",
            " В открывшемся меню проставить галку напротив «Выполнять обмен с ТСД по расписанию». \n",
            " Перейти в «Настроить расписание обмен с ТСД» и заполнить все необходимые поля. \n",
            " Нажать «ОК». \n",
            "После сохранения настроек созданные документы «Реализация товаров и услуг» будут уходить на ТСД, а с ТСД в «Станцию сканирования» будут приходить все закрытые на ТСД документы.\n",
            "Ручной способ загрузки/выгрузки документов\n",
            "Чтобы вручную отправлять и принимать документы, необходимо использовать форму «Обмен с ТСД», которая находится в «ЭДО» - «Обмен с ТСД». \n",
            "Чтобы выгрузить документ: \n",
            " на ТСД, необходимо выбрать его и нажать «Выгрузить документ». \n",
            " в «Станцию сканирования» из ТСД, необходимо:\n",
            " Нажать «Прочитать документы». Обновится список документов, которые закрыты на ТСД и готовы к передаче в «Станцию сканирования»;\n",
            " Выбрать необходимые документы и нажать «Загрузить документы»;\n",
            " Открыть документы в «Станции сканирования» и проверить, что документ заполнился данными из ТСД.\n",
            "Чтобы удалить документ из ТСД, нужно нажать «Удалить» на форме «Обмен с ТСД».\n",
            " \n",
            "\t\t\n",
            "\n",
            "\n"
          ]
        },
        {
          "output_type": "display_data",
          "data": {
            "text/plain": [
              "<IPython.core.display.HTML object>"
            ],
            "text/html": [
              "<text style=\"color:#0074D9\">Запрос пользователя:</text>"
            ]
          },
          "metadata": {}
        },
        {
          "output_type": "stream",
          "name": "stdout",
          "text": [
            " Как настроить интеграцию станции сканирования со станцией управления заказами?\n",
            "--------------------------------------------------\n"
          ]
        },
        {
          "output_type": "display_data",
          "data": {
            "text/plain": [
              "<IPython.core.display.HTML object>"
            ],
            "text/html": [
              "<text style=\"color:#FF69B4\">Ответ тех поддержки:</text>"
            ]
          },
          "metadata": {}
        },
        {
          "output_type": "stream",
          "name": "stdout",
          "text": [
            "**Инструкция по настройке оборудования для работы с «Станцией сканирования» и «Терминалом сбора данных» (ТСД)**\n",
            "\n",
            "**1. Настройка сканера**\n",
            "\n",
            "Сканер в «Станции сканирования» может работать в двух режимах:\n",
            "- **Эмуляция COM порта**: Преимущество - при сканировании номенклатура и коды маркировки будут проставляться в документе автоматически.\n",
            "- **Клавиатура**: Данный режим передает текст отсканированного Data Matrix кода. Чтобы начать сканирование, в документе необходимо нажать «Вызов окна сканирования».\n",
            "\n",
            "**1.1 Перевод сканера в режим эмуляции COM порта**\n",
            "\n",
            "Для перевода сканера в режим эмуляции COM порта необходимо:\n",
            "1. Отсканировать штрих-код перехода на заводские настройки, чтобы сбросить настройки сканера.\n",
            "2. Перевести сканер в режим эмуляции COM.\n",
            "3. Отсканировать штрих-код, добавляющий эмуляцию нажатия клавиши «Enter».\n",
            "\n",
            "**1.1.1 Настройка сканера в режиме эмуляции COM**\n",
            "\n",
            "Для настройки сканера в режиме эмуляции COM выполните следующие шаги:\n",
            "1. Перейдите в «Администрирование» - «Подключаемое оборудование».\n",
            "2. Нажмите «Создать».\n",
            "3. В открывшемся окне заполните поля:\n",
            "   - «Драйвер оборудования» - выберите «1С: Сканеры штрихкода (COM)»;\n",
            "   - «Организация»;\n",
            "   - «Тип оборудования»;\n",
            "   - «Рабочее место»;\n",
            "   - «Наименование»;\n",
            "   - «Серийный номер».\n",
            "4. Нажмите «Записать и закрыть» и «Настроить».\n",
            "5. В открывшемся окне в поле «Порт» выберите порт сканера, который указан в «Диспетчере устройств» Windows. Если написано, что драйвер не установлен – нажмите «Установить драйвер».\n",
            "6. Нажмите «Записать и закрыть».\n",
            "\n",
            "Теперь сканер будет работать в «1С» в режиме эмуляции СОМ.\n",
            "\n",
            "**1.2 Перевод сканера для работы в режиме клавиатуры**\n",
            "\n",
            "Для перевода сканера в режим клавиатуры выполните следующие шаги:\n",
            "1. Отсканировать штрих-код перехода на заводские настройки, чтобы сбросить настройки сканера.\n",
            "2. Отсканировать штрих-код, добавляющий эмуляцию нажатия клавиши «Enter».\n",
            "\n",
            "**2. Настройка работы Станции сканирования с «Терминалом сбора данных» (ТСД)**\n",
            "\n",
            "**2.1 Настройка параметров обмена с ТСД**\n",
            "\n",
            "После установки программы Mobile SMARTS необходимо настроить ее для работы со «Станцией сканирования». Для этого выполните следующие шаги:\n",
            "1. Перейдите в «Администрирование» - «Настройки реализации маркированной продукции» - «Обмен с ТСД» - «Настроить параметры обмена с ТСД».\n",
            "2. В открывшемся окне выберите из выпадающего списка в строке «База ТСД» нужную базу (Mobile SMARTS).\n",
            "3. Остальные настройки рекомендуем оставить включенными:\n",
            "   - «Выгружать номенклатуру при выгрузке документов на ТСД» - при выгрузке документа также будет выгружаться справочник номенклатуры для определения отсканированных позиций.\n",
            "   - «Перезаписывать номенклатуру при выгрузке на ТСД» - если стоит галка напротив «Выгружать номенклатуру при выгрузке документов на ТСД», при выгрузке документа номенклатура будет очищаться, а после загружаться заново.\n",
            "   - «Удалять КМ перед загрузкой» - если в «Станции сканирования» в документ «Реализация товаров и услуг» уже были добавлены коды маркировки, перед загрузкой документа они будут удалены.\n",
            "   - «Удалять документы из ТСД после загрузки» - документы, которые Клиент отсканировал и отправил обратно в «Станцию сканирования», будут автоматически удаляться из ТСД.\n",
            "   - «Заполнять количество по данным ТСД» - количество номенклатуры будет браться из ТСД и автоматически проставляться в документ «Реализация товаров и услуг».\n",
            "\n",
            "**3. Обмен документами «Станции сканирования» с ТСД**\n",
            "\n",
            "Обмениваться документами между «Станцией сканирования» и ТСД можно вручную или автоматически.\n",
            "\n",
            "**3.1 Автоматический способ загрузки/выгрузки документов**\n",
            "\n",
            "Для настройки автоматического обмена выполните следующие шаги:\n",
            "1. Перейдите в «Администрирование» - «Настройки реализации маркированной продукции» - «Обмен с ТСД».\n",
            "2. В открывшемся меню проставьте галку напротив «Выполнять обмен с ТСД по расписанию».\n",
            "3. Перейдите в «Настроить расписание обмен с ТСД» и заполните все необходимые поля.\n",
            "4. Нажмите «ОК».\n",
            "\n",
            "После сохранения настроек созданные документы «Реализация товаров и услуг» будут уходить на ТСД, а с ТСД в «Станцию сканирования» будут приходить все закрытые на ТСД документы.\n",
            "\n",
            "**3.2 Ручной способ загрузки/выгрузки документов**\n",
            "\n",
            "Чтобы вручную отправлять и принимать документы, используйте форму «Обмен с ТСД», которая находится в «ЭДО» - «Обмен с ТСД».\n",
            "\n",
            "Чтобы выгрузить документ на ТСД:\n",
            "- Выберите его и нажмите «Выгрузить документ».\n",
            "\n",
            "Чтобы загрузить документы из ТСД в «Станцию сканирования»:\n",
            "1. Нажмите «Прочитать документы». Обновится список документов, которые закрыты на ТСД и готовы к передаче в «Станцию сканирования».\n",
            "2. Выберите необходимые документы и нажмите «Загрузить документы».\n",
            "3. Откройте документы в «Станции сканирования» и проверьте, что документ заполнился данными из ТСД.\n",
            "\n",
            "Чтобы удалить документ из ТСД, нажмите «Удалить» на форме «Обмен с ТСД». \n",
            "\n",
            "**Дополнительная информация**: Подробная информация по настройке оборудования доступна в статье БЗ «Статья: Настройка оборудования».\n"
          ]
        },
        {
          "output_type": "display_data",
          "data": {
            "text/plain": [
              "<IPython.core.display.HTML object>"
            ],
            "text/html": [
              "<text style=\"color:#2ECC40\">Данные успешно сохранены в Google Drive.</text>"
            ]
          },
          "metadata": {}
        },
        {
          "output_type": "stream",
          "name": "stdout",
          "text": [
            "url: https://docs.google.com/spreadsheets/d/1607FPIz2-SOwR31rPYlFkYrOo37q9rC9xixcoEo5G8E/edit?usp=sharing\n"
          ]
        }
      ]
    },
    {
      "cell_type": "code",
      "source": [
        "# @title Помощник тех поддержки (tech_support)\n",
        "system_tech_support = \"\" # @param{type: 'string'}\n",
        "user_tech_support = \"Ответ копирайтера: {message_content}. Запрос пользователя: {topic}\" # @param{type: 'string'}\n",
        "temp_tech_support = 0 # @param {type: 'slider', min: 0, max: 2, step: 0.1}\n",
        "model_tech_support = 'gpt-4o-mini' # @param  ['gpt-4o-mini','gpt-4o', 'gpt-4', 'gpt-3.5-turbo-16k-0613', 'gpt-3.5-turbo-1106']\n",
        "\n",
        "save_to_google_table = True #@param{type: 'boolean'}\n",
        "\n",
        "db = get_db(base_selector_answer)\n",
        "# most_relevant_chunk = db.similarity_search(query=query, k=5)[int(chunk_number)-1]\n",
        "message_content = copywriter_answer\n",
        "# Преподаватель\n",
        "async def tech_support(system, user, topic, message_content, model, temperature):\n",
        "    user = user.format(\n",
        "        topic=topic,\n",
        "        message_content=message_content\n",
        "    )\n",
        "    messages = [\n",
        "        {'role': 'system', 'content': system},\n",
        "        {'role': 'user', 'content': user}\n",
        "    ]\n",
        "    completion = await client.chat.completions.create(\n",
        "        model=model,\n",
        "        messages=messages,\n",
        "        temperature=temperature\n",
        "    )\n",
        "    answer = completion.choices[0].message.content\n",
        "    return answer\n",
        "\n",
        "tech_support_answer = await tech_support(system_tech_support, user_tech_support, question, message_content, model_tech_support, temp_tech_support)\n",
        "\n",
        "\n",
        "print_color('Отобранный чанк:', 'blue')\n",
        "print(message_content)\n",
        "print_color('Запрос пользователя:', 'blue')\n",
        "print(question)\n",
        "print('-' * 50)\n",
        "print_color(f'Ответ помощника тех поддержки:', 'pink')\n",
        "print(tech_support_answer)\n",
        "\n",
        "\n",
        "\n",
        "if save_to_google_table:\n",
        "    row_data = [\n",
        "        current_datetime(),\n",
        "        question,\n",
        "        'Помощника тех поддержки (tech_support)',\n",
        "        message_content,\n",
        "        tech_support_answer,\n",
        "        system_tech_support,\n",
        "        user_tech_support,\n",
        "    ]\n",
        "    gs_handler.append_row(row_data, 'Результаты промтов')\n",
        "    print_color(\"Данные успешно сохранены в Google Drive.\", color='green')\n",
        "    print(f'url: https://docs.google.com/spreadsheets/d/1607FPIz2-SOwR31rPYlFkYrOo37q9rC9xixcoEo5G8E/edit?usp=sharing')\n"
      ],
      "metadata": {
        "cellView": "form",
        "collapsed": true,
        "outputId": "c88ae03e-a7f9-46cc-9760-b04399355ee7",
        "colab": {
          "base_uri": "https://localhost:8080/",
          "height": 1000
        },
        "id": "nI_MP0QMWj-G"
      },
      "execution_count": null,
      "outputs": [
        {
          "output_type": "display_data",
          "data": {
            "text/plain": [
              "<IPython.core.display.HTML object>"
            ],
            "text/html": [
              "\n",
              "  <style>\n",
              "    pre {\n",
              "        white-space: pre-wrap;\n",
              "    }\n",
              "  </style>\n",
              "  "
            ]
          },
          "metadata": {}
        },
        {
          "output_type": "display_data",
          "data": {
            "text/plain": [
              "<IPython.core.display.HTML object>"
            ],
            "text/html": [
              "<text style=\"color:#0074D9\">Отобранный чанк:</text>"
            ]
          },
          "metadata": {}
        },
        {
          "output_type": "stream",
          "name": "stdout",
          "text": [
            "**Ответ: Инструкция по настройке оборудования для онлайн документооборота**\n",
            "\n",
            "**1. Настройка сканера**\n",
            "\n",
            "Сканер в «Станции сканирования» может работать в двух режимах:\n",
            "- **Эмуляция COM порта**: Преимущество - при сканировании номенклатура и коды маркировки будут проставляться в документе автоматически.\n",
            "- **Клавиатура**: Данный режим передает текст отсканированного Data Matrix кода. Чтобы начать сканирование, в документе необходимо нажать «Вызов окна сканирования».\n",
            "\n",
            "**1.1 Перевод сканера в режим эмуляции COM порта**\n",
            "\n",
            "Необходимо:\n",
            "1. Отсканировать штрих-код перехода на заводские настройки, чтобы сбросить настройки сканера.\n",
            "2. Перевести сканер в режим эмуляции COM.\n",
            "3. Отсканировать штрих-код, добавляющий эмуляцию нажатия клавиши «Enter».\n",
            "\n",
            "Подробная информация доступна в инструкции производителя и на его официальном сайте.\n",
            "\n",
            "**1.1.1 Настройка сканера в режиме эмуляции COM**\n",
            "\n",
            "Необходимо:\n",
            "1. Перейти в «Администрирование» - «Подключаемое оборудование».\n",
            "2. Нажать «Создать».\n",
            "3. В открывшемся окне заполнить поля:\n",
            "   - «Драйвер оборудования» - выбрать «1С: Сканеры штрихкода (COM)»;\n",
            "   - «Организация»;\n",
            "   - «Тип оборудования»;\n",
            "   - «Рабочее место»;\n",
            "   - «Наименование»;\n",
            "   - «Серийный номер».\n",
            "4. Нажать «Записать и закрыть» и «Настроить».\n",
            "5. В открывшемся окне в поле «Порт» выбрать порт сканера, который указан в «Диспетчере устройств» Windows. Если написано, что драйвер не установлен – нажать «Установить драйвер».\n",
            "6. Нажать «Записать и закрыть».\n",
            "\n",
            "Теперь сканер будет работать в «1С» в режиме эмуляции СОМ.\n",
            "\n",
            "**1.2 Перевод сканера для работы в режиме клавиатуры**\n",
            "\n",
            "Необходимо:\n",
            "1. Отсканировать штрих-код перехода на заводские настройки, чтобы сбросить настройки сканера.\n",
            "2. Отсканировать штрих-код, добавляющий эмуляцию нажатия клавиши «Enter».\n",
            "\n",
            "Подробная информация доступна в инструкции производителя и на его официальном сайте.\n",
            "\n",
            "---\n",
            "\n",
            "**2. Настройка работы Станции сканирования с «Терминалом сбора данных» (ТСД)**\n",
            "\n",
            "**2.1 Настройка параметров обмена с ТСД**\n",
            "\n",
            "После установки программы Mobile SMARTS необходимо настроить ее для работы со «Станцией сканирования». Для этого нужно:\n",
            "1. Перейти в «Администрирование» - «Настройки реализации маркированной продукции» - «Обмен с ТСД» - «Настроить параметры обмена с ТСД».\n",
            "2. В открывшемся окне выбрать из выпадающего списка в строке «База ТСД» нужную базу (Mobile SMARTS).\n",
            "\n",
            "Остальные настройки рекомендуем оставить включенными:\n",
            "- «Выгружать номенклатуру при выгрузке документов на ТСД» - при выгрузке документа также будет выгружаться справочник номенклатуры для определения отсканированных позиций.\n",
            "- «Перезаписывать номенклатуру при выгрузке на ТСД» - если стоит галка напротив «Выгружать номенклатуру при выгрузке документов на ТСД», при выгрузке документа номенклатура будет очищаться, а после загружаться заново.\n",
            "- «Удалять КМ перед загрузкой» - если в «Станции сканирования» в документ «Реализация товаров и услуг» уже были добавлены коды маркировки, перед загрузкой документа они будут удалены.\n",
            "- «Удалять документы из ТСД после загрузки» - документы, которые Клиент отсканировал и отправил обратно в «Станцию сканирования», будут автоматически удаляться из ТСД.\n",
            "- «Заполнять количество по данным ТСД» - количество номенклатуры будет браться из ТСД и автоматически проставляться в документ «Реализация товаров и услуг».\n",
            "\n",
            "---\n",
            "\n",
            "**3. Обмен документами «Станции сканирования» с ТСД**\n",
            "\n",
            "Обмениваться документами между «Станцией сканирования» и ТСД можно вручную или автоматически.\n",
            "\n",
            "**3.1 Автоматический способ загрузки/выгрузки документов**\n",
            "\n",
            "Необходимо настроить соответствующее регламентное задание:\n",
            "1. Перейти в «Администрирование» - «Настройки реализации маркированной продукции» - «Обмен с ТСД».\n",
            "2. В открывшемся меню проставить галку напротив «Выполнять обмен с ТСД по расписанию».\n",
            "3. Перейти в «Настроить расписание обмен с ТСД» и заполнить все необходимые поля.\n",
            "4. Нажать «ОК».\n",
            "\n",
            "После сохранения настроек созданные документы «Реализация товаров и услуг» будут уходить на ТСД, а с ТСД в «Станцию сканирования» будут приходить все закрытые на ТСД документы.\n",
            "\n",
            "**3.2 Ручной способ загрузки/выгрузки документов**\n",
            "\n",
            "Чтобы вручную отправлять и принимать документы, необходимо использовать форму «Обмен с ТСД», которая находится в «ЭДО» - «Обмен с ТСД».\n",
            "\n",
            "Чтобы выгрузить документ:\n",
            "- на ТСД, необходимо выбрать его и нажать «Выгрузить документ».\n",
            "- в «Станцию сканирования» из ТСД, необходимо:\n",
            "  1. Нажать «Прочитать документы». Обновится список документов, которые закрыты на ТСД и готовы к передаче в «Станцию сканирования».\n",
            "  2. Выбрать необходимые документы и нажать «Загрузить документы».\n",
            "  3. Открыть документы в «Станции сканирования» и проверить, что документ заполнился данными из ТСД.\n",
            "\n",
            "Чтобы удалить документ из ТСД, нужно нажать «Удалить» на форме «Обмен с ТСД».\n"
          ]
        },
        {
          "output_type": "display_data",
          "data": {
            "text/plain": [
              "<IPython.core.display.HTML object>"
            ],
            "text/html": [
              "<text style=\"color:#0074D9\">Запрос пользователя:</text>"
            ]
          },
          "metadata": {}
        },
        {
          "output_type": "stream",
          "name": "stdout",
          "text": [
            " Как настроить интеграцию станции сканирования со станцией управления заказами?\n",
            "--------------------------------------------------\n"
          ]
        },
        {
          "output_type": "display_data",
          "data": {
            "text/plain": [
              "<IPython.core.display.HTML object>"
            ],
            "text/html": [
              "<text style=\"color:#FF69B4\">Ответ помощника тех поддержки:</text>"
            ]
          },
          "metadata": {}
        },
        {
          "output_type": "stream",
          "name": "stdout",
          "text": [
            "**Инструкция по настройке интеграции «Станции сканирования» со «Станцией управления заказами»**\n",
            "\n",
            "**1. Подготовка к интеграции**\n",
            "\n",
            "Перед началом настройки убедитесь, что у вас установлены последние версии программного обеспечения для обеих систем и что они корректно функционируют. Также проверьте наличие необходимых прав доступа для выполнения всех действий.\n",
            "\n",
            "**2. Настройка параметров интеграции**\n",
            "\n",
            "**2.1 Настройка «Станции сканирования»**\n",
            "\n",
            "1. Перейдите в раздел «Администрирование» в «Станции сканирования».\n",
            "2. Выберите пункт «Настройки интеграции» или аналогичный, в зависимости от версии программного обеспечения.\n",
            "3. В открывшемся окне найдите раздел, посвященный интеграции с «Станцией управления заказами».\n",
            "4. Убедитесь, что включены все необходимые параметры для обмена данными, такие как:\n",
            "   - Автоматическая выгрузка заказов.\n",
            "   - Автоматическая загрузка статусов заказов.\n",
            "   - Настройки для обработки ошибок и уведомлений.\n",
            "\n",
            "**2.2 Настройка «Станции управления заказами»**\n",
            "\n",
            "1. Перейдите в раздел «Настройки» в «Станции управления заказами».\n",
            "2. Найдите пункт, связанный с интеграцией с «Станцией сканирования».\n",
            "3. Убедитесь, что все параметры для приема данных от «Станции сканирования» активированы:\n",
            "   - Настройки для получения информации о сканируемых товарах.\n",
            "   - Настройки для обновления статусов заказов на основе данных из «Станции сканирования».\n",
            "\n",
            "**3. Настройка обмена данными**\n",
            "\n",
            "**3.1 Автоматический обмен данными**\n",
            "\n",
            "1. В «Станции сканирования» перейдите в раздел «Обмен данными» или аналогичный.\n",
            "2. Настройте регламентное задание для автоматического обмена данными с «Станцией управления заказами»:\n",
            "   - Установите расписание для периодической выгрузки и загрузки данных.\n",
            "   - Убедитесь, что выбраны все необходимые параметры для передачи информации о заказах и статусах.\n",
            "\n",
            "**3.2 Ручной обмен данными**\n",
            "\n",
            "Если необходимо выполнить обмен данными вручную:\n",
            "1. В «Станции сканирования» откройте форму «Обмен с Станцией управления заказами».\n",
            "2. Выберите необходимые заказы для выгрузки и нажмите кнопку «Выгрузить».\n",
            "3. В «Станции управления заказами» откройте форму для загрузки данных и выберите загруженные заказы из «Станции сканирования».\n",
            "\n",
            "**4. Тестирование интеграции**\n",
            "\n",
            "После настройки интеграции рекомендуется провести тестирование:\n",
            "1. Создайте тестовый заказ в «Станции управления заказами».\n",
            "2. Сканируйте товары с помощью «Станции сканирования» и проверьте, что информация корректно передается и обновляется в системе управления заказами.\n",
            "3. Убедитесь, что статусы заказов обновляются в обеих системах.\n",
            "\n",
            "**5. Решение возможных проблем**\n",
            "\n",
            "Если возникают проблемы с интеграцией:\n",
            "- Проверьте настройки подключения и параметры обмена данными.\n",
            "- Убедитесь, что обе системы обновлены до последних версий.\n",
            "- Обратитесь к документации или технической поддержке для получения дополнительной информации.\n",
            "\n",
            "Следуя этой инструкции, вы сможете успешно настроить интеграцию между «Станцией сканирования» и «Станцией управления заказами», что позволит оптимизировать процессы обработки заказов и улучшить эффективность работы.\n"
          ]
        },
        {
          "output_type": "display_data",
          "data": {
            "text/plain": [
              "<IPython.core.display.HTML object>"
            ],
            "text/html": [
              "<text style=\"color:#2ECC40\">Данные успешно сохранены в Google Drive.</text>"
            ]
          },
          "metadata": {}
        },
        {
          "output_type": "stream",
          "name": "stdout",
          "text": [
            "url: https://docs.google.com/spreadsheets/d/1607FPIz2-SOwR31rPYlFkYrOo37q9rC9xixcoEo5G8E/edit?usp=sharing\n"
          ]
        }
      ]
    }
  ]
}